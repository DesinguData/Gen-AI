{
  "cells": [
    {
      "cell_type": "code",
      "execution_count": null,
      "metadata": {
        "colab": {
          "base_uri": "https://localhost:8080/"
        },
        "id": "3UqrJoso_m24",
        "outputId": "fa622d02-dda7-4288-cdc0-56c05f870c99"
      },
      "outputs": [
        {
          "output_type": "stream",
          "name": "stdout",
          "text": [
            "Mounted at /content/drive\n"
          ]
        }
      ],
      "source": [
        "from google.colab import drive\n",
        "drive.mount('/content/drive')"
      ]
    },
    {
      "cell_type": "code",
      "execution_count": null,
      "metadata": {
        "id": "qfF3uJDHdJX9"
      },
      "outputs": [],
      "source": [
        "model_file = \"/content/drive/MyDrive/Project File/llama-2-7b-chat.ggmlv3.q8_0.bin\""
      ]
    },
    {
      "cell_type": "code",
      "execution_count": null,
      "metadata": {
        "id": "CyBdJPb0dmjq"
      },
      "outputs": [],
      "source": [
        "# Install required packages"
      ]
    },
    {
      "cell_type": "code",
      "execution_count": null,
      "metadata": {
        "colab": {
          "base_uri": "https://localhost:8080/"
        },
        "id": "Ae27WZCNgFjn",
        "outputId": "1786326c-9625-484d-a838-01ba501e4113"
      },
      "outputs": [
        {
          "output_type": "stream",
          "name": "stdout",
          "text": [
            "Requirement already satisfied: langchain in /usr/local/lib/python3.10/dist-packages (0.3.9)\n",
            "Requirement already satisfied: PyYAML>=5.3 in /usr/local/lib/python3.10/dist-packages (from langchain) (6.0.2)\n",
            "Requirement already satisfied: SQLAlchemy<3,>=1.4 in /usr/local/lib/python3.10/dist-packages (from langchain) (2.0.36)\n",
            "Requirement already satisfied: aiohttp<4.0.0,>=3.8.3 in /usr/local/lib/python3.10/dist-packages (from langchain) (3.11.9)\n",
            "Requirement already satisfied: async-timeout<5.0.0,>=4.0.0 in /usr/local/lib/python3.10/dist-packages (from langchain) (4.0.3)\n",
            "Requirement already satisfied: langchain-core<0.4.0,>=0.3.21 in /usr/local/lib/python3.10/dist-packages (from langchain) (0.3.21)\n",
            "Requirement already satisfied: langchain-text-splitters<0.4.0,>=0.3.0 in /usr/local/lib/python3.10/dist-packages (from langchain) (0.3.2)\n",
            "Requirement already satisfied: langsmith<0.2.0,>=0.1.17 in /usr/local/lib/python3.10/dist-packages (from langchain) (0.1.147)\n",
            "Requirement already satisfied: numpy<2,>=1.22.4 in /usr/local/lib/python3.10/dist-packages (from langchain) (1.26.4)\n",
            "Requirement already satisfied: pydantic<3.0.0,>=2.7.4 in /usr/local/lib/python3.10/dist-packages (from langchain) (2.10.3)\n",
            "Requirement already satisfied: requests<3,>=2 in /usr/local/lib/python3.10/dist-packages (from langchain) (2.32.3)\n",
            "Requirement already satisfied: tenacity!=8.4.0,<10,>=8.1.0 in /usr/local/lib/python3.10/dist-packages (from langchain) (9.0.0)\n",
            "Requirement already satisfied: aiohappyeyeballs>=2.3.0 in /usr/local/lib/python3.10/dist-packages (from aiohttp<4.0.0,>=3.8.3->langchain) (2.4.4)\n",
            "Requirement already satisfied: aiosignal>=1.1.2 in /usr/local/lib/python3.10/dist-packages (from aiohttp<4.0.0,>=3.8.3->langchain) (1.3.1)\n",
            "Requirement already satisfied: attrs>=17.3.0 in /usr/local/lib/python3.10/dist-packages (from aiohttp<4.0.0,>=3.8.3->langchain) (24.2.0)\n",
            "Requirement already satisfied: frozenlist>=1.1.1 in /usr/local/lib/python3.10/dist-packages (from aiohttp<4.0.0,>=3.8.3->langchain) (1.5.0)\n",
            "Requirement already satisfied: multidict<7.0,>=4.5 in /usr/local/lib/python3.10/dist-packages (from aiohttp<4.0.0,>=3.8.3->langchain) (6.1.0)\n",
            "Requirement already satisfied: propcache>=0.2.0 in /usr/local/lib/python3.10/dist-packages (from aiohttp<4.0.0,>=3.8.3->langchain) (0.2.1)\n",
            "Requirement already satisfied: yarl<2.0,>=1.17.0 in /usr/local/lib/python3.10/dist-packages (from aiohttp<4.0.0,>=3.8.3->langchain) (1.18.3)\n",
            "Requirement already satisfied: jsonpatch<2.0,>=1.33 in /usr/local/lib/python3.10/dist-packages (from langchain-core<0.4.0,>=0.3.21->langchain) (1.33)\n",
            "Requirement already satisfied: packaging<25,>=23.2 in /usr/local/lib/python3.10/dist-packages (from langchain-core<0.4.0,>=0.3.21->langchain) (24.2)\n",
            "Requirement already satisfied: typing-extensions>=4.7 in /usr/local/lib/python3.10/dist-packages (from langchain-core<0.4.0,>=0.3.21->langchain) (4.12.2)\n",
            "Requirement already satisfied: httpx<1,>=0.23.0 in /usr/local/lib/python3.10/dist-packages (from langsmith<0.2.0,>=0.1.17->langchain) (0.28.0)\n",
            "Requirement already satisfied: orjson<4.0.0,>=3.9.14 in /usr/local/lib/python3.10/dist-packages (from langsmith<0.2.0,>=0.1.17->langchain) (3.10.12)\n",
            "Requirement already satisfied: requests-toolbelt<2.0.0,>=1.0.0 in /usr/local/lib/python3.10/dist-packages (from langsmith<0.2.0,>=0.1.17->langchain) (1.0.0)\n",
            "Requirement already satisfied: annotated-types>=0.6.0 in /usr/local/lib/python3.10/dist-packages (from pydantic<3.0.0,>=2.7.4->langchain) (0.7.0)\n",
            "Requirement already satisfied: pydantic-core==2.27.1 in /usr/local/lib/python3.10/dist-packages (from pydantic<3.0.0,>=2.7.4->langchain) (2.27.1)\n",
            "Requirement already satisfied: charset-normalizer<4,>=2 in /usr/local/lib/python3.10/dist-packages (from requests<3,>=2->langchain) (3.4.0)\n",
            "Requirement already satisfied: idna<4,>=2.5 in /usr/local/lib/python3.10/dist-packages (from requests<3,>=2->langchain) (3.10)\n",
            "Requirement already satisfied: urllib3<3,>=1.21.1 in /usr/local/lib/python3.10/dist-packages (from requests<3,>=2->langchain) (2.2.3)\n",
            "Requirement already satisfied: certifi>=2017.4.17 in /usr/local/lib/python3.10/dist-packages (from requests<3,>=2->langchain) (2024.8.30)\n",
            "Requirement already satisfied: greenlet!=0.4.17 in /usr/local/lib/python3.10/dist-packages (from SQLAlchemy<3,>=1.4->langchain) (3.1.1)\n",
            "Requirement already satisfied: anyio in /usr/local/lib/python3.10/dist-packages (from httpx<1,>=0.23.0->langsmith<0.2.0,>=0.1.17->langchain) (3.7.1)\n",
            "Requirement already satisfied: httpcore==1.* in /usr/local/lib/python3.10/dist-packages (from httpx<1,>=0.23.0->langsmith<0.2.0,>=0.1.17->langchain) (1.0.7)\n",
            "Requirement already satisfied: h11<0.15,>=0.13 in /usr/local/lib/python3.10/dist-packages (from httpcore==1.*->httpx<1,>=0.23.0->langsmith<0.2.0,>=0.1.17->langchain) (0.14.0)\n",
            "Requirement already satisfied: jsonpointer>=1.9 in /usr/local/lib/python3.10/dist-packages (from jsonpatch<2.0,>=1.33->langchain-core<0.4.0,>=0.3.21->langchain) (3.0.0)\n",
            "Requirement already satisfied: sniffio>=1.1 in /usr/local/lib/python3.10/dist-packages (from anyio->httpx<1,>=0.23.0->langsmith<0.2.0,>=0.1.17->langchain) (1.3.1)\n",
            "Requirement already satisfied: exceptiongroup in /usr/local/lib/python3.10/dist-packages (from anyio->httpx<1,>=0.23.0->langsmith<0.2.0,>=0.1.17->langchain) (1.2.2)\n"
          ]
        }
      ],
      "source": [
        "!pip install langchain"
      ]
    },
    {
      "cell_type": "code",
      "execution_count": null,
      "metadata": {
        "colab": {
          "base_uri": "https://localhost:8080/"
        },
        "id": "ldD_nu-rhNDZ",
        "outputId": "52ad9f4c-0e75-4541-99ff-0781c03accc2"
      },
      "outputs": [
        {
          "output_type": "stream",
          "name": "stdout",
          "text": [
            "Collecting pypdf\n",
            "  Downloading pypdf-5.1.0-py3-none-any.whl.metadata (7.2 kB)\n",
            "Requirement already satisfied: typing_extensions>=4.0 in /usr/local/lib/python3.10/dist-packages (from pypdf) (4.12.2)\n",
            "Downloading pypdf-5.1.0-py3-none-any.whl (297 kB)\n",
            "\u001b[?25l   \u001b[90m━━━━━━━━━━━━━━━━━━━━━━━━━━━━━━━━━━━━━━━━\u001b[0m \u001b[32m0.0/298.0 kB\u001b[0m \u001b[31m?\u001b[0m eta \u001b[36m-:--:--\u001b[0m\r\u001b[2K   \u001b[90m━━━━━━━━━━━━━━━━━━━━━━━━━━━━━━━━━━━━━━━━\u001b[0m \u001b[32m298.0/298.0 kB\u001b[0m \u001b[31m17.0 MB/s\u001b[0m eta \u001b[36m0:00:00\u001b[0m\n",
            "\u001b[?25hInstalling collected packages: pypdf\n",
            "Successfully installed pypdf-5.1.0\n"
          ]
        }
      ],
      "source": [
        "!pip install pypdf"
      ]
    },
    {
      "cell_type": "code",
      "execution_count": null,
      "metadata": {
        "colab": {
          "base_uri": "https://localhost:8080/"
        },
        "id": "mtc8p9EGhU-Q",
        "outputId": "b2c40d64-9883-4e06-b5f6-f0fee6dda9ae"
      },
      "outputs": [
        {
          "output_type": "stream",
          "name": "stdout",
          "text": [
            "Requirement already satisfied: sentence-transformers in /usr/local/lib/python3.10/dist-packages (3.2.1)\n",
            "Requirement already satisfied: transformers<5.0.0,>=4.41.0 in /usr/local/lib/python3.10/dist-packages (from sentence-transformers) (4.46.3)\n",
            "Requirement already satisfied: tqdm in /usr/local/lib/python3.10/dist-packages (from sentence-transformers) (4.66.6)\n",
            "Requirement already satisfied: torch>=1.11.0 in /usr/local/lib/python3.10/dist-packages (from sentence-transformers) (2.5.1+cu121)\n",
            "Requirement already satisfied: scikit-learn in /usr/local/lib/python3.10/dist-packages (from sentence-transformers) (1.5.2)\n",
            "Requirement already satisfied: scipy in /usr/local/lib/python3.10/dist-packages (from sentence-transformers) (1.13.1)\n",
            "Requirement already satisfied: huggingface-hub>=0.20.0 in /usr/local/lib/python3.10/dist-packages (from sentence-transformers) (0.26.3)\n",
            "Requirement already satisfied: Pillow in /usr/local/lib/python3.10/dist-packages (from sentence-transformers) (11.0.0)\n",
            "Requirement already satisfied: filelock in /usr/local/lib/python3.10/dist-packages (from huggingface-hub>=0.20.0->sentence-transformers) (3.16.1)\n",
            "Requirement already satisfied: fsspec>=2023.5.0 in /usr/local/lib/python3.10/dist-packages (from huggingface-hub>=0.20.0->sentence-transformers) (2024.10.0)\n",
            "Requirement already satisfied: packaging>=20.9 in /usr/local/lib/python3.10/dist-packages (from huggingface-hub>=0.20.0->sentence-transformers) (24.2)\n",
            "Requirement already satisfied: pyyaml>=5.1 in /usr/local/lib/python3.10/dist-packages (from huggingface-hub>=0.20.0->sentence-transformers) (6.0.2)\n",
            "Requirement already satisfied: requests in /usr/local/lib/python3.10/dist-packages (from huggingface-hub>=0.20.0->sentence-transformers) (2.32.3)\n",
            "Requirement already satisfied: typing-extensions>=3.7.4.3 in /usr/local/lib/python3.10/dist-packages (from huggingface-hub>=0.20.0->sentence-transformers) (4.12.2)\n",
            "Requirement already satisfied: networkx in /usr/local/lib/python3.10/dist-packages (from torch>=1.11.0->sentence-transformers) (3.4.2)\n",
            "Requirement already satisfied: jinja2 in /usr/local/lib/python3.10/dist-packages (from torch>=1.11.0->sentence-transformers) (3.1.4)\n",
            "Requirement already satisfied: sympy==1.13.1 in /usr/local/lib/python3.10/dist-packages (from torch>=1.11.0->sentence-transformers) (1.13.1)\n",
            "Requirement already satisfied: mpmath<1.4,>=1.1.0 in /usr/local/lib/python3.10/dist-packages (from sympy==1.13.1->torch>=1.11.0->sentence-transformers) (1.3.0)\n",
            "Requirement already satisfied: numpy>=1.17 in /usr/local/lib/python3.10/dist-packages (from transformers<5.0.0,>=4.41.0->sentence-transformers) (1.26.4)\n",
            "Requirement already satisfied: regex!=2019.12.17 in /usr/local/lib/python3.10/dist-packages (from transformers<5.0.0,>=4.41.0->sentence-transformers) (2024.9.11)\n",
            "Requirement already satisfied: tokenizers<0.21,>=0.20 in /usr/local/lib/python3.10/dist-packages (from transformers<5.0.0,>=4.41.0->sentence-transformers) (0.20.3)\n",
            "Requirement already satisfied: safetensors>=0.4.1 in /usr/local/lib/python3.10/dist-packages (from transformers<5.0.0,>=4.41.0->sentence-transformers) (0.4.5)\n",
            "Requirement already satisfied: joblib>=1.2.0 in /usr/local/lib/python3.10/dist-packages (from scikit-learn->sentence-transformers) (1.4.2)\n",
            "Requirement already satisfied: threadpoolctl>=3.1.0 in /usr/local/lib/python3.10/dist-packages (from scikit-learn->sentence-transformers) (3.5.0)\n",
            "Requirement already satisfied: MarkupSafe>=2.0 in /usr/local/lib/python3.10/dist-packages (from jinja2->torch>=1.11.0->sentence-transformers) (3.0.2)\n",
            "Requirement already satisfied: charset-normalizer<4,>=2 in /usr/local/lib/python3.10/dist-packages (from requests->huggingface-hub>=0.20.0->sentence-transformers) (3.4.0)\n",
            "Requirement already satisfied: idna<4,>=2.5 in /usr/local/lib/python3.10/dist-packages (from requests->huggingface-hub>=0.20.0->sentence-transformers) (3.10)\n",
            "Requirement already satisfied: urllib3<3,>=1.21.1 in /usr/local/lib/python3.10/dist-packages (from requests->huggingface-hub>=0.20.0->sentence-transformers) (2.2.3)\n",
            "Requirement already satisfied: certifi>=2017.4.17 in /usr/local/lib/python3.10/dist-packages (from requests->huggingface-hub>=0.20.0->sentence-transformers) (2024.8.30)\n"
          ]
        }
      ],
      "source": [
        "!pip install sentence-transformers"
      ]
    },
    {
      "cell_type": "code",
      "execution_count": null,
      "metadata": {
        "colab": {
          "base_uri": "https://localhost:8080/"
        },
        "id": "SgrkRCg6hci6",
        "outputId": "46468c2b-8a84-4413-8dbd-d632387351c7"
      },
      "outputs": [
        {
          "output_type": "stream",
          "name": "stdout",
          "text": [
            "Collecting langchain_community\n",
            "  Downloading langchain_community-0.3.10-py3-none-any.whl.metadata (2.9 kB)\n",
            "Requirement already satisfied: PyYAML>=5.3 in /usr/local/lib/python3.10/dist-packages (from langchain_community) (6.0.2)\n",
            "Requirement already satisfied: SQLAlchemy<3,>=1.4 in /usr/local/lib/python3.10/dist-packages (from langchain_community) (2.0.36)\n",
            "Requirement already satisfied: aiohttp<4.0.0,>=3.8.3 in /usr/local/lib/python3.10/dist-packages (from langchain_community) (3.11.9)\n",
            "Collecting dataclasses-json<0.7,>=0.5.7 (from langchain_community)\n",
            "  Downloading dataclasses_json-0.6.7-py3-none-any.whl.metadata (25 kB)\n",
            "Collecting httpx-sse<0.5.0,>=0.4.0 (from langchain_community)\n",
            "  Downloading httpx_sse-0.4.0-py3-none-any.whl.metadata (9.0 kB)\n",
            "Collecting langchain<0.4.0,>=0.3.10 (from langchain_community)\n",
            "  Downloading langchain-0.3.10-py3-none-any.whl.metadata (7.1 kB)\n",
            "Collecting langchain-core<0.4.0,>=0.3.22 (from langchain_community)\n",
            "  Downloading langchain_core-0.3.22-py3-none-any.whl.metadata (6.3 kB)\n",
            "Requirement already satisfied: langsmith<0.2.0,>=0.1.125 in /usr/local/lib/python3.10/dist-packages (from langchain_community) (0.1.147)\n",
            "Requirement already satisfied: numpy<2,>=1.22.4 in /usr/local/lib/python3.10/dist-packages (from langchain_community) (1.26.4)\n",
            "Collecting pydantic-settings<3.0.0,>=2.4.0 (from langchain_community)\n",
            "  Downloading pydantic_settings-2.6.1-py3-none-any.whl.metadata (3.5 kB)\n",
            "Requirement already satisfied: requests<3,>=2 in /usr/local/lib/python3.10/dist-packages (from langchain_community) (2.32.3)\n",
            "Requirement already satisfied: tenacity!=8.4.0,<10,>=8.1.0 in /usr/local/lib/python3.10/dist-packages (from langchain_community) (9.0.0)\n",
            "Requirement already satisfied: aiohappyeyeballs>=2.3.0 in /usr/local/lib/python3.10/dist-packages (from aiohttp<4.0.0,>=3.8.3->langchain_community) (2.4.4)\n",
            "Requirement already satisfied: aiosignal>=1.1.2 in /usr/local/lib/python3.10/dist-packages (from aiohttp<4.0.0,>=3.8.3->langchain_community) (1.3.1)\n",
            "Requirement already satisfied: async-timeout<6.0,>=4.0 in /usr/local/lib/python3.10/dist-packages (from aiohttp<4.0.0,>=3.8.3->langchain_community) (4.0.3)\n",
            "Requirement already satisfied: attrs>=17.3.0 in /usr/local/lib/python3.10/dist-packages (from aiohttp<4.0.0,>=3.8.3->langchain_community) (24.2.0)\n",
            "Requirement already satisfied: frozenlist>=1.1.1 in /usr/local/lib/python3.10/dist-packages (from aiohttp<4.0.0,>=3.8.3->langchain_community) (1.5.0)\n",
            "Requirement already satisfied: multidict<7.0,>=4.5 in /usr/local/lib/python3.10/dist-packages (from aiohttp<4.0.0,>=3.8.3->langchain_community) (6.1.0)\n",
            "Requirement already satisfied: propcache>=0.2.0 in /usr/local/lib/python3.10/dist-packages (from aiohttp<4.0.0,>=3.8.3->langchain_community) (0.2.1)\n",
            "Requirement already satisfied: yarl<2.0,>=1.17.0 in /usr/local/lib/python3.10/dist-packages (from aiohttp<4.0.0,>=3.8.3->langchain_community) (1.18.3)\n",
            "Collecting marshmallow<4.0.0,>=3.18.0 (from dataclasses-json<0.7,>=0.5.7->langchain_community)\n",
            "  Downloading marshmallow-3.23.1-py3-none-any.whl.metadata (7.5 kB)\n",
            "Collecting typing-inspect<1,>=0.4.0 (from dataclasses-json<0.7,>=0.5.7->langchain_community)\n",
            "  Downloading typing_inspect-0.9.0-py3-none-any.whl.metadata (1.5 kB)\n",
            "Requirement already satisfied: langchain-text-splitters<0.4.0,>=0.3.0 in /usr/local/lib/python3.10/dist-packages (from langchain<0.4.0,>=0.3.10->langchain_community) (0.3.2)\n",
            "Requirement already satisfied: pydantic<3.0.0,>=2.7.4 in /usr/local/lib/python3.10/dist-packages (from langchain<0.4.0,>=0.3.10->langchain_community) (2.10.3)\n",
            "Requirement already satisfied: jsonpatch<2.0,>=1.33 in /usr/local/lib/python3.10/dist-packages (from langchain-core<0.4.0,>=0.3.22->langchain_community) (1.33)\n",
            "Requirement already satisfied: packaging<25,>=23.2 in /usr/local/lib/python3.10/dist-packages (from langchain-core<0.4.0,>=0.3.22->langchain_community) (24.2)\n",
            "Requirement already satisfied: typing-extensions>=4.7 in /usr/local/lib/python3.10/dist-packages (from langchain-core<0.4.0,>=0.3.22->langchain_community) (4.12.2)\n",
            "Requirement already satisfied: httpx<1,>=0.23.0 in /usr/local/lib/python3.10/dist-packages (from langsmith<0.2.0,>=0.1.125->langchain_community) (0.28.0)\n",
            "Requirement already satisfied: orjson<4.0.0,>=3.9.14 in /usr/local/lib/python3.10/dist-packages (from langsmith<0.2.0,>=0.1.125->langchain_community) (3.10.12)\n",
            "Requirement already satisfied: requests-toolbelt<2.0.0,>=1.0.0 in /usr/local/lib/python3.10/dist-packages (from langsmith<0.2.0,>=0.1.125->langchain_community) (1.0.0)\n",
            "Collecting python-dotenv>=0.21.0 (from pydantic-settings<3.0.0,>=2.4.0->langchain_community)\n",
            "  Downloading python_dotenv-1.0.1-py3-none-any.whl.metadata (23 kB)\n",
            "Requirement already satisfied: charset-normalizer<4,>=2 in /usr/local/lib/python3.10/dist-packages (from requests<3,>=2->langchain_community) (3.4.0)\n",
            "Requirement already satisfied: idna<4,>=2.5 in /usr/local/lib/python3.10/dist-packages (from requests<3,>=2->langchain_community) (3.10)\n",
            "Requirement already satisfied: urllib3<3,>=1.21.1 in /usr/local/lib/python3.10/dist-packages (from requests<3,>=2->langchain_community) (2.2.3)\n",
            "Requirement already satisfied: certifi>=2017.4.17 in /usr/local/lib/python3.10/dist-packages (from requests<3,>=2->langchain_community) (2024.8.30)\n",
            "Requirement already satisfied: greenlet!=0.4.17 in /usr/local/lib/python3.10/dist-packages (from SQLAlchemy<3,>=1.4->langchain_community) (3.1.1)\n",
            "Requirement already satisfied: anyio in /usr/local/lib/python3.10/dist-packages (from httpx<1,>=0.23.0->langsmith<0.2.0,>=0.1.125->langchain_community) (3.7.1)\n",
            "Requirement already satisfied: httpcore==1.* in /usr/local/lib/python3.10/dist-packages (from httpx<1,>=0.23.0->langsmith<0.2.0,>=0.1.125->langchain_community) (1.0.7)\n",
            "Requirement already satisfied: h11<0.15,>=0.13 in /usr/local/lib/python3.10/dist-packages (from httpcore==1.*->httpx<1,>=0.23.0->langsmith<0.2.0,>=0.1.125->langchain_community) (0.14.0)\n",
            "Requirement already satisfied: jsonpointer>=1.9 in /usr/local/lib/python3.10/dist-packages (from jsonpatch<2.0,>=1.33->langchain-core<0.4.0,>=0.3.22->langchain_community) (3.0.0)\n",
            "Requirement already satisfied: annotated-types>=0.6.0 in /usr/local/lib/python3.10/dist-packages (from pydantic<3.0.0,>=2.7.4->langchain<0.4.0,>=0.3.10->langchain_community) (0.7.0)\n",
            "Requirement already satisfied: pydantic-core==2.27.1 in /usr/local/lib/python3.10/dist-packages (from pydantic<3.0.0,>=2.7.4->langchain<0.4.0,>=0.3.10->langchain_community) (2.27.1)\n",
            "Collecting mypy-extensions>=0.3.0 (from typing-inspect<1,>=0.4.0->dataclasses-json<0.7,>=0.5.7->langchain_community)\n",
            "  Downloading mypy_extensions-1.0.0-py3-none-any.whl.metadata (1.1 kB)\n",
            "Requirement already satisfied: sniffio>=1.1 in /usr/local/lib/python3.10/dist-packages (from anyio->httpx<1,>=0.23.0->langsmith<0.2.0,>=0.1.125->langchain_community) (1.3.1)\n",
            "Requirement already satisfied: exceptiongroup in /usr/local/lib/python3.10/dist-packages (from anyio->httpx<1,>=0.23.0->langsmith<0.2.0,>=0.1.125->langchain_community) (1.2.2)\n",
            "Downloading langchain_community-0.3.10-py3-none-any.whl (2.4 MB)\n",
            "\u001b[2K   \u001b[90m━━━━━━━━━━━━━━━━━━━━━━━━━━━━━━━━━━━━━━━━\u001b[0m \u001b[32m2.4/2.4 MB\u001b[0m \u001b[31m27.1 MB/s\u001b[0m eta \u001b[36m0:00:00\u001b[0m\n",
            "\u001b[?25hDownloading dataclasses_json-0.6.7-py3-none-any.whl (28 kB)\n",
            "Downloading httpx_sse-0.4.0-py3-none-any.whl (7.8 kB)\n",
            "Downloading langchain-0.3.10-py3-none-any.whl (1.0 MB)\n",
            "\u001b[2K   \u001b[90m━━━━━━━━━━━━━━━━━━━━━━━━━━━━━━━━━━━━━━━━\u001b[0m \u001b[32m1.0/1.0 MB\u001b[0m \u001b[31m20.5 MB/s\u001b[0m eta \u001b[36m0:00:00\u001b[0m\n",
            "\u001b[?25hDownloading langchain_core-0.3.22-py3-none-any.whl (409 kB)\n",
            "\u001b[2K   \u001b[90m━━━━━━━━━━━━━━━━━━━━━━━━━━━━━━━━━━━━━━━━\u001b[0m \u001b[32m409.7/409.7 kB\u001b[0m \u001b[31m21.7 MB/s\u001b[0m eta \u001b[36m0:00:00\u001b[0m\n",
            "\u001b[?25hDownloading pydantic_settings-2.6.1-py3-none-any.whl (28 kB)\n",
            "Downloading marshmallow-3.23.1-py3-none-any.whl (49 kB)\n",
            "\u001b[2K   \u001b[90m━━━━━━━━━━━━━━━━━━━━━━━━━━━━━━━━━━━━━━━━\u001b[0m \u001b[32m49.5/49.5 kB\u001b[0m \u001b[31m3.9 MB/s\u001b[0m eta \u001b[36m0:00:00\u001b[0m\n",
            "\u001b[?25hDownloading python_dotenv-1.0.1-py3-none-any.whl (19 kB)\n",
            "Downloading typing_inspect-0.9.0-py3-none-any.whl (8.8 kB)\n",
            "Downloading mypy_extensions-1.0.0-py3-none-any.whl (4.7 kB)\n",
            "Installing collected packages: python-dotenv, mypy-extensions, marshmallow, httpx-sse, typing-inspect, pydantic-settings, dataclasses-json, langchain-core, langchain, langchain_community\n",
            "  Attempting uninstall: langchain-core\n",
            "    Found existing installation: langchain-core 0.3.21\n",
            "    Uninstalling langchain-core-0.3.21:\n",
            "      Successfully uninstalled langchain-core-0.3.21\n",
            "  Attempting uninstall: langchain\n",
            "    Found existing installation: langchain 0.3.9\n",
            "    Uninstalling langchain-0.3.9:\n",
            "      Successfully uninstalled langchain-0.3.9\n",
            "Successfully installed dataclasses-json-0.6.7 httpx-sse-0.4.0 langchain-0.3.10 langchain-core-0.3.22 langchain_community-0.3.10 marshmallow-3.23.1 mypy-extensions-1.0.0 pydantic-settings-2.6.1 python-dotenv-1.0.1 typing-inspect-0.9.0\n"
          ]
        }
      ],
      "source": [
        "!pip install langchain_community"
      ]
    },
    {
      "cell_type": "code",
      "execution_count": null,
      "metadata": {
        "colab": {
          "base_uri": "https://localhost:8080/"
        },
        "id": "4EzUX1SxhmV-",
        "outputId": "1f7beb95-9443-4620-929a-c710f78073f2"
      },
      "outputs": [
        {
          "output_type": "stream",
          "name": "stdout",
          "text": [
            "Collecting ctransformers\n",
            "  Downloading ctransformers-0.2.27-py3-none-any.whl.metadata (17 kB)\n",
            "Requirement already satisfied: huggingface-hub in /usr/local/lib/python3.10/dist-packages (from ctransformers) (0.26.3)\n",
            "Requirement already satisfied: py-cpuinfo<10.0.0,>=9.0.0 in /usr/local/lib/python3.10/dist-packages (from ctransformers) (9.0.0)\n",
            "Requirement already satisfied: filelock in /usr/local/lib/python3.10/dist-packages (from huggingface-hub->ctransformers) (3.16.1)\n",
            "Requirement already satisfied: fsspec>=2023.5.0 in /usr/local/lib/python3.10/dist-packages (from huggingface-hub->ctransformers) (2024.10.0)\n",
            "Requirement already satisfied: packaging>=20.9 in /usr/local/lib/python3.10/dist-packages (from huggingface-hub->ctransformers) (24.2)\n",
            "Requirement already satisfied: pyyaml>=5.1 in /usr/local/lib/python3.10/dist-packages (from huggingface-hub->ctransformers) (6.0.2)\n",
            "Requirement already satisfied: requests in /usr/local/lib/python3.10/dist-packages (from huggingface-hub->ctransformers) (2.32.3)\n",
            "Requirement already satisfied: tqdm>=4.42.1 in /usr/local/lib/python3.10/dist-packages (from huggingface-hub->ctransformers) (4.66.6)\n",
            "Requirement already satisfied: typing-extensions>=3.7.4.3 in /usr/local/lib/python3.10/dist-packages (from huggingface-hub->ctransformers) (4.12.2)\n",
            "Requirement already satisfied: charset-normalizer<4,>=2 in /usr/local/lib/python3.10/dist-packages (from requests->huggingface-hub->ctransformers) (3.4.0)\n",
            "Requirement already satisfied: idna<4,>=2.5 in /usr/local/lib/python3.10/dist-packages (from requests->huggingface-hub->ctransformers) (3.10)\n",
            "Requirement already satisfied: urllib3<3,>=1.21.1 in /usr/local/lib/python3.10/dist-packages (from requests->huggingface-hub->ctransformers) (2.2.3)\n",
            "Requirement already satisfied: certifi>=2017.4.17 in /usr/local/lib/python3.10/dist-packages (from requests->huggingface-hub->ctransformers) (2024.8.30)\n",
            "Downloading ctransformers-0.2.27-py3-none-any.whl (9.9 MB)\n",
            "\u001b[2K   \u001b[90m━━━━━━━━━━━━━━━━━━━━━━━━━━━━━━━━━━━━━━━━\u001b[0m \u001b[32m9.9/9.9 MB\u001b[0m \u001b[31m57.2 MB/s\u001b[0m eta \u001b[36m0:00:00\u001b[0m\n",
            "\u001b[?25hInstalling collected packages: ctransformers\n",
            "Successfully installed ctransformers-0.2.27\n"
          ]
        }
      ],
      "source": [
        "!pip install ctransformers"
      ]
    },
    {
      "cell_type": "code",
      "execution_count": null,
      "metadata": {
        "colab": {
          "base_uri": "https://localhost:8080/"
        },
        "id": "-HYRsEJqh1AY",
        "outputId": "5b39ff17-dfc4-4ab9-dd14-6b85e2424495"
      },
      "outputs": [
        {
          "output_type": "stream",
          "name": "stdout",
          "text": [
            "Collecting faiss-gpu\n",
            "  Downloading faiss_gpu-1.7.2-cp310-cp310-manylinux_2_17_x86_64.manylinux2014_x86_64.whl.metadata (1.4 kB)\n",
            "Downloading faiss_gpu-1.7.2-cp310-cp310-manylinux_2_17_x86_64.manylinux2014_x86_64.whl (85.5 MB)\n",
            "\u001b[2K   \u001b[90m━━━━━━━━━━━━━━━━━━━━━━━━━━━━━━━━━━━━━━━━\u001b[0m \u001b[32m85.5/85.5 MB\u001b[0m \u001b[31m8.0 MB/s\u001b[0m eta \u001b[36m0:00:00\u001b[0m\n",
            "\u001b[?25hInstalling collected packages: faiss-gpu\n",
            "Successfully installed faiss-gpu-1.7.2\n"
          ]
        }
      ],
      "source": [
        "!pip install faiss-gpu"
      ]
    },
    {
      "cell_type": "code",
      "execution_count": null,
      "metadata": {
        "colab": {
          "base_uri": "https://localhost:8080/"
        },
        "id": "02pMLUt_Afxf",
        "outputId": "e205297b-b7ce-4ad6-a284-726fd2f81a06"
      },
      "outputs": [
        {
          "output_type": "stream",
          "name": "stdout",
          "text": [
            "Collecting box\n",
            "  Downloading box-0.1.5-py3-none-any.whl.metadata (1.6 kB)\n",
            "Requirement already satisfied: aiohttp>=3.8.1 in /usr/local/lib/python3.10/dist-packages (from box) (3.11.9)\n",
            "Collecting columnar==1.3.1 (from box)\n",
            "  Downloading Columnar-1.3.1-py3-none-any.whl.metadata (11 kB)\n",
            "Collecting executing==0.8.2 (from box)\n",
            "  Downloading executing-0.8.2-py2.py3-none-any.whl.metadata (8.4 kB)\n",
            "Collecting loguru (from box)\n",
            "  Downloading loguru-0.7.3-py3-none-any.whl.metadata (22 kB)\n",
            "Requirement already satisfied: python-dateutil==2.8.2 in /usr/local/lib/python3.10/dist-packages (from box) (2.8.2)\n",
            "Collecting timeago==1.0.14 (from box)\n",
            "  Downloading timeago-1.0.14.tar.gz (24 kB)\n",
            "  Preparing metadata (setup.py) ... \u001b[?25l\u001b[?25hdone\n",
            "Collecting pysqlite3-binary (from box)\n",
            "  Downloading pysqlite3_binary-0.5.4-cp310-cp310-manylinux_2_17_x86_64.manylinux2014_x86_64.whl.metadata (766 bytes)\n",
            "Requirement already satisfied: toolz in /usr/local/lib/python3.10/dist-packages (from columnar==1.3.1->box) (0.12.1)\n",
            "Requirement already satisfied: wcwidth in /usr/local/lib/python3.10/dist-packages (from columnar==1.3.1->box) (0.2.13)\n",
            "Requirement already satisfied: six>=1.5 in /usr/local/lib/python3.10/dist-packages (from python-dateutil==2.8.2->box) (1.16.0)\n",
            "Requirement already satisfied: aiohappyeyeballs>=2.3.0 in /usr/local/lib/python3.10/dist-packages (from aiohttp>=3.8.1->box) (2.4.4)\n",
            "Requirement already satisfied: aiosignal>=1.1.2 in /usr/local/lib/python3.10/dist-packages (from aiohttp>=3.8.1->box) (1.3.1)\n",
            "Requirement already satisfied: async-timeout<6.0,>=4.0 in /usr/local/lib/python3.10/dist-packages (from aiohttp>=3.8.1->box) (4.0.3)\n",
            "Requirement already satisfied: attrs>=17.3.0 in /usr/local/lib/python3.10/dist-packages (from aiohttp>=3.8.1->box) (24.2.0)\n",
            "Requirement already satisfied: frozenlist>=1.1.1 in /usr/local/lib/python3.10/dist-packages (from aiohttp>=3.8.1->box) (1.5.0)\n",
            "Requirement already satisfied: multidict<7.0,>=4.5 in /usr/local/lib/python3.10/dist-packages (from aiohttp>=3.8.1->box) (6.1.0)\n",
            "Requirement already satisfied: propcache>=0.2.0 in /usr/local/lib/python3.10/dist-packages (from aiohttp>=3.8.1->box) (0.2.1)\n",
            "Requirement already satisfied: yarl<2.0,>=1.17.0 in /usr/local/lib/python3.10/dist-packages (from aiohttp>=3.8.1->box) (1.18.3)\n",
            "Requirement already satisfied: typing-extensions>=4.1.0 in /usr/local/lib/python3.10/dist-packages (from multidict<7.0,>=4.5->aiohttp>=3.8.1->box) (4.12.2)\n",
            "Requirement already satisfied: idna>=2.0 in /usr/local/lib/python3.10/dist-packages (from yarl<2.0,>=1.17.0->aiohttp>=3.8.1->box) (3.10)\n",
            "Downloading box-0.1.5-py3-none-any.whl (162 kB)\n",
            "\u001b[2K   \u001b[90m━━━━━━━━━━━━━━━━━━━━━━━━━━━━━━━━━━━━━━━━\u001b[0m \u001b[32m162.4/162.4 kB\u001b[0m \u001b[31m13.9 MB/s\u001b[0m eta \u001b[36m0:00:00\u001b[0m\n",
            "\u001b[?25hDownloading Columnar-1.3.1-py3-none-any.whl (11 kB)\n",
            "Downloading executing-0.8.2-py2.py3-none-any.whl (16 kB)\n",
            "Downloading loguru-0.7.3-py3-none-any.whl (61 kB)\n",
            "\u001b[2K   \u001b[90m━━━━━━━━━━━━━━━━━━━━━━━━━━━━━━━━━━━━━━━━\u001b[0m \u001b[32m61.6/61.6 kB\u001b[0m \u001b[31m5.9 MB/s\u001b[0m eta \u001b[36m0:00:00\u001b[0m\n",
            "\u001b[?25hDownloading pysqlite3_binary-0.5.4-cp310-cp310-manylinux_2_17_x86_64.manylinux2014_x86_64.whl (5.2 MB)\n",
            "\u001b[2K   \u001b[90m━━━━━━━━━━━━━━━━━━━━━━━━━━━━━━━━━━━━━━━━\u001b[0m \u001b[32m5.2/5.2 MB\u001b[0m \u001b[31m90.3 MB/s\u001b[0m eta \u001b[36m0:00:00\u001b[0m\n",
            "\u001b[?25hBuilding wheels for collected packages: timeago\n",
            "  Building wheel for timeago (setup.py) ... \u001b[?25l\u001b[?25hdone\n",
            "  Created wheel for timeago: filename=timeago-1.0.14-py3-none-any.whl size=26438 sha256=2e38d92f4dd324fe1738ba2b35c6fa5c3b9d5fa7cb00526513afa1ff97e71592\n",
            "  Stored in directory: /root/.cache/pip/wheels/53/93/e2/85db9009c3a210cfa6dec4308b54796cca52ac7b66d6353eb2\n",
            "Successfully built timeago\n",
            "Installing collected packages: timeago, pysqlite3-binary, executing, loguru, columnar, box\n",
            "Successfully installed box-0.1.5 columnar-1.3.1 executing-0.8.2 loguru-0.7.3 pysqlite3-binary-0.5.4 timeago-1.0.14\n"
          ]
        }
      ],
      "source": [
        "!pip install box"
      ]
    },
    {
      "cell_type": "code",
      "execution_count": null,
      "metadata": {
        "id": "PCopIqT_Bkj6",
        "colab": {
          "base_uri": "https://localhost:8080/"
        },
        "outputId": "152669d2-cd7a-4693-b6be-803a7cce2973"
      },
      "outputs": [
        {
          "output_type": "stream",
          "name": "stdout",
          "text": [
            "Requirement already satisfied: huggingface_hub in /usr/local/lib/python3.10/dist-packages (0.26.3)\n",
            "Requirement already satisfied: filelock in /usr/local/lib/python3.10/dist-packages (from huggingface_hub) (3.16.1)\n",
            "Requirement already satisfied: fsspec>=2023.5.0 in /usr/local/lib/python3.10/dist-packages (from huggingface_hub) (2024.10.0)\n",
            "Requirement already satisfied: packaging>=20.9 in /usr/local/lib/python3.10/dist-packages (from huggingface_hub) (24.2)\n",
            "Requirement already satisfied: pyyaml>=5.1 in /usr/local/lib/python3.10/dist-packages (from huggingface_hub) (6.0.2)\n",
            "Requirement already satisfied: requests in /usr/local/lib/python3.10/dist-packages (from huggingface_hub) (2.32.3)\n",
            "Requirement already satisfied: tqdm>=4.42.1 in /usr/local/lib/python3.10/dist-packages (from huggingface_hub) (4.66.6)\n",
            "Requirement already satisfied: typing-extensions>=3.7.4.3 in /usr/local/lib/python3.10/dist-packages (from huggingface_hub) (4.12.2)\n",
            "Requirement already satisfied: charset-normalizer<4,>=2 in /usr/local/lib/python3.10/dist-packages (from requests->huggingface_hub) (3.4.0)\n",
            "Requirement already satisfied: idna<4,>=2.5 in /usr/local/lib/python3.10/dist-packages (from requests->huggingface_hub) (3.10)\n",
            "Requirement already satisfied: urllib3<3,>=1.21.1 in /usr/local/lib/python3.10/dist-packages (from requests->huggingface_hub) (2.2.3)\n",
            "Requirement already satisfied: certifi>=2017.4.17 in /usr/local/lib/python3.10/dist-packages (from requests->huggingface_hub) (2024.8.30)\n"
          ]
        }
      ],
      "source": [
        "!pip install huggingface_hub"
      ]
    },
    {
      "cell_type": "code",
      "execution_count": null,
      "metadata": {
        "id": "UwOOh3oXh92F"
      },
      "outputs": [],
      "source": [
        "# Importing packages"
      ]
    },
    {
      "cell_type": "code",
      "execution_count": null,
      "metadata": {
        "id": "f05Tb6cJiL_a"
      },
      "outputs": [],
      "source": [
        "from langchain.document_loaders import PyPDFLoader, DirectoryLoader\n",
        "\n",
        "from langchain.text_splitter import RecursiveCharacterTextSplitter\n",
        "from langchain.embeddings import HuggingFaceEmbeddings\n",
        "\n",
        "from langchain.vectorstores import FAISS\n",
        "\n",
        "import box\n",
        "from langchain.llms import CTransformers"
      ]
    },
    {
      "cell_type": "code",
      "execution_count": null,
      "metadata": {
        "id": "_eKFptWXjpSn"
      },
      "outputs": [],
      "source": [
        " # Reading (all) documents in directory"
      ]
    },
    {
      "cell_type": "code",
      "execution_count": null,
      "metadata": {
        "id": "xZ3RJc57jyw1"
      },
      "outputs": [],
      "source": [
        "dir_files = DirectoryLoader(\"/content/\", glob= \"*.pdf\", loader_cls= PyPDFLoader)"
      ]
    },
    {
      "cell_type": "code",
      "execution_count": null,
      "metadata": {
        "id": "_dVVa33KkKb0"
      },
      "outputs": [],
      "source": [
        "docs = dir_files.load()"
      ]
    },
    {
      "cell_type": "code",
      "execution_count": null,
      "metadata": {
        "id": "k4PdyNL9kP3c"
      },
      "outputs": [],
      "source": [
        "splited_text = RecursiveCharacterTextSplitter(chunk_size = 550, chunk_overlap = 60)"
      ]
    },
    {
      "cell_type": "code",
      "execution_count": null,
      "metadata": {
        "id": "l6zkYKpmlaMX"
      },
      "outputs": [],
      "source": [
        "documents_splitted = splited_text.split_documents(docs)"
      ]
    },
    {
      "cell_type": "code",
      "execution_count": null,
      "metadata": {
        "colab": {
          "base_uri": "https://localhost:8080/"
        },
        "collapsed": true,
        "id": "SBae2ljLmLVf",
        "outputId": "651e434c-44ea-41e6-e7ea-4ee9234e5d1c"
      },
      "outputs": [
        {
          "output_type": "execute_result",
          "data": {
            "text/plain": [
              "[Document(metadata={'source': '/content/bank_statement.pdf', 'page': 0}, page_content='Account Number:\\n1234567890\\nAccount Holder:\\nJohn Doe\\nBranch Name:\\nMain Branch\\nStatement Date:\\n15-Nov-2023\\nCIF No:\\n89725346219\\nIFSC Code:\\nSBIN000234\\nBanalce As of:\\n156780'),\n",
              " Document(metadata={'source': '/content/bank_statement.pdf', 'page': 1}, page_content='Date\\nDescription\\nTrans. ID\\nAmount\\nType\\nBalance\\n2022-11-09\\nWhether mouth use trip.\\nAIE1HQ\\n156780.0\\nCredit\\n156780.0\\n2022-11-10\\nFull many kind.\\nRCCMS4\\n16.62\\nCredit\\n156796.62\\n2022-11-10\\nOur produce minute.\\nIR6B4I\\n120.29\\nDebit\\n156676.33\\n2022-11-11\\nEither all wrong improve.\\nXWKYLO\\n465.96\\nCredit\\n157142.29\\n2022-11-12\\nHe store fly success few.\\nG7IP4A\\n312.42\\nCredit\\n157454.71\\n2022-11-12\\nGet notice figure big the\\n68A4KU\\n351.72\\nDebit\\n157102.99\\n2022-11-14\\nActivity this network.\\n6GNDNJ\\n63.59\\nDebit\\n157039.4\\n2022-11-14\\nGeneration by war he give\\nD7RAS7\\n142.11'),\n",
              " Document(metadata={'source': '/content/bank_statement.pdf', 'page': 1}, page_content='157039.4\\n2022-11-14\\nGeneration by war he give\\nD7RAS7\\n142.11\\nCredit\\n157181.51\\n2022-11-16\\nSell pass today.\\nYLSPV4\\n357.6\\nDebit\\n156823.91\\n2022-11-16\\nAbility maybe radio chanc\\n1XXZB7\\n251.26\\nDebit\\n156572.65\\n2022-11-16\\nRise doctor machine resou\\n9LMUBW\\n482.1\\nCredit\\n157054.75\\n2022-11-23\\nHour campaign score.\\nCRAI48\\n268.53\\nCredit\\n157323.28\\n2022-11-24\\nThan mention party fire.\\n90RLV2\\n427.01\\nCredit\\n157750.29\\n2022-11-24\\nMedical push interesting.\\nBEY2UQ\\n288.74\\nCredit\\n158039.03\\n2022-11-25\\nAlready indicate very vie\\nH771L8\\n317.73\\nCredit\\n158356.76\\n2022-11-26'),\n",
              " Document(metadata={'source': '/content/bank_statement.pdf', 'page': 1}, page_content='H771L8\\n317.73\\nCredit\\n158356.76\\n2022-11-26\\nPersonal recent deal expe\\nW9OWO9\\n54.4\\nCredit\\n158411.16\\n2022-11-27\\nCan authority memory.\\nJV75AI\\n227.08\\nDebit\\n158184.08\\n2022-11-27\\nLevel church hair.\\nYMJXZ3\\n73.22\\nDebit\\n158110.86\\n2022-11-27\\nCut boy health what end.\\nL4IXY8\\n274.12\\nCredit\\n158384.98\\n2022-11-29\\nTen west believe close.\\n743TKD\\n201.05\\nDebit\\n158183.93\\n2022-12-01\\nPoint ok create.\\n2YTQ0B\\n77.25\\nDebit\\n158106.68\\n2022-12-02\\nElse certain lose remain.\\n0Y9IGZ\\n451.55\\nCredit\\n158558.23\\n2022-12-05\\nMother knowledge break su\\nRDIEWX\\n321.4\\nCredit\\n158879.63'),\n",
              " Document(metadata={'source': '/content/bank_statement.pdf', 'page': 1}, page_content='Mother knowledge break su\\nRDIEWX\\n321.4\\nCredit\\n158879.63\\n2022-12-07\\nHuman democratic center v\\nCJO5R7\\n33.13\\nDebit\\n158846.5\\n2022-12-10\\nOffice quality decide.\\nVZ4XQX\\n61.53\\nCredit\\n158908.03\\n2022-12-10\\nLet meet son probably.\\nQJN3SX\\n23.52\\nCredit\\n158931.55\\n2022-12-10\\nResult their stay.\\n0QIXM0\\n291.48\\nDebit\\n158640.07\\n2022-12-10\\nAmong alone of bar them.\\nTWPTKY\\n361.32\\nCredit\\n159001.39\\n2022-12-10\\nOwner research he.\\nGR88IT\\n56.67\\nDebit\\n158944.72\\n2022-12-10\\nAlmost describe bring yet\\nX7LROT\\n45.93\\nCredit\\n158990.65\\n2022-12-12\\nSkill strong reach now.\\n6ZCVRE'),\n",
              " Document(metadata={'source': '/content/bank_statement.pdf', 'page': 1}, page_content='Credit\\n158990.65\\n2022-12-12\\nSkill strong reach now.\\n6ZCVRE\\n371.45\\nDebit\\n158619.2'),\n",
              " Document(metadata={'source': '/content/bank_statement.pdf', 'page': 2}, page_content='Date\\nDescription\\nTrans. ID\\nAmount\\nType\\nBalance\\n2022-12-14\\nMessage one recent mean.\\nVFVD94\\n153.62\\nDebit\\n158465.58\\n2022-12-15\\nGreat stuff develop offic\\nQEK6G9\\n299.71\\nCredit\\n158765.29\\n2022-12-15\\nYear into glass visit.\\nYT3DKG\\n311.38\\nCredit\\n159076.67\\n2022-12-15\\nSuddenly under under.\\nOGR49D\\n24.87\\nCredit\\n159101.54\\n2022-12-15\\nApproach pull special.\\nQT22JL\\n325.16\\nCredit\\n159426.7\\n2022-12-15\\nShake tend century.\\n09ZWYP\\n79.54\\nDebit\\n159347.16\\n2022-12-15\\nAnyone than easy nearly t\\n6H2B52\\n123.58\\nCredit\\n159470.74\\n2022-12-16\\nThen middle address spend\\nB7472A'),\n",
              " Document(metadata={'source': '/content/bank_statement.pdf', 'page': 2}, page_content='159470.74\\n2022-12-16\\nThen middle address spend\\nB7472A\\n480.61\\nDebit\\n158990.13\\n2022-12-16\\nInclude usually west poli\\nSAG1W8\\n136.63\\nDebit\\n158853.5\\n2022-12-16\\nEdge everybody final eith\\nU635TW\\n285.44\\nDebit\\n158568.06\\n2022-12-17\\nAlone set compare.\\nK80JYA\\n234.64\\nCredit\\n158802.7\\n2022-12-17\\nImage reveal process.\\nB3FJMA\\n206.83\\nDebit\\n158595.87\\n2022-12-18\\nApply the able decision.\\nF454TG\\n439.95\\nDebit\\n158155.92\\n2022-12-19\\nTeacher never choose.\\nQQ46T9\\n330.02\\nDebit\\n157825.9\\n2022-12-19\\nAway war claim eat pressu\\n8FWLJS\\n182.14\\nDebit\\n157643.76\\n2022-12-20'),\n",
              " Document(metadata={'source': '/content/bank_statement.pdf', 'page': 2}, page_content='8FWLJS\\n182.14\\nDebit\\n157643.76\\n2022-12-20\\nBag there air speech.\\nV0TR0I\\n18.45\\nCredit\\n157662.21\\n2022-12-20\\nEither popular anyone.\\n0TMU9L\\n105.26\\nCredit\\n157767.47\\n2022-12-20\\nPoor nice actually eviden\\nY8B65Z\\n187.53\\nDebit\\n157579.94\\n2022-12-20\\nProtect spend across.\\nDP53BS\\n382.87\\nDebit\\n157197.07\\n2022-12-21\\nSkill receive like genera\\nV7BYHG\\n137.62\\nCredit\\n157334.69\\n2022-12-21\\nFull line sound.\\nGBLBTJ\\n99.95\\nDebit\\n157234.74\\n2022-12-22\\nCentral role however in o\\nMA3PJI\\n402.46\\nDebit\\n156832.28\\n2022-12-23\\nKnow music serious list m\\n0N7V0P\\n133.37\\nDebit\\n156698.91'),\n",
              " Document(metadata={'source': '/content/bank_statement.pdf', 'page': 2}, page_content='Know music serious list m\\n0N7V0P\\n133.37\\nDebit\\n156698.91\\n2022-12-23\\nProperty quite bed about.\\nAL49SL\\n186.44\\nDebit\\n156512.47\\n2022-12-27\\nStation job possible nor.\\nERDYGA\\n158.31\\nDebit\\n156354.16\\n2022-12-28\\nFine base fill respond pl\\n2G76GL\\n193.64\\nCredit\\n156547.8\\n2022-12-28\\nSome budget energy despit\\nV2JRSJ\\n315.09\\nCredit\\n156862.89\\n2022-12-29\\nManager however people.\\nT62X0G\\n358.04\\nCredit\\n157220.93\\n2022-12-29\\nTake man suddenly.\\nQK9X3P\\n235.9\\nCredit\\n157456.83\\n2022-12-30\\nAdministration travel me.\\nLYKJJ9\\n447.62\\nCredit\\n157904.45\\n2022-12-30'),\n",
              " Document(metadata={'source': '/content/bank_statement.pdf', 'page': 2}, page_content='LYKJJ9\\n447.62\\nCredit\\n157904.45\\n2022-12-30\\nEnjoy view nature than.\\nYWFDXN\\n196.17\\nDebit\\n157708.28\\n2022-12-31\\nBecome price moment.\\n9NXPQR\\n478.26\\nCredit\\n158186.54\\n2022-12-31\\nGrow seek character.\\nT6KQV5\\n208.9\\nDebit\\n157977.64\\n2022-12-31\\nRace share event answer h\\n7O8QAU\\n178.11\\nCredit\\n158155.75\\n2023-01-01\\nBring suffer citizen.\\n7WURMD\\n326.59\\nCredit\\n158482.34'),\n",
              " Document(metadata={'source': '/content/bank_statement.pdf', 'page': 3}, page_content='Date\\nDescription\\nTrans. ID\\nAmount\\nType\\nBalance\\n2023-01-02\\nHe determine hand offer.\\n69KKUW\\n108.7\\nDebit\\n158373.64\\n2023-01-02\\nOld mouth officer coach.\\nJSHSCX\\n255.04\\nCredit\\n158628.68\\n2023-01-02\\nInstead almost loss.\\nT49HXW\\n215.98\\nCredit\\n158844.66\\n2023-01-03\\nView a like.\\n7YU7MO\\n369.14\\nDebit\\n158475.52\\n2023-01-03\\nTeacher minute drive husb\\n7GQN31\\n278.3\\nCredit\\n158753.82\\n2023-01-03\\nDog probably feel bit.\\n5PQD7L\\n403.83\\nDebit\\n158349.99\\n2023-01-04\\nCamera list seek catch.\\nQLNZNJ\\n409.43\\nCredit\\n158759.42\\n2023-01-04\\nFace also month region.\\nGUI8O0\\n231.57\\nCredit'),\n",
              " Document(metadata={'source': '/content/bank_statement.pdf', 'page': 3}, page_content='2023-01-04\\nFace also month region.\\nGUI8O0\\n231.57\\nCredit\\n158990.99\\n2023-01-05\\nTogether over make.\\nB3H9HO\\n476.71\\nDebit\\n158514.28\\n2023-01-05\\nAsk girl make whom reason\\n56A2LT\\n407.68\\nCredit\\n158921.96\\n2023-01-06\\nOff system rock stock.\\nI0PUUM\\n50.79\\nDebit\\n158871.17\\n2023-01-06\\nReach rate cause walk.\\nU0LFHU\\n352.04\\nDebit\\n158519.13\\n2023-01-06\\nLand beat at camera.\\nA9C4FT\\n58.09\\nCredit\\n158577.22\\n2023-01-07\\nCamera blue race situatio\\n6R85Y0\\n183.93\\nDebit\\n158393.29\\n2023-01-07\\nThrough training able abl\\nWMPBT4\\n122.86\\nCredit\\n158516.15\\n2023-01-08'),\n",
              " Document(metadata={'source': '/content/bank_statement.pdf', 'page': 3}, page_content='WMPBT4\\n122.86\\nCredit\\n158516.15\\n2023-01-08\\nLead real life expect cas\\nWB84HI\\n78.51\\nCredit\\n158594.66\\n2023-01-08\\nReturn thank agent finish\\n3RWFQQ\\n149.29\\nCredit\\n158743.95\\n2023-01-08\\nContinue ten candidate.\\nMG0TL1\\n92.91\\nCredit\\n158836.86\\n2023-01-09\\nPull policy tonight lose.\\nRGTMT5\\n428.74\\nCredit\\n159265.6\\n2023-01-09\\nHappy lawyer door.\\n4Z2IH1\\n479.09\\nCredit\\n159744.69\\n2023-01-09\\nSmall let crime culture.\\nDUE4PJ\\n335.93\\nCredit\\n160080.62\\n2023-01-09\\nCoach me provide national\\nIBX1NU\\n46.99\\nCredit\\n160127.61\\n2023-01-10\\nView business account gir\\nCXI43M\\n445.01'),\n",
              " Document(metadata={'source': '/content/bank_statement.pdf', 'page': 3}, page_content='2023-01-10\\nView business account gir\\nCXI43M\\n445.01\\nCredit\\n160572.62\\n2023-01-10\\nRich blood live unit.\\nEDUTOT\\n110.61\\nCredit\\n160683.23\\n2023-01-10\\nCall loss trial.\\n0IDPQU\\n177.89\\nDebit\\n160505.34\\n2023-01-10\\nUntil lay ready prevent m\\nXMVT2Z\\n178.19\\nCredit\\n160683.53\\n2023-01-11\\nMyself must wait couple.\\nGGD8UE\\n406.74\\nCredit\\n161090.27\\n2023-01-12\\nDoor strategy fire addres\\nUGNE2C\\n69.4\\nCredit\\n161159.67\\n2023-01-12\\nRange plant available stu\\n52UY1A\\n332.85\\nCredit\\n161492.52\\n2023-01-12\\nVisit mention whom educat\\nD78VJD\\n365.93\\nDebit\\n161126.59\\n2023-01-13'),\n",
              " Document(metadata={'source': '/content/bank_statement.pdf', 'page': 3}, page_content='D78VJD\\n365.93\\nDebit\\n161126.59\\n2023-01-13\\nChurch daughter be stop.\\n38S7UH\\n327.92\\nDebit\\n160798.67\\n2023-01-13\\nTv couple throw.\\nCY74VF\\n431.27\\nCredit\\n161229.94\\n2023-01-13\\nScientist nature here hea\\nOXGZMO\\n484.57\\nDebit\\n160745.37\\n2023-01-14\\nDream thought give base.\\nJHV4VQ\\n357.43\\nDebit\\n160387.94\\n2023-01-15\\nKeep book billion entire.\\nFQ5TKL\\n482.11\\nCredit\\n160870.05'),\n",
              " Document(metadata={'source': '/content/bank_statement.pdf', 'page': 4}, page_content='Date\\nDescription\\nTrans. ID\\nAmount\\nType\\nBalance\\n2023-01-16\\nCover eye more no.\\nAXF19U\\n452.7\\nDebit\\n160417.35\\n2023-01-19\\nInstead cut tend ahead.\\nRNYU5A\\n282.5\\nDebit\\n160134.85\\n2023-01-24\\nBox help near power.\\n7LP78K\\n467.31\\nCredit\\n160602.16\\n2023-01-26\\nAll mention girl recogniz\\nYMQ52R\\n342.05\\nCredit\\n160944.21\\n2023-01-27\\nCertain baby voice seat.\\nU7FUEB\\n287.36\\nCredit\\n161231.57\\n2023-01-30\\nSecurity standard yes rea\\nWXC3ZN\\n267.89\\nCredit\\n161499.46\\n2023-01-31\\nLife parent option oil.\\nMUE258\\n96.64\\nDebit\\n161402.82\\n2023-01-31\\nThese like off amount.\\nJHRRY2\\n283.39'),\n",
              " Document(metadata={'source': '/content/bank_statement.pdf', 'page': 4}, page_content='161402.82\\n2023-01-31\\nThese like off amount.\\nJHRRY2\\n283.39\\nDebit\\n161119.43\\n2023-02-01\\nMusic happen paper way ch\\n36SYYI\\n178.34\\nDebit\\n160941.09\\n2023-02-01\\nSpend blood remember reve\\nBL9CNJ\\n468.06\\nDebit\\n160473.03\\n2023-02-01\\nSimilar view media.\\nB1D6UK\\n115.94\\nDebit\\n160357.09\\n2023-02-01\\nEnough of listen.\\nGD9HNR\\n7.29\\nCredit\\n160364.38\\n2023-02-02\\nTruth about meet.\\nFARNYW\\n37.36\\nCredit\\n160401.74\\n2023-02-03\\nYes direction real strong\\n7X36R5\\n282.07\\nDebit\\n160119.67\\n2023-02-04\\nStatement change my sure.\\nM373R1\\n269.86\\nDebit\\n159849.81\\n2023-02-05'),\n",
              " Document(metadata={'source': '/content/bank_statement.pdf', 'page': 4}, page_content='M373R1\\n269.86\\nDebit\\n159849.81\\n2023-02-05\\nStep message management.\\n8ZC5J3\\n319.5\\nDebit\\n159530.31\\n2023-02-06\\nSit talk cause political.\\n0M40Q8\\n262.23\\nDebit\\n159268.08\\n2023-02-07\\nPosition ask you than rel\\nPKO95O\\n23.6\\nDebit\\n159244.48\\n2023-02-07\\nMaybe born baby a very.\\nFP28L3\\n136.21\\nDebit\\n159108.27\\n2023-02-10\\nTruth yes modern out.\\nBCCO37\\n481.41\\nDebit\\n158626.86\\n2023-02-10\\nPosition north ok.\\n1FBJVV\\n474.23\\nCredit\\n159101.09\\n2023-02-11\\nRange media authority day\\nH2IF54\\n257.66\\nDebit\\n158843.43\\n2023-02-11\\nEasy describe add option.\\nSKDDP4\\n179.8\\nDebit\\n158663.63'),\n",
              " Document(metadata={'source': '/content/bank_statement.pdf', 'page': 4}, page_content='Easy describe add option.\\nSKDDP4\\n179.8\\nDebit\\n158663.63\\n2023-02-11\\nEnough first man.\\nPBDI24\\n235.99\\nCredit\\n158899.62\\n2023-02-12\\nCouple admit us.\\nUZVHXK\\n86.66\\nDebit\\n158812.96\\n2023-02-12\\nEdge its technology spend\\nKLSTD4\\n450.34\\nCredit\\n159263.3\\n2023-02-13\\nIdea even kid year.\\nXBS0FR\\n231.04\\nCredit\\n159494.34\\n2023-02-13\\nSenior experience per hea\\n173T53\\n395.41\\nCredit\\n159889.75\\n2023-02-13\\nPattern form pass bed.\\n8ZPC9A\\n88.9\\nDebit\\n159800.85\\n2023-02-13\\nAbove whatever call.\\nIMX09D\\n349.07\\nCredit\\n160149.92\\n2023-02-13\\nTeach participant so argu\\nVIF6QV\\n139.53'),\n",
              " Document(metadata={'source': '/content/bank_statement.pdf', 'page': 4}, page_content='2023-02-13\\nTeach participant so argu\\nVIF6QV\\n139.53\\nDebit\\n160010.39\\n2023-02-13\\nType every life material \\n6QAFH3\\n86.82\\nCredit\\n160097.21\\n2023-02-15\\nReally everything cause h\\nVZKDNX\\n441.76\\nCredit\\n160538.97\\n2023-02-17\\nThey play look.\\nKCWGP6\\n432.27\\nDebit\\n160106.7\\n2023-02-17\\nStuff such provide.\\nMQX87A\\n235.09\\nDebit\\n159871.61'),\n",
              " Document(metadata={'source': '/content/bank_statement.pdf', 'page': 5}, page_content='Date\\nDescription\\nTrans. ID\\nAmount\\nType\\nBalance\\n2023-02-18\\nUntil be sell fast.\\n6VH9XW\\n331.91\\nDebit\\n159539.7\\n2023-02-19\\nCut hear write practice c\\nOU7A85\\n298.6\\nDebit\\n159241.1\\n2023-02-19\\nIn senior discuss.\\nX2OOWA\\n209.61\\nCredit\\n159450.71\\n2023-02-19\\nSafe claim rather enjoy.\\nMIXCNN\\n110.42\\nCredit\\n159561.13\\n2023-02-19\\nScience style pass middle\\nMQVM3I\\n473.56\\nDebit\\n159087.57\\n2023-02-21\\nFour evening measure room\\n0C39FN\\n380.77\\nDebit\\n158706.8\\n2023-02-22\\nInstitution light entire.\\nIWDC65\\n238.41\\nDebit\\n158468.39\\n2023-02-23\\nLay if feel mother so.\\nA5RRRP\\n113.19'),\n",
              " Document(metadata={'source': '/content/bank_statement.pdf', 'page': 5}, page_content='158468.39\\n2023-02-23\\nLay if feel mother so.\\nA5RRRP\\n113.19\\nDebit\\n158355.2\\n2023-02-23\\nUnit sister myself profes\\n0280UQ\\n56.36\\nDebit\\n158298.84\\n2023-02-23\\nCourt old statement goal.\\nXESN1Z\\n240.1\\nCredit\\n158538.94\\n2023-02-24\\nMaintain she born.\\nQWDNXP\\n131.2\\nCredit\\n158670.14\\n2023-02-24\\nToday positive school gir\\nFGSAOT\\n303.56\\nDebit\\n158366.58\\n2023-02-24\\nNothing media law rest.\\nS21VLG\\n159.46\\nDebit\\n158207.12\\n2023-02-25\\nStreet street guy.\\nY9TGQP\\n230.0\\nDebit\\n157977.12\\n2023-02-26\\nBar relationship first wi\\nPZXRDQ\\n61.81\\nCredit\\n158038.93\\n2023-02-26'),\n",
              " Document(metadata={'source': '/content/bank_statement.pdf', 'page': 5}, page_content='PZXRDQ\\n61.81\\nCredit\\n158038.93\\n2023-02-26\\nNorth young new poor.\\nSCAYZR\\n336.14\\nDebit\\n157702.79\\n2023-02-26\\nForm unit such main girl.\\nI6RWIK\\n73.44\\nCredit\\n157776.23\\n2023-02-26\\nColor quality measure fie\\nMC7ULH\\n468.57\\nCredit\\n158244.8\\n2023-02-28\\nBest sure between heart.\\nKJ9QE8\\n89.8\\nCredit\\n158334.6\\n2023-02-28\\nNatural today we.\\n2NMI1S\\n200.02\\nCredit\\n158534.62\\n2023-02-28\\nSell option pull not so.\\nDOLEO7\\n155.91\\nCredit\\n158690.53\\n2023-03-01\\nScene kitchen treat vote.\\nPM5NPC\\n192.62\\nCredit\\n158883.15\\n2023-03-02\\nTalk degree another billi\\nT6HMZ5\\n142.35\\nDebit'),\n",
              " Document(metadata={'source': '/content/bank_statement.pdf', 'page': 5}, page_content='2023-03-02\\nTalk degree another billi\\nT6HMZ5\\n142.35\\nDebit\\n158740.8\\n2023-03-03\\nThe no building these.\\nW9GESC\\n310.63\\nDebit\\n158430.17\\n2023-03-04\\nKnowledge watch out soldi\\nMPSBBH\\n250.12\\nCredit\\n158680.29\\n2023-03-05\\nLight large doctor.\\nKCZELH\\n213.89\\nCredit\\n158894.18\\n2023-03-05\\nMemory owner must togethe\\nPT25FG\\n445.57\\nDebit\\n158448.61\\n2023-03-06\\nMajority hear instead sha\\n90QTLY\\n384.12\\nDebit\\n158064.49\\n2023-03-08\\nChair though blue thus.\\n9H2YRG\\n51.74\\nCredit\\n158116.23\\n2023-03-08\\nShe expect rule move.\\n5LHI19\\n14.78\\nCredit\\n158131.01\\n2023-03-09\\nOver where home.'),\n",
              " Document(metadata={'source': '/content/bank_statement.pdf', 'page': 5}, page_content='5LHI19\\n14.78\\nCredit\\n158131.01\\n2023-03-09\\nOver where home.\\nX3B8F2\\n422.84\\nDebit\\n157708.17\\n2023-03-11\\nEnergy board ready.\\n3RSP0G\\n227.24\\nDebit\\n157480.93\\n2023-03-12\\nRight early throughout.\\nGB4W7L\\n336.6\\nDebit\\n157144.33\\n2023-03-12\\nTreatment can unit art.\\nFVZB27\\n242.71\\nCredit\\n157387.04\\n2023-03-13\\nStock effect hospital pro\\n1HRSPL\\n363.78\\nDebit\\n157023.26'),\n",
              " Document(metadata={'source': '/content/bank_statement.pdf', 'page': 6}, page_content='Date\\nDescription\\nTrans. ID\\nAmount\\nType\\nBalance\\n2023-03-14\\nIf assume fire computer h\\nBRSSU4\\n307.94\\nDebit\\n156715.32\\n2023-03-15\\nAcross outside give first\\nH5VNN0\\n438.94\\nDebit\\n156276.38\\n2023-03-16\\nOccur big than pass.\\nBGI32G\\n408.38\\nDebit\\n155868.0\\n2023-03-16\\nTry seek opportunity kind\\n7E1ZAB\\n178.77\\nDebit\\n155689.23\\n2023-03-18\\nSort girl fact.\\nIJG5EC\\n450.35\\nCredit\\n156139.58\\n2023-03-19\\nCheck onto wide.\\n2AZ661\\n180.26\\nCredit\\n156319.84\\n2023-03-20\\nWhom develop friend.\\nV3UCHD\\n152.29\\nDebit\\n156167.55\\n2023-03-20\\nEspecially rate much coun\\nFLWIPF\\n428.95\\nCredit'),\n",
              " Document(metadata={'source': '/content/bank_statement.pdf', 'page': 6}, page_content='2023-03-20\\nEspecially rate much coun\\nFLWIPF\\n428.95\\nCredit\\n156596.5\\n2023-03-22\\nSection ten manage sing.\\nK3BTOH\\n433.46\\nDebit\\n156163.04\\n2023-03-22\\nPeace news relate rate.\\nLINSC9\\n419.46\\nCredit\\n156582.5\\n2023-03-23\\nFederal only close.\\nQ56RZ2\\n489.05\\nCredit\\n157071.55\\n2023-03-24\\nFather class goal fly adm\\nCPKMJ6\\n448.66\\nCredit\\n157520.21\\n2023-03-24\\nSouth pick it.\\n4JORXR\\n454.59\\nCredit\\n157974.8\\n2023-03-25\\nShow also sense light wor\\nERG4MJ\\n365.94\\nDebit\\n157608.86\\n2023-03-25\\nKey around sport cost bas\\nSGZBP0\\n102.54\\nDebit\\n157506.32\\n2023-03-26'),\n",
              " Document(metadata={'source': '/content/bank_statement.pdf', 'page': 6}, page_content='SGZBP0\\n102.54\\nDebit\\n157506.32\\n2023-03-26\\nPeople economy act fact m\\n2Y9DH6\\n37.51\\nDebit\\n157468.81\\n2023-03-26\\nHealth feeling large serv\\nQDH08I\\n73.04\\nDebit\\n157395.77\\n2023-03-26\\nHospital economic miss.\\n0U5TU3\\n329.64\\nCredit\\n157725.41\\n2023-03-27\\nHappy board son.\\nMJ5TUR\\n192.23\\nDebit\\n157533.18\\n2023-03-27\\nWait either stop true sto\\nNXVQ24\\n287.98\\nDebit\\n157245.2\\n2023-03-27\\nPast major your head.\\n3MQ1FR\\n25.7\\nDebit\\n157219.5\\n2023-03-27\\nAccording describe candid\\nPDIZ82\\n184.22\\nCredit\\n157403.72\\n2023-03-27\\nMajor PM wife opportunity\\nAXN32H\\n345.17\\nCredit\\n157748.89'),\n",
              " Document(metadata={'source': '/content/bank_statement.pdf', 'page': 6}, page_content='Major PM wife opportunity\\nAXN32H\\n345.17\\nCredit\\n157748.89\\n2023-03-28\\nWord until whose pressure\\n2M1XYG\\n463.72\\nCredit\\n158212.61\\n2023-03-28\\nNews watch thus bill.\\n3S7CD6\\n109.54\\nDebit\\n158103.07\\n2023-04-02\\nSpeak exist husband.\\nY6YYC1\\n389.23\\nCredit\\n158492.3\\n2023-04-03\\nSecurity eat term finally\\nYV0UW5\\n385.04\\nDebit\\n158107.26\\n2023-04-04\\nWay reality building.\\nN6EPXT\\n409.89\\nDebit\\n157697.37\\n2023-04-04\\nTo hold east.\\nFW83CE\\n318.1\\nCredit\\n158015.47\\n2023-04-06\\nBag how now expert smile.\\n5OFVRL\\n58.84\\nCredit\\n158074.31\\n2023-04-07\\nRace oil tree month ago.\\nCH8GR9'),\n",
              " Document(metadata={'source': '/content/bank_statement.pdf', 'page': 6}, page_content='Credit\\n158074.31\\n2023-04-07\\nRace oil tree month ago.\\nCH8GR9\\n90.26\\nCredit\\n158164.57\\n2023-04-08\\nReach group provide.\\nSETCBC\\n469.01\\nCredit\\n158633.58\\n2023-04-08\\nBody page hour key list.\\n57EQ8S\\n49.62\\nDebit\\n158583.96\\n2023-04-09\\nThis bring whether.\\n4H93Z4\\n366.43\\nDebit\\n158217.53\\n2023-04-10\\nCollege blood computer se\\n152VVB\\n268.87\\nCredit\\n158486.4'),\n",
              " Document(metadata={'source': '/content/bank_statement.pdf', 'page': 7}, page_content='Date\\nDescription\\nTrans. ID\\nAmount\\nType\\nBalance\\n2023-04-11\\nOpen card almost eye.\\nPHN46C\\n168.38\\nCredit\\n158654.78\\n2023-04-11\\nRelate cell above.\\nXCU13L\\n497.17\\nCredit\\n159151.95\\n2023-04-12\\nStart strategy message.\\nMU7JMH\\n80.74\\nCredit\\n159232.69\\n2023-04-13\\nBefore do push mean campa\\nS1UD9P\\n441.16\\nCredit\\n159673.85\\n2023-04-13\\nPower race others hear.\\n24RX8V\\n90.09\\nDebit\\n159583.76\\n2023-04-14\\nProvide there foot necess\\nWMC5B4\\n226.23\\nDebit\\n159357.53\\n2023-04-14\\nAhead offer physical.\\nUK529S\\n358.62\\nDebit\\n158998.91\\n2023-04-15\\nOn key real. Pull even ex\\n9IQ2UX\\n188.8'),\n",
              " Document(metadata={'source': '/content/bank_statement.pdf', 'page': 7}, page_content='158998.91\\n2023-04-15\\nOn key real. Pull even ex\\n9IQ2UX\\n188.8\\nDebit\\n158810.11\\n2023-04-16\\nHand quickly letter vario\\nX0SMAW\\n47.05\\nDebit\\n158763.06\\n2023-04-16\\nPast after huge strong.\\nGKAG8J\\n194.04\\nDebit\\n158569.02\\n2023-04-16\\nField student responsibil\\nJZ4446\\n47.4\\nCredit\\n158616.42\\n2023-04-16\\nMan change surface end.\\nES7VSZ\\n398.47\\nCredit\\n159014.89\\n2023-04-17\\nPlan collection degree.\\n1K21GS\\n357.79\\nCredit\\n159372.68\\n2023-04-17\\nLeg company type plan.\\n3Y2NBN\\n479.52\\nDebit\\n158893.16\\n2023-04-18\\nHelp stage hold race.\\nKTQ3S0\\n90.46\\nDebit\\n158802.7\\n2023-04-19'),\n",
              " Document(metadata={'source': '/content/bank_statement.pdf', 'page': 7}, page_content='KTQ3S0\\n90.46\\nDebit\\n158802.7\\n2023-04-19\\nHere hot win best power.\\nDALL3M\\n237.01\\nCredit\\n159039.71\\n2023-04-19\\nElection happen result a.\\n1ASG6D\\n66.95\\nDebit\\n158972.76\\n2023-04-20\\nBack family field state.\\nIZNE3X\\n137.19\\nCredit\\n159109.95\\n2023-04-23\\nCarry church thing simply\\nCTLCNS\\n220.67\\nDebit\\n158889.28\\n2023-04-23\\nMrs effort alone.\\n9JVX2X\\n105.05\\nCredit\\n158994.33\\n2023-04-23\\nVisit give film explain p\\nGXRCF0\\n196.34\\nCredit\\n159190.67\\n2023-04-24\\nFast serve to indeed now.\\nAFWST8\\n372.42\\nCredit\\n159563.09\\n2023-04-25\\nJob whom memory Congress.\\nEVUMEF\\n85.68\\nDebit'),\n",
              " Document(metadata={'source': '/content/bank_statement.pdf', 'page': 7}, page_content='2023-04-25\\nJob whom memory Congress.\\nEVUMEF\\n85.68\\nDebit\\n159477.41\\n2023-04-27\\nJust rate yes.\\n03YZG9\\n398.1\\nCredit\\n159875.51\\n2023-04-29\\nOff early view focus.\\n9ME331\\n18.79\\nCredit\\n159894.3\\n2023-04-30\\nSimilar account sense.\\n2C31JT\\n425.04\\nDebit\\n159469.26\\n2023-04-30\\nDeep majority join drive.\\nZQ4X2K\\n101.93\\nDebit\\n159367.33\\n2023-05-01\\nFirm action southern safe\\nUTSY5J\\n18.93\\nCredit\\n159386.26\\n2023-05-01\\nBeyond bed study seem.\\n0HDVTK\\n90.51\\nCredit\\n159476.77\\n2023-05-04\\nSite develop fish lead.\\nBP3166\\n167.01\\nCredit\\n159643.78\\n2023-05-04\\nBlood admit nearly cost.'),\n",
              " Document(metadata={'source': '/content/bank_statement.pdf', 'page': 7}, page_content='167.01\\nCredit\\n159643.78\\n2023-05-04\\nBlood admit nearly cost.\\nAHSROP\\n40.82\\nDebit\\n159602.96\\n2023-05-05\\nMilitary expert under lis\\nZC70JB\\n111.13\\nDebit\\n159491.83\\n2023-05-05\\nDiscover hour personal wi\\nLO7MOH\\n255.87\\nCredit\\n159747.7\\n2023-05-06\\nThan special worry.\\nT1ZRU1\\n42.42\\nDebit\\n159705.28\\n2023-05-06\\nSituation threat season s\\nUBH1K9\\n420.0\\nCredit\\n160125.28'),\n",
              " Document(metadata={'source': '/content/bank_statement.pdf', 'page': 8}, page_content='Date\\nDescription\\nTrans. ID\\nAmount\\nType\\nBalance\\n2023-05-07\\nMy answer able model real\\nELN3ZE\\n260.51\\nDebit\\n159864.77\\n2023-05-07\\nWin Mrs value none.\\nLNT05Y\\n390.26\\nCredit\\n160255.03\\n2023-05-09\\nStuff focus on seat.\\nSYQSCE\\n389.87\\nDebit\\n159865.16\\n2023-05-09\\nPicture order same up.\\nZ6KTUW\\n327.8\\nCredit\\n160192.96\\n2023-05-09\\nSay three science cell.\\n3E1KPJ\\n174.09\\nDebit\\n160018.87\\n2023-05-10\\nUnder expect far play.\\nEIS73K\\n125.59\\nCredit\\n160144.46\\n2023-05-10\\nSure or learn conference.\\nXMGE38\\n123.21\\nDebit\\n160021.25\\n2023-05-11\\nHave expect leave number.\\nCBEOEG\\n177.61'),\n",
              " Document(metadata={'source': '/content/bank_statement.pdf', 'page': 8}, page_content='2023-05-11\\nHave expect leave number.\\nCBEOEG\\n177.61\\nDebit\\n159843.64\\n2023-05-13\\nMuch stock force.\\n4V9I6L\\n119.42\\nCredit\\n159963.06\\n2023-05-13\\nFoot likely Republican.\\nCNBRDI\\n412.03\\nCredit\\n160375.09\\n2023-05-13\\nTv within ever.\\nXFCI69\\n309.26\\nCredit\\n160684.35\\n2023-05-14\\nHot certain power return.\\nOTW1FM\\n51.43\\nDebit\\n160632.92\\n2023-05-15\\nNorth consumer whole in.\\n7TCG6R\\n5.96\\nCredit\\n160638.88\\n2023-05-17\\nCurrent economy cold push\\n408SHM\\n344.23\\nCredit\\n160983.11\\n2023-05-17\\nThus player alone.\\nQKNTHG\\n318.57\\nCredit\\n161301.68\\n2023-05-17\\nPosition catch fish.\\nMJNE11'),\n",
              " Document(metadata={'source': '/content/bank_statement.pdf', 'page': 8}, page_content='Credit\\n161301.68\\n2023-05-17\\nPosition catch fish.\\nMJNE11\\n234.86\\nDebit\\n161066.82\\n2023-05-18\\nHelp treat back way poor.\\nG88HX5\\n245.24\\nDebit\\n160821.58\\n2023-05-19\\nPrice space learn black r\\nD3DPAH\\n234.89\\nDebit\\n160586.69\\n2023-05-21\\nWithin why Mrs.\\nOFA1CG\\n183.89\\nCredit\\n160770.58\\n2023-05-21\\nTrial off card receive.\\nS18AWK\\n381.55\\nCredit\\n161152.13\\n2023-05-21\\nProperty region alone.\\nQ74N4E\\n389.04\\nDebit\\n160763.09\\n2023-05-21\\nHundred book drug keep.\\nVEKXWA\\n75.7\\nCredit\\n160838.79\\n2023-05-23\\nRate sound degree concern\\n6KZ6T8\\n461.47\\nCredit\\n161300.26\\n2023-05-25'),\n",
              " Document(metadata={'source': '/content/bank_statement.pdf', 'page': 8}, page_content='6KZ6T8\\n461.47\\nCredit\\n161300.26\\n2023-05-25\\nPick nation statement wis\\nJRX1LL\\n330.33\\nCredit\\n161630.59\\n2023-05-25\\nFoot line fill personal.\\n2353F4\\n175.46\\nCredit\\n161806.05\\n2023-05-26\\nRoad easy heavy say world\\nDT47EF\\n402.99\\nCredit\\n162209.04\\n2023-05-26\\nFill current example stuf\\nL3TLKL\\n392.61\\nCredit\\n162601.65\\n2023-05-27\\nWriter go war quickly.\\nRI8ECB\\n329.4\\nCredit\\n162931.05\\n2023-05-28\\nSometimes market want fig\\nIM13TX\\n206.71\\nCredit\\n163137.76\\n2023-05-29\\nOpen development add.\\nEBIZX0\\n30.66\\nCredit\\n163168.42\\n2023-05-29\\nGrowth many vote unit voi\\nWV032Y\\n337.08'),\n",
              " Document(metadata={'source': '/content/bank_statement.pdf', 'page': 8}, page_content='2023-05-29\\nGrowth many vote unit voi\\nWV032Y\\n337.08\\nCredit\\n163505.5\\n2023-05-29\\nUsually stuff really.\\nLM0CVO\\n235.17\\nCredit\\n163740.67\\n2023-05-29\\nYourself stop effort.\\n73ZXRN\\n226.89\\nDebit\\n163513.78\\n2023-05-30\\nYet wide before.\\n3URCH9\\n203.68\\nDebit\\n163310.1\\n2023-05-30\\nLong central back loss.\\nJN3RHQ\\n280.57\\nDebit\\n163029.53'),\n",
              " Document(metadata={'source': '/content/bank_statement.pdf', 'page': 9}, page_content='Date\\nDescription\\nTrans. ID\\nAmount\\nType\\nBalance\\n2023-05-30\\nDecide sister pass becaus\\nN0WE2Q\\n377.45\\nCredit\\n163406.98\\n2023-05-30\\nOften not the stand.\\nWSIL5R\\n150.15\\nDebit\\n163256.83\\n2023-05-30\\nHundred attorney environm\\n7M482U\\n385.37\\nDebit\\n162871.46\\n2023-06-01\\nThree growth when dinner.\\nXYZXAV\\n414.59\\nDebit\\n162456.87\\n2023-06-02\\nWife reflect during posit\\nHGRZ8Y\\n177.96\\nCredit\\n162634.83\\n2023-06-03\\nDrop both seek discussion\\nFYP0HO\\n383.29\\nDebit\\n162251.54\\n2023-06-03\\nDream mother exactly like\\nPYC2JP\\n31.2\\nDebit\\n162220.34\\n2023-06-03\\nDebate vote others change'),\n",
              " Document(metadata={'source': '/content/bank_statement.pdf', 'page': 9}, page_content='31.2\\nDebit\\n162220.34\\n2023-06-03\\nDebate vote others change\\n0K9BJ7\\n96.86\\nCredit\\n162317.2\\n2023-06-04\\nNow nature apply employee\\nMFJDG1\\n485.72\\nCredit\\n162802.92\\n2023-06-05\\nStory need enjoy.\\nFCMK33\\n55.91\\nCredit\\n162858.83\\n2023-06-06\\nFormer great step century\\nCB9VQV\\n371.6\\nDebit\\n162487.23\\n2023-06-06\\nWoman modern plant its se\\nKC8Q8E\\n162.85\\nCredit\\n162650.08\\n2023-06-06\\nPrice couple before.\\nZ4XR70\\n485.43\\nDebit\\n162164.65\\n2023-06-06\\nReturn leader hit above.\\nCN64JM\\n132.26\\nCredit\\n162296.91\\n2023-06-07\\nAlong movement build figh\\n43BBK8\\n449.49\\nDebit\\n161847.42'),\n",
              " Document(metadata={'source': '/content/bank_statement.pdf', 'page': 9}, page_content='Along movement build figh\\n43BBK8\\n449.49\\nDebit\\n161847.42\\n2023-06-07\\nIndividual team since ret\\nOVRYS6\\n17.8\\nDebit\\n161829.62\\n2023-06-07\\nOff as mean. Boy ok evide\\nDN87GL\\n311.65\\nCredit\\n162141.27\\n2023-06-08\\nCause instead buy.\\nKYD3UN\\n302.35\\nDebit\\n161838.92\\n2023-06-10\\nStrong miss short manage.\\nH7DSW4\\n171.09\\nCredit\\n162010.01\\n2023-06-10\\nDuring his possible messa\\nME0Y3B\\n62.07\\nCredit\\n162072.08\\n2023-06-10\\nLevel pressure return for\\nO2WB15\\n432.11\\nCredit\\n162504.19\\n2023-06-10\\nFocus ever ten likely.\\nQJBOYV\\n484.39\\nCredit\\n162988.58\\n2023-06-11\\nEntire artist choose.'),\n",
              " Document(metadata={'source': '/content/bank_statement.pdf', 'page': 9}, page_content='484.39\\nCredit\\n162988.58\\n2023-06-11\\nEntire artist choose.\\nO26G5A\\n247.66\\nDebit\\n162740.92\\n2023-06-11\\nFly candidate store black\\nSDJP9Z\\n231.43\\nDebit\\n162509.49\\n2023-06-12\\nThan raise store.\\nAO610M\\n112.86\\nDebit\\n162396.63\\n2023-06-15\\nDevelop tonight charge ju\\nYZNJU7\\n109.85\\nCredit\\n162506.48\\n2023-06-15\\nSport about carry face fi\\n2QKMWA\\n114.07\\nCredit\\n162620.55\\n2023-06-16\\nDoor American voice accep\\nVLFIPW\\n199.19\\nCredit\\n162819.74\\n2023-06-18\\nFood left parent.\\n0NLFAX\\n236.4\\nCredit\\n163056.14\\n2023-06-18\\nHimself realize cover.\\n69XLA3\\n383.71\\nCredit\\n163439.85'),\n",
              " Document(metadata={'source': '/content/bank_statement.pdf', 'page': 9}, page_content='Himself realize cover.\\n69XLA3\\n383.71\\nCredit\\n163439.85\\n2023-06-19\\nHome year store skin rang\\nNO4UNY\\n457.08\\nCredit\\n163896.93\\n2023-06-19\\nWife floor born productio\\nYSJ7EJ\\n147.37\\nCredit\\n164044.3\\n2023-06-19\\nSurface but point.\\nQLLLQQ\\n54.93\\nCredit\\n164099.23\\n2023-06-20\\nKnow on manager appear fe\\n7PQESC\\n481.99\\nCredit\\n164581.22\\n2023-06-21\\nCause write certain up ne\\n0OCN50\\n427.01\\nCredit\\n165008.23'),\n",
              " Document(metadata={'source': '/content/bank_statement.pdf', 'page': 10}, page_content='Date\\nDescription\\nTrans. ID\\nAmount\\nType\\nBalance\\n2023-06-21\\nArt between south.\\nXZB1VI\\n439.18\\nDebit\\n164569.05\\n2023-06-22\\nPeople let occur economic\\nSW6D1X\\n373.7\\nDebit\\n164195.35\\n2023-06-23\\nAuthority list bag.\\nJBP54K\\n212.91\\nCredit\\n164408.26\\n2023-06-24\\nEvidence heavy bed him so\\nFDM05D\\n57.74\\nCredit\\n164466.0\\n2023-06-27\\nSimilar hold such wonder.\\n5SXS4I\\n289.12\\nDebit\\n164176.88\\n2023-06-28\\nColor house recently.\\nCVYV2A\\n418.24\\nDebit\\n163758.64\\n2023-06-30\\nBecome own model.\\nSR0RQW\\n205.4\\nDebit\\n163553.24\\n2023-06-30\\nMaintain few day serve mi\\nVUQYCS\\n400.55\\nDebit'),\n",
              " Document(metadata={'source': '/content/bank_statement.pdf', 'page': 10}, page_content='2023-06-30\\nMaintain few day serve mi\\nVUQYCS\\n400.55\\nDebit\\n163152.69\\n2023-06-30\\nSize right leg exist watc\\nZLNVAN\\n208.52\\nCredit\\n163361.21\\n2023-07-01\\nFrom art reduce politics.\\n9M630K\\n238.94\\nCredit\\n163600.15\\n2023-07-02\\nLeader during industry.\\n730MU7\\n407.45\\nCredit\\n164007.6\\n2023-07-03\\nCentury also we let.\\nAVESJC\\n346.63\\nCredit\\n164354.23\\n2023-07-03\\nParent worker worry someb\\nPAFESA\\n301.72\\nDebit\\n164052.51\\n2023-07-03\\nIndustry crime ten stage.\\nP2X9F7\\n75.82\\nCredit\\n164128.33\\n2023-07-05\\nFine little memory until.\\n81WRJ2\\n466.98\\nDebit\\n163661.35\\n2023-07-06'),\n",
              " Document(metadata={'source': '/content/bank_statement.pdf', 'page': 10}, page_content='81WRJ2\\n466.98\\nDebit\\n163661.35\\n2023-07-06\\nBack present rise rise li\\nVJ543O\\n302.5\\nCredit\\n163963.85\\n2023-07-06\\nTrip number than question\\nE758JQ\\n160.72\\nCredit\\n164124.57\\n2023-07-06\\nDemocrat tree father.\\nL6U68U\\n171.38\\nDebit\\n163953.19\\n2023-07-07\\nShare store foot still fa\\nJNX1J9\\n250.21\\nCredit\\n164203.4\\n2023-07-07\\nVery night hour water.\\n2LKVVF\\n346.93\\nCredit\\n164550.33\\n2023-07-08\\nBlack plant American shor\\nPCICQM\\n260.32\\nCredit\\n164810.65\\n2023-07-11\\nFriend stuff book.\\n42QB6Z\\n417.21\\nDebit\\n164393.44\\n2023-07-11\\nCondition key push soldie\\n8AIZOE\\n454.31\\nDebit'),\n",
              " Document(metadata={'source': '/content/bank_statement.pdf', 'page': 10}, page_content='2023-07-11\\nCondition key push soldie\\n8AIZOE\\n454.31\\nDebit\\n163939.13\\n2023-07-11\\nBuy pay among defense.\\nUHDQL2\\n48.8\\nCredit\\n163987.93\\n2023-07-12\\nOften white heavy.\\nHFYWVI\\n55.77\\nCredit\\n164043.7\\n2023-07-12\\nRoom tax water follow dog\\nIGKPVO\\n403.58\\nCredit\\n164447.28\\n2023-07-12\\nMouth activity relate.\\nTVQYGE\\n425.88\\nDebit\\n164021.4\\n2023-07-13\\nBe southern nature window\\nWM8X0O\\n30.31\\nDebit\\n163991.09\\n2023-07-13\\nNote else Mr two conferen\\nH7OX1Q\\n340.99\\nDebit\\n163650.1\\n2023-07-14\\nScientist choice oil cent\\n5FPMC2\\n202.56\\nCredit\\n163852.66\\n2023-07-14\\nEnough fast him.'),\n",
              " Document(metadata={'source': '/content/bank_statement.pdf', 'page': 10}, page_content='5FPMC2\\n202.56\\nCredit\\n163852.66\\n2023-07-14\\nEnough fast him.\\nA72966\\n287.39\\nDebit\\n163565.27\\n2023-07-16\\nAgainst bar wind at far.\\nYE4S2D\\n464.21\\nCredit\\n164029.48\\n2023-07-17\\nProduce Republican check \\nCX4O5X\\n341.93\\nCredit\\n164371.41\\n2023-07-18\\nConsumer own key.\\nS41CNV\\n82.3\\nDebit\\n164289.11\\n2023-07-19\\nChild concern record sinc\\nQZR01R\\n240.01\\nDebit\\n164049.1'),\n",
              " Document(metadata={'source': '/content/bank_statement.pdf', 'page': 11}, page_content='Date\\nDescription\\nTrans. ID\\nAmount\\nType\\nBalance\\n2023-07-19\\nDream pass ground move.\\n2VZU4J\\n420.84\\nCredit\\n164469.94\\n2023-07-19\\nReflect floor upon five.\\nS6AIDE\\n17.89\\nCredit\\n164487.83\\n2023-07-20\\nData pick with rich.\\nLLBJLU\\n417.02\\nDebit\\n164070.81\\n2023-07-21\\nWrite time show medical.\\n5FFK3N\\n103.64\\nCredit\\n164174.45\\n2023-07-21\\nNone get open beautiful.\\nPXJ2PQ\\n178.23\\nDebit\\n163996.22\\n2023-07-22\\nView foot quite also theo\\nA0XMIZ\\n132.64\\nDebit\\n163863.58\\n2023-07-22\\nSimply answer air voice.\\nX90BVY\\n186.7\\nCredit\\n164050.28\\n2023-07-22\\nThrow what point producti\\n5EYSXI'),\n",
              " Document(metadata={'source': '/content/bank_statement.pdf', 'page': 11}, page_content='164050.28\\n2023-07-22\\nThrow what point producti\\n5EYSXI\\n479.76\\nCredit\\n164530.04\\n2023-07-22\\nDay thus mention.\\nBT797M\\n182.85\\nCredit\\n164712.89\\n2023-07-23\\nNational card create.\\nEEPLWI\\n267.22\\nDebit\\n164445.67\\n2023-07-23\\nUntil especially green gr\\nZ2JU2P\\n115.76\\nDebit\\n164329.91\\n2023-07-24\\nIf put deep three.\\nB55FVX\\n58.31\\nCredit\\n164388.22\\n2023-07-24\\nArm hand again part.\\nF8JOLX\\n18.79\\nDebit\\n164369.43\\n2023-07-25\\nOff speak bag lawyer char\\nG1N788\\n336.85\\nCredit\\n164706.28\\n2023-07-25\\nVery recently always.\\nTM6WMU\\n117.85\\nDebit\\n164588.43\\n2023-07-26'),\n",
              " Document(metadata={'source': '/content/bank_statement.pdf', 'page': 11}, page_content='TM6WMU\\n117.85\\nDebit\\n164588.43\\n2023-07-26\\nHerself seat view could.\\nU2VPJZ\\n123.98\\nDebit\\n164464.45\\n2023-07-28\\nProgram doctor interview.\\nV3LFII\\n410.1\\nCredit\\n164874.55\\n2023-07-29\\nMe want compare.\\nCCYD07\\n328.95\\nCredit\\n165203.5\\n2023-07-29\\nMeeting issue national se\\nBO7VM2\\n17.54\\nDebit\\n165185.96\\n2023-07-29\\nType dog group space.\\n2TXYAO\\n297.65\\nDebit\\n164888.31\\n2023-07-30\\nComputer long down histor\\nOBS56I\\n463.43\\nDebit\\n164424.88\\n2023-07-30\\nShow here especially fiel\\nOP2Y4M\\n359.31\\nDebit\\n164065.57\\n2023-07-31\\nStore manager edge later \\nA1C9E1\\n174.1\\nCredit'),\n",
              " Document(metadata={'source': '/content/bank_statement.pdf', 'page': 11}, page_content='2023-07-31\\nStore manager edge later \\nA1C9E1\\n174.1\\nCredit\\n164239.67\\n2023-07-31\\nSubject wear better.\\nNW6HAE\\n20.66\\nCredit\\n164260.33\\n2023-08-01\\nGo star beyond Congress.\\n7O3RDX\\n127.23\\nCredit\\n164387.56\\n2023-08-03\\nMemory camera north just.\\nPC0RKD\\n157.1\\nDebit\\n164230.46\\n2023-08-03\\nRemain common wish act.\\n559AVW\\n217.3\\nCredit\\n164447.76\\n2023-08-04\\nSell debate out go.\\nSUXBLI\\n132.45\\nDebit\\n164315.31\\n2023-08-04\\nCenter about one course.\\n5156X8\\n116.14\\nCredit\\n164431.45\\n2023-08-05\\nSong item race around fiv\\nGRG2YF\\n126.92\\nCredit\\n164558.37\\n2023-08-05'),\n",
              " Document(metadata={'source': '/content/bank_statement.pdf', 'page': 11}, page_content='GRG2YF\\n126.92\\nCredit\\n164558.37\\n2023-08-05\\nFather message nor under.\\nV8RGS3\\n339.25\\nCredit\\n164897.62\\n2023-08-05\\nHot again when.\\nH4Q9VO\\n207.08\\nCredit\\n165104.7\\n2023-08-06\\nAnd course indicate.\\nSL9J7D\\n74.51\\nDebit\\n165030.19\\n2023-08-06\\nLive stock plan social.\\n61X4ZM\\n80.64\\nDebit\\n164949.55\\n2023-08-07\\nGo bring strong.\\nH9IUAL\\n476.54\\nCredit\\n165426.09'),\n",
              " Document(metadata={'source': '/content/bank_statement.pdf', 'page': 12}, page_content='Date\\nDescription\\nTrans. ID\\nAmount\\nType\\nBalance\\n2023-08-07\\nLife resource boy since.\\nP5CD2R\\n195.29\\nCredit\\n165621.38\\n2023-08-07\\nChild serious defense mou\\nIP7EQ1\\n118.12\\nDebit\\n165503.26\\n2023-08-09\\nKitchen point play itself\\nU1T25H\\n276.63\\nCredit\\n165779.89\\n2023-08-10\\nMan more skill.\\nKTM68O\\n318.2\\nDebit\\n165461.69\\n2023-08-10\\nCut why meeting either.\\n26V3SM\\n419.42\\nCredit\\n165881.11\\n2023-08-11\\nImagine accept soon.\\nRU86H1\\n468.14\\nDebit\\n165412.97\\n2023-08-12\\nWhose go per court Congre\\nSV3C67\\n310.21\\nCredit\\n165723.18\\n2023-08-13\\nCatch edge official chair\\n1X1UUQ'),\n",
              " Document(metadata={'source': '/content/bank_statement.pdf', 'page': 12}, page_content='165723.18\\n2023-08-13\\nCatch edge official chair\\n1X1UUQ\\n184.45\\nCredit\\n165907.63\\n2023-08-14\\nYard common on or maybe.\\nCCGO9L\\n70.82\\nCredit\\n165978.45\\n2023-08-15\\nOfficial gun big build ba\\nE45ZCL\\n50.9\\nCredit\\n166029.35\\n2023-08-16\\nLike eye listen shake.\\n3A21BK\\n257.4\\nCredit\\n166286.75\\n2023-08-16\\nHave think air.\\nO9PZTF\\n162.01\\nCredit\\n166448.76\\n2023-08-17\\nForeign bar for pay white\\nJMLC3Q\\n118.56\\nCredit\\n166567.32\\n2023-08-19\\nAnimal consider record.\\n5EYKHE\\n383.21\\nCredit\\n166950.53\\n2023-08-19\\nKeep light simple sort.\\n6REVKZ\\n342.07\\nDebit\\n166608.46\\n2023-08-19'),\n",
              " Document(metadata={'source': '/content/bank_statement.pdf', 'page': 12}, page_content='6REVKZ\\n342.07\\nDebit\\n166608.46\\n2023-08-19\\nKeep trial difficult migh\\nOXPSYE\\n226.41\\nCredit\\n166834.87\\n2023-08-19\\nBook sure his technology.\\nX5YI1R\\n278.65\\nDebit\\n166556.22\\n2023-08-20\\nPerson me support three.\\nR4YL28\\n256.43\\nDebit\\n166299.79\\n2023-08-22\\nMajor discuss art enter l\\nKYBLMY\\n199.87\\nCredit\\n166499.66\\n2023-08-22\\nGood to political differe\\nA1JU3X\\n132.76\\nDebit\\n166366.9\\n2023-08-24\\nLoss soldier free health.\\nFF1QJL\\n488.88\\nDebit\\n165878.02\\n2023-08-24\\nAir ready and.\\n5Q8FD2\\n9.72\\nCredit\\n165887.74\\n2023-08-26\\nHear large finally sure.\\nGDQ5OH\\n60.86\\nCredit'),\n",
              " Document(metadata={'source': '/content/bank_statement.pdf', 'page': 12}, page_content='2023-08-26\\nHear large finally sure.\\nGDQ5OH\\n60.86\\nCredit\\n165948.6\\n2023-08-27\\nBar woman player.\\nCJ23PK\\n278.14\\nCredit\\n166226.74\\n2023-08-28\\nAnswer quality nation che\\n1YMK21\\n394.42\\nDebit\\n165832.32\\n2023-08-29\\nDirector purpose fly PM w\\n5ZJR1Q\\n416.18\\nDebit\\n165416.14\\n2023-08-29\\nNow attorney whether.\\nE2OM1A\\n207.91\\nDebit\\n165208.23\\n2023-08-29\\nForeign first woman best.\\nXXV48Q\\n402.33\\nDebit\\n164805.9\\n2023-08-29\\nSection set arm.\\n5DU6SZ\\n298.13\\nCredit\\n165104.03\\n2023-08-29\\nMe north drug throw fire.\\nR3QKK1\\n28.85\\nCredit\\n165132.88\\n2023-08-30'),\n",
              " Document(metadata={'source': '/content/bank_statement.pdf', 'page': 12}, page_content='R3QKK1\\n28.85\\nCredit\\n165132.88\\n2023-08-30\\nWait election property ar\\nQY6YE5\\n339.8\\nCredit\\n165472.68\\n2023-08-30\\nAny however guy bar.\\nPDTRB9\\n424.32\\nDebit\\n165048.36\\n2023-08-30\\nSuccess write economy pay\\nG0DWVB\\n61.27\\nDebit\\n164987.09\\n2023-08-31\\nSame every heavy.\\nA8CGUE\\n248.07\\nCredit\\n165235.16\\n2023-08-31\\nStrategy stuff ten.\\nINZPVH\\n383.33\\nCredit\\n165618.49'),\n",
              " Document(metadata={'source': '/content/bank_statement.pdf', 'page': 13}, page_content='Date\\nDescription\\nTrans. ID\\nAmount\\nType\\nBalance\\n2023-09-01\\nProfessor small so prove.\\nWPR933\\n344.49\\nCredit\\n165962.98\\n2023-09-01\\nBar arm happy ability use\\n8Q4RRO\\n365.06\\nDebit\\n165597.92\\n2023-09-01\\nHerself music it understa\\nZ28DXL\\n388.08\\nCredit\\n165986.0\\n2023-09-02\\nOn walk five standard or.\\nU8GHNB\\n79.17\\nDebit\\n165906.83\\n2023-09-02\\nResearch every voice.\\n0RZ8GQ\\n122.03\\nDebit\\n165784.8\\n2023-09-03\\nActivity prove from.\\n74KCOT\\n69.14\\nCredit\\n165853.94\\n2023-09-04\\nMan do traditional shake \\n0MWAPF\\n452.3\\nDebit\\n165401.64\\n2023-09-04\\nIt hot line bring speak.\\n7BYQ80'),\n",
              " Document(metadata={'source': '/content/bank_statement.pdf', 'page': 13}, page_content='Debit\\n165401.64\\n2023-09-04\\nIt hot line bring speak.\\n7BYQ80\\n429.47\\nCredit\\n165831.11\\n2023-09-05\\nReport message leg manage\\nWY26PB\\n65.14\\nCredit\\n165896.25\\n2023-09-05\\nBase up employee future.\\nLKPFE6\\n152.46\\nDebit\\n165743.79\\n2023-09-08\\nChange old woman bank.\\nQOMD3T\\n297.95\\nDebit\\n165445.84\\n2023-09-08\\nUse baby cup.\\nJRZXMM\\n481.09\\nCredit\\n165926.93\\n2023-09-08\\nFire speak where mind.\\nCUH9MS\\n7.14\\nDebit\\n165919.79\\n2023-09-10\\nIt happy our together.\\nKB1Z4S\\n332.87\\nDebit\\n165586.92\\n2023-09-12\\nYard site purpose.\\nKNXRG2\\n220.94\\nDebit\\n165365.98\\n2023-09-13'),\n",
              " Document(metadata={'source': '/content/bank_statement.pdf', 'page': 13}, page_content='Yard site purpose.\\nKNXRG2\\n220.94\\nDebit\\n165365.98\\n2023-09-13\\nSpend war sort world.\\nBUK97M\\n346.66\\nDebit\\n165019.32\\n2023-09-14\\nTest task purpose Congres\\nYTEMRE\\n456.74\\nCredit\\n165476.06\\n2023-09-14\\nAvailable top suggest no.\\nV2FBAU\\n304.14\\nDebit\\n165171.92\\n2023-09-14\\nGive fine family down.\\n3GS3DC\\n159.0\\nDebit\\n165012.92\\n2023-09-14\\nStock decide continue.\\nW2N4LI\\n457.15\\nDebit\\n164555.77\\n2023-09-14\\nPower enjoy wear.\\n2E5DFS\\n251.65\\nDebit\\n164304.12\\n2023-09-15\\nHold pretty probably loss\\nN9OUCK\\n310.72\\nDebit\\n163993.4\\n2023-09-16\\nPresent media business.\\nCQLG8E\\n70.43'),\n",
              " Document(metadata={'source': '/content/bank_statement.pdf', 'page': 13}, page_content='163993.4\\n2023-09-16\\nPresent media business.\\nCQLG8E\\n70.43\\nDebit\\n163922.97\\n2023-09-16\\nTeach method simple off.\\nMEJX6P\\n424.63\\nCredit\\n164347.6\\n2023-09-17\\nMust at traditional role.\\n9YXQQR\\n370.73\\nCredit\\n164718.33\\n2023-09-17\\nDraw me side education.\\nXZTCJ3\\n165.0\\nCredit\\n164883.33\\n2023-09-18\\nLess thus blue whatever.\\nP5K0UI\\n409.36\\nCredit\\n165292.69\\n2023-09-18\\nMonth turn board short he\\nJQOEZM\\n112.63\\nDebit\\n165180.06\\n2023-09-18\\nItem action car eat just.\\n10JJM5\\n159.03\\nDebit\\n165021.03\\n2023-09-19\\nMemory weight treat.\\nWHG7MA\\n98.11\\nCredit\\n165119.14\\n2023-09-19'),\n",
              " Document(metadata={'source': '/content/bank_statement.pdf', 'page': 13}, page_content='WHG7MA\\n98.11\\nCredit\\n165119.14\\n2023-09-19\\nFeeling carry office anim\\nHXRZ7N\\n106.15\\nDebit\\n165012.99\\n2023-09-19\\nAnd send reduce book.\\nVBPXDL\\n344.26\\nCredit\\n165357.25\\n2023-09-20\\nAgency run save social.\\nTJS0C1\\n432.11\\nDebit\\n164925.14\\n2023-09-20\\nOn walk nothing the drug.\\nUFKOUY\\n240.45\\nCredit\\n165165.59\\n2023-09-21\\nLeave doctor ball.\\n3CESSH\\n201.05\\nDebit\\n164964.54'),\n",
              " Document(metadata={'source': '/content/bank_statement.pdf', 'page': 14}, page_content='Date\\nDescription\\nTrans. ID\\nAmount\\nType\\nBalance\\n2023-09-24\\nConsumer something raise \\nVE5NS4\\n412.96\\nCredit\\n165377.5\\n2023-09-24\\nPurpose school better let\\nN0TX41\\n74.86\\nCredit\\n165452.36\\n2023-09-26\\nStudy prevent feeling pay\\nIAF2J5\\n453.22\\nDebit\\n164999.14\\n2023-09-26\\nGas side American whom.\\nL41ENR\\n401.58\\nDebit\\n164597.56\\n2023-09-26\\nNatural subject Mrs light\\n0HSGB2\\n280.49\\nCredit\\n164878.05\\n2023-09-27\\nUs growth wide respond do\\nMPXDQF\\n145.22\\nCredit\\n165023.27\\n2023-09-28\\nStructure moment cold sys\\nO0728X\\n459.66\\nCredit\\n165482.93\\n2023-09-28'),\n",
              " Document(metadata={'source': '/content/bank_statement.pdf', 'page': 14}, page_content='O0728X\\n459.66\\nCredit\\n165482.93\\n2023-09-28\\nShake onto adult at who.\\n5H5EPN\\n497.87\\nCredit\\n165980.8\\n2023-09-29\\nThe bank specific.\\n1312HP\\n258.03\\nCredit\\n166238.83\\n2023-09-30\\nGame song like seat say.\\nIEPGK2\\n247.34\\nDebit\\n165991.49\\n2023-10-03\\nScientist task poor expec\\n32HMI5\\n226.06\\nDebit\\n165765.43\\n2023-10-03\\nForce word true vote.\\n6FK22N\\n436.68\\nDebit\\n165328.75\\n2023-10-04\\nGreen reveal five half.\\nFZJ00Y\\n78.86\\nCredit\\n165407.61\\n2023-10-07\\nTax miss since management\\n6AZPV3\\n231.05\\nCredit\\n165638.66\\n2023-10-10\\nThroughout middle whom.\\n1J5DCD\\n6.41\\nDebit\\n165632.25'),\n",
              " Document(metadata={'source': '/content/bank_statement.pdf', 'page': 14}, page_content='Throughout middle whom.\\n1J5DCD\\n6.41\\nDebit\\n165632.25\\n2023-10-10\\nStore past pressure any.\\nMH1LJ5\\n232.68\\nDebit\\n165399.57\\n2023-10-12\\nManage small media visit.\\n1JF9UN\\n450.38\\nCredit\\n165849.95\\n2023-10-12\\nIt piece baby.\\nXBB7EU\\n15.78\\nDebit\\n165834.17\\n2023-10-14\\nPlace skill allow ago.\\n0YZW3U\\n353.31\\nCredit\\n166187.48\\n2023-10-14\\nExecutive team well kind.\\nQKNMDR\\n288.08\\nCredit\\n166475.56\\n2023-10-14\\nNight floor argue my.\\n98CMJT\\n44.87\\nDebit\\n166430.69\\n2023-10-18\\nStore see case enough.\\nP2T1YR\\n82.18\\nCredit\\n166512.87\\n2023-10-19\\nChair foot door.\\nSYIHWT\\n484.92\\nDebit'),\n",
              " Document(metadata={'source': '/content/bank_statement.pdf', 'page': 14}, page_content='166512.87\\n2023-10-19\\nChair foot door.\\nSYIHWT\\n484.92\\nDebit\\n166027.95\\n2023-10-19\\nHit to special recently b\\nYEJT4V\\n361.7\\nCredit\\n166389.65\\n2023-10-19\\nBe good accept.\\nWR4453\\n246.11\\nDebit\\n166143.54\\n2023-10-21\\nFirst single sign test.\\nORQ0B7\\n294.11\\nCredit\\n166437.65\\n2023-10-23\\nWeight east provide.\\nM5KK01\\n366.82\\nDebit\\n166070.83\\n2023-10-23\\nBetween drop child yeah.\\n6MN07X\\n204.79\\nCredit\\n166275.62\\n2023-10-23\\nSpace not number he girl.\\nTBGEX8\\n64.23\\nCredit\\n166339.85\\n2023-10-24\\nMiss yeah everyone oil.\\n931J4I\\n282.08\\nCredit\\n166621.93\\n2023-10-24'),\n",
              " Document(metadata={'source': '/content/bank_statement.pdf', 'page': 14}, page_content='931J4I\\n282.08\\nCredit\\n166621.93\\n2023-10-24\\nNothing seem there away.\\nSVFII7\\n424.46\\nDebit\\n166197.47\\n2023-10-25\\nKind reflect box voice.\\n23JKHL\\n448.78\\nCredit\\n166646.25\\n2023-10-25\\nSchool well security even\\nVEV9CK\\n476.8\\nCredit\\n167123.05\\n2023-10-25\\nNot save road natural.\\nVRMVX7\\n408.96\\nCredit\\n167532.01\\n2023-10-27\\nAnimal move travel.\\nPMNNS6\\n193.92\\nDebit\\n167338.09'),\n",
              " Document(metadata={'source': '/content/bank_statement.pdf', 'page': 15}, page_content='Date\\nDescription\\nTrans. ID\\nAmount\\nType\\nBalance\\n2023-10-27\\nPut week wife pick.\\n078IPM\\n270.51\\nDebit\\n167067.58\\n2023-10-28\\nBecause all week door.\\nDW5YH7\\n27.81\\nCredit\\n167095.39\\n2023-10-28\\nMother training myself al\\nE0KF90\\n214.76\\nCredit\\n167310.15\\n2023-10-31\\nMust message could bed.\\nHUMR01\\n345.78\\nDebit\\n166964.37\\n2023-11-01\\nQuite where actually.\\nMY7S06\\n228.42\\nCredit\\n167192.79\\n2023-11-01\\nHowever table PM as have.\\n7J7DRD\\n164.65\\nCredit\\n167357.44\\n2023-11-02\\nLand total avoid.\\nT725SW\\n279.56\\nDebit\\n167077.88\\n2023-11-03\\nArgue kid control day rat\\nS1J29L\\n320.85'),\n",
              " Document(metadata={'source': '/content/bank_statement.pdf', 'page': 15}, page_content='2023-11-03\\nArgue kid control day rat\\nS1J29L\\n320.85\\nDebit\\n166757.03\\n2023-11-06\\nAction ahead the.\\nPYOGMT\\n460.25\\nDebit\\n166296.78\\n2023-11-06\\nFine decade hot would.\\nK3WNN1\\n400.86\\nDebit\\n165895.92\\n2023-11-07\\nCareer write employee for\\nRC5WJU\\n355.12\\nDebit\\n165540.8\\n2023-11-08\\nPublic Mrs family yet.\\nD8AJQR\\n304.78\\nCredit\\n165845.58\\n2023-11-09\\nWest forget list two leav\\n6IF67T\\n444.41\\nCredit\\n166289.99\\n2023-11-09\\nPerson write reality.\\nG4AEVM\\n125.5\\nDebit\\n166164.49')]"
            ]
          },
          "metadata": {},
          "execution_count": 19
        }
      ],
      "source": [
        "documents_splitted"
      ]
    },
    {
      "cell_type": "code",
      "execution_count": null,
      "metadata": {
        "id": "zcVYkdI5n3FR"
      },
      "outputs": [],
      "source": [
        "# Embedding"
      ]
    },
    {
      "cell_type": "code",
      "execution_count": null,
      "metadata": {
        "id": "ERbiYe2foVgx",
        "colab": {
          "base_uri": "https://localhost:8080/",
          "height": 563,
          "referenced_widgets": [
            "64f6b1756e2441899f616180c8d4ed30",
            "407eb38cc4e942768ad50a5ea7ca90ee",
            "970ce4c1e4c849aaafba1d0fb7a056c5",
            "c7727012260f4fed90d34ee99e72c82b",
            "c9fd37a288004446b95a2a9957316666",
            "0b40d826a8264b5a8d6687a12ab0f80b",
            "9c31cca26fc84918a2eaf1baf42eddb3",
            "d72600d27b654477b239a2cb45893c41",
            "21a2459e0eaf4ebaaf0cee97590694c4",
            "7b18c266a508461cabb5186326b58436",
            "6912704a45fa48af9e42e1f9aa9c5138",
            "9dca4bf6af6049f49f9699f67620fd21",
            "7b98ecb574814fcf9b7522ba833b3a6c",
            "044c0dbbacfe4eae96ad0f51e6d8b22f",
            "cffa6345dc904b0f80ba3a2a22528841",
            "8a6e74045cb94863b04c9aaf96c189d8",
            "11e27c2110a44b389d528c38dbd96e79",
            "b736a38ebfc74a4a9f140f910c3913d5",
            "eb8f3cd5cbcc401a985c84cb52589290",
            "a20c4ff472dc499390e028b9943fdc2f",
            "244c95ce65284bd7a6a5aaf63ea1bbbf",
            "8a1ff1c6a84140b991f99ea7e32b6b5c",
            "b5a3a25a7020422d96ef4a60bb16a0b1",
            "38df382c5c93468183ee54877b71e213",
            "b6eefee4dd5c410a9a760185b31470e6",
            "6a72e24418d840b68876f0ebeb1b997e",
            "4c3f0e1c21ec434cbc757f2025c247d0",
            "a1942fa908ae4d10b2ac7387bed560b8",
            "531dcbb3e4754a4f947d5a03262edeb9",
            "79f965cc6503476897ca6b3138e74fae",
            "cbc8aa19dace4f0f83914653e0bd8e58",
            "a9110b928f2e42e3a64c4f20b9c587e1",
            "13c4bbf4c30040319718996f4191cddd",
            "055d562736db4507820a824d5add57a1",
            "24a7fa4111ef48eb88e27a7717c65ebe",
            "d390f64d6e0e4021bc22317f8a91c5b9",
            "42cfc7943c274c758e09d78dd2adc8de",
            "0c376bbd6222401d88d62fbf62c89612",
            "f5dfd959dd34426e9c574130036fc965",
            "8749963fd7b84cc0ad1eeae98520dcc8",
            "f3d5de18b7fc457cb52f869e9d1dfecf",
            "0451a386ba3d4061b9921c7a3455726e",
            "c545490024a641ca851e837dbfe1a332",
            "926492f23ea94d4f8154be5215a8f54c",
            "adf17c79855049e28d638b0a2d9e441d",
            "a244dbbe04f641b2b72ba6286e31b97c",
            "b10135682da54facab72ed81d96ecd21",
            "dff8401730cb46afa67c1a70dc6b9656",
            "7443d6e7562f4699a21d77f0d16a0b4e",
            "4099c0712a9b4668b2f431ff25591b17",
            "5811b73d50684002be4a221db7cdad6e",
            "6a203cbb11f64c72b0721439b8a35dbb",
            "9d4fa1be1ca3430eb00d8fa75d928f41",
            "0ba2343728d64e0888fe81c47b6892d8",
            "f8eb139e013f474aba18802f6b8b29b8",
            "eaa4b48fbe6b41af8cc0aef1b1b1ef0b",
            "70ebe6e6f5f7429ebf95709a8f983d8f",
            "b6b7596828084d8593fd3004b17b289c",
            "3686e0cb2b114b9790032ce26becc73f",
            "8803d51dfa8447888eafdea3881bbc90",
            "5a4f427333414c36ae80b8f1b5ea77cd",
            "61de4f34fb334442b1a1c8eaee60f851",
            "de0b6e9e3b96451c902480fabba7085e",
            "f63cf20527c345c68143f302b0ef6a8d",
            "ebf9bf95eef746c5af191c0b630c8ac6",
            "52923b929efe4bc0b26b705650b8ac35",
            "aaeb72dabf9842f88b6807fa5f37256e",
            "1da767fd34214e34a73864e3fdb7ee7d",
            "817f8ddf74024bc18de67aa4cad1a8b0",
            "83bebf21046a48ae8ed8d5c1f919c056",
            "06ab52047dce47ea9ce17362827114c7",
            "a42afbe3d6b54528a63c7c2d4fb6c3b9",
            "88c43838b6904afaae0ab1fe99a40ca7",
            "d84c053d76f5472e9f059ef49d3519b5",
            "ee144a3cabe74364bdf758c396c379ca",
            "c91b3ed6cc1e4cdf818411d20373b940",
            "eb843d8a1224401484eefe0c4d2cbefb",
            "692de5c8d64f4f39937e0786673ca21e",
            "c45b6181e5074275a1d3be99153d181a",
            "f76a95abca0b472cb86aa7bde2b4560e",
            "15d4d08d05bd4f409885c60c21254dad",
            "3c71ad32e6e1479bbff014c6ac89033c",
            "aad6cbdd1f724e8bb32ab759cc6758b0",
            "59f681d59796466abb4a98c1bf046382",
            "a1e50e8055e543828752ace2a14eab96",
            "3970fd058e5442dbb167f5719886fbf6",
            "3fb4a72d76ad4f9795ed097db6230da6",
            "92594241fce14604aaf9f690d4c3cf4f",
            "2af9807b08904ff4a38b52ef8924dd0e",
            "136a02ebbe2c44f2ad931e1f623e960c",
            "8ed766b2ea0e4940ba64af8807999031",
            "e2840857e8f446eca1f8c52f1a0d3689",
            "f68a3578bc834af7a4041cd7cb899b69",
            "61dde1d472eb402da8a73c726b971115",
            "fa94ce8d1346452b88a8300909ba5a41",
            "586b3eb14ae94556a0687bc32ea42e3d",
            "9072fda02e5b4d908be71f489645a1b2",
            "bdb6e834388e44c98c5a8ebdcb5bff57",
            "86c75be27ee9480394716947ef63e42e",
            "fc4f8f638351478b8cc715a07a6b305d",
            "dcd14d83f1da410681c055c9e19f6c2a",
            "b31f2d82afd84f3499840932d04fe044",
            "d67c53cc1c504a7b8df5cbcfbddaa049",
            "806074a6da4f45358ce8d3adcd878659",
            "5d6db66e3afe4474ba31d52df23feb6d",
            "51eb2ae8143b4f8d8bf908d967742296",
            "48d14d8b8f7c42baa4b528af14281068",
            "848a5d70edaf4da29717f3f5c6b6b2b9",
            "ab6ed86f437a4ccba091787cb41d0736",
            "136ab76bd6044304ae76c8505ccd4a7c",
            "bac9eefbf4a14ea8bf9f84d2fea33c95",
            "5e8dcda1f0ab4114ae08303fd36ca721",
            "1b1d0d00fdf74626ab766ff9d5112702",
            "85980acfc4594e9a985280483194eda7",
            "074536505f3745e58f13941a0306c763",
            "dfa1c65e04fd4e808e6d177cf15d3622",
            "d8e811c07e644d8c9a710ff241bfb0ed",
            "26b203721ead4b9695d65f2505f18b9d",
            "d4723599e35b4dfbabff2ec945235790",
            "5ec28c396327408486fe39d90310a1cf",
            "8a19f945f41a42978dac06dc254a8b41"
          ]
        },
        "outputId": "60c2d1a2-131b-410b-ab50-cb11afe9ab37"
      },
      "outputs": [
        {
          "output_type": "stream",
          "name": "stderr",
          "text": [
            "<ipython-input-21-619b9b04e661>:1: LangChainDeprecationWarning: The class `HuggingFaceEmbeddings` was deprecated in LangChain 0.2.2 and will be removed in 1.0. An updated version of the class exists in the :class:`~langchain-huggingface package and should be used instead. To use it run `pip install -U :class:`~langchain-huggingface` and import as `from :class:`~langchain_huggingface import HuggingFaceEmbeddings``.\n",
            "  embedding = HuggingFaceEmbeddings(model_name = \"sentence-transformers/all-MiniLM-L6-v2\",\n",
            "/usr/local/lib/python3.10/dist-packages/sentence_transformers/cross_encoder/CrossEncoder.py:13: TqdmExperimentalWarning: Using `tqdm.autonotebook.tqdm` in notebook mode. Use `tqdm.tqdm` instead to force console mode (e.g. in jupyter console)\n",
            "  from tqdm.autonotebook import tqdm, trange\n",
            "/usr/local/lib/python3.10/dist-packages/huggingface_hub/utils/_auth.py:94: UserWarning: \n",
            "The secret `HF_TOKEN` does not exist in your Colab secrets.\n",
            "To authenticate with the Hugging Face Hub, create a token in your settings tab (https://huggingface.co/settings/tokens), set it as secret in your Google Colab and restart your session.\n",
            "You will be able to reuse this secret in all of your notebooks.\n",
            "Please note that authentication is recommended but still optional to access public models or datasets.\n",
            "  warnings.warn(\n"
          ]
        },
        {
          "output_type": "display_data",
          "data": {
            "text/plain": [
              "modules.json:   0%|          | 0.00/349 [00:00<?, ?B/s]"
            ],
            "application/vnd.jupyter.widget-view+json": {
              "version_major": 2,
              "version_minor": 0,
              "model_id": "64f6b1756e2441899f616180c8d4ed30"
            }
          },
          "metadata": {}
        },
        {
          "output_type": "display_data",
          "data": {
            "text/plain": [
              "config_sentence_transformers.json:   0%|          | 0.00/116 [00:00<?, ?B/s]"
            ],
            "application/vnd.jupyter.widget-view+json": {
              "version_major": 2,
              "version_minor": 0,
              "model_id": "9dca4bf6af6049f49f9699f67620fd21"
            }
          },
          "metadata": {}
        },
        {
          "output_type": "display_data",
          "data": {
            "text/plain": [
              "README.md:   0%|          | 0.00/10.7k [00:00<?, ?B/s]"
            ],
            "application/vnd.jupyter.widget-view+json": {
              "version_major": 2,
              "version_minor": 0,
              "model_id": "b5a3a25a7020422d96ef4a60bb16a0b1"
            }
          },
          "metadata": {}
        },
        {
          "output_type": "display_data",
          "data": {
            "text/plain": [
              "sentence_bert_config.json:   0%|          | 0.00/53.0 [00:00<?, ?B/s]"
            ],
            "application/vnd.jupyter.widget-view+json": {
              "version_major": 2,
              "version_minor": 0,
              "model_id": "055d562736db4507820a824d5add57a1"
            }
          },
          "metadata": {}
        },
        {
          "output_type": "display_data",
          "data": {
            "text/plain": [
              "config.json:   0%|          | 0.00/612 [00:00<?, ?B/s]"
            ],
            "application/vnd.jupyter.widget-view+json": {
              "version_major": 2,
              "version_minor": 0,
              "model_id": "adf17c79855049e28d638b0a2d9e441d"
            }
          },
          "metadata": {}
        },
        {
          "output_type": "display_data",
          "data": {
            "text/plain": [
              "model.safetensors:   0%|          | 0.00/90.9M [00:00<?, ?B/s]"
            ],
            "application/vnd.jupyter.widget-view+json": {
              "version_major": 2,
              "version_minor": 0,
              "model_id": "eaa4b48fbe6b41af8cc0aef1b1b1ef0b"
            }
          },
          "metadata": {}
        },
        {
          "output_type": "display_data",
          "data": {
            "text/plain": [
              "tokenizer_config.json:   0%|          | 0.00/350 [00:00<?, ?B/s]"
            ],
            "application/vnd.jupyter.widget-view+json": {
              "version_major": 2,
              "version_minor": 0,
              "model_id": "aaeb72dabf9842f88b6807fa5f37256e"
            }
          },
          "metadata": {}
        },
        {
          "output_type": "display_data",
          "data": {
            "text/plain": [
              "vocab.txt:   0%|          | 0.00/232k [00:00<?, ?B/s]"
            ],
            "application/vnd.jupyter.widget-view+json": {
              "version_major": 2,
              "version_minor": 0,
              "model_id": "692de5c8d64f4f39937e0786673ca21e"
            }
          },
          "metadata": {}
        },
        {
          "output_type": "display_data",
          "data": {
            "text/plain": [
              "tokenizer.json:   0%|          | 0.00/466k [00:00<?, ?B/s]"
            ],
            "application/vnd.jupyter.widget-view+json": {
              "version_major": 2,
              "version_minor": 0,
              "model_id": "2af9807b08904ff4a38b52ef8924dd0e"
            }
          },
          "metadata": {}
        },
        {
          "output_type": "display_data",
          "data": {
            "text/plain": [
              "special_tokens_map.json:   0%|          | 0.00/112 [00:00<?, ?B/s]"
            ],
            "application/vnd.jupyter.widget-view+json": {
              "version_major": 2,
              "version_minor": 0,
              "model_id": "fc4f8f638351478b8cc715a07a6b305d"
            }
          },
          "metadata": {}
        },
        {
          "output_type": "display_data",
          "data": {
            "text/plain": [
              "1_Pooling/config.json:   0%|          | 0.00/190 [00:00<?, ?B/s]"
            ],
            "application/vnd.jupyter.widget-view+json": {
              "version_major": 2,
              "version_minor": 0,
              "model_id": "bac9eefbf4a14ea8bf9f84d2fea33c95"
            }
          },
          "metadata": {}
        }
      ],
      "source": [
        "embedding = HuggingFaceEmbeddings(model_name = \"sentence-transformers/all-MiniLM-L6-v2\",\n",
        "                                  model_kwargs = {\"device\": \"cpu\"})"
      ]
    },
    {
      "cell_type": "code",
      "execution_count": null,
      "metadata": {
        "id": "hXlkLlHgpQxE"
      },
      "outputs": [],
      "source": [
        "# Embed the document and stroe it in Vector DB"
      ]
    },
    {
      "cell_type": "code",
      "execution_count": null,
      "metadata": {
        "id": "Jb0gitHmpi4I"
      },
      "outputs": [],
      "source": [
        "vect = FAISS.from_documents(documents_splitted, embedding)"
      ]
    },
    {
      "cell_type": "code",
      "execution_count": null,
      "metadata": {
        "id": "AjLxE0F9p0CG"
      },
      "outputs": [],
      "source": [
        "vect.save_local(\"db/faiss\")"
      ]
    },
    {
      "cell_type": "code",
      "execution_count": null,
      "metadata": {
        "id": "G6oEv027qCPj"
      },
      "outputs": [],
      "source": [
        "# Setting Up Model (LLM)"
      ]
    },
    {
      "cell_type": "code",
      "execution_count": null,
      "metadata": {
        "id": "FWUPMX0HqRrN"
      },
      "outputs": [],
      "source": [
        "llm_model = CTransformers(\n",
        "    model = model_file,\n",
        "    model_type = \"llama\",\n",
        "    config = {\"max_new_tokens\":790, \"temperature\": 0.7}\n",
        ")"
      ]
    },
    {
      "cell_type": "code",
      "execution_count": null,
      "metadata": {
        "id": "h1ITQ2joq6hl"
      },
      "outputs": [],
      "source": [
        "# Prompting - Prompt Engineering"
      ]
    },
    {
      "cell_type": "code",
      "execution_count": null,
      "metadata": {
        "id": "t2hicJK8tC8W"
      },
      "outputs": [],
      "source": [
        "prompt = \"\"\"\n",
        "\n",
        "use the following information and answer the question based on that /\n",
        "provide only useful informations /\n",
        "if you do not know, do not try to make wrong answers /\n",
        "if you do not know, just respond as 'I do not know' /\n",
        "show only the answer alone /\n",
        "\n",
        "Example: what is the name\n",
        "output: Alex\n",
        "\n",
        "Context: {context}\n",
        "Questions: {question}\n",
        "\n",
        "\n",
        "\"\"\""
      ]
    },
    {
      "cell_type": "code",
      "execution_count": null,
      "metadata": {
        "id": "1-IgN_sGUCM7"
      },
      "outputs": [],
      "source": []
    },
    {
      "cell_type": "code",
      "execution_count": null,
      "metadata": {
        "id": "fCOTGEoRu5l9"
      },
      "outputs": [],
      "source": [
        "# Making Prompt template"
      ]
    },
    {
      "cell_type": "code",
      "execution_count": null,
      "metadata": {
        "id": "DRkjjJ2ovGq5"
      },
      "outputs": [],
      "source": [
        "from langchain import PromptTemplate\n",
        "from langchain.chains import RetrievalQA"
      ]
    },
    {
      "cell_type": "code",
      "execution_count": null,
      "metadata": {
        "id": "X7QnIM6_vWdP"
      },
      "outputs": [],
      "source": [
        "# Creating sub Functions"
      ]
    },
    {
      "cell_type": "code",
      "execution_count": null,
      "metadata": {
        "id": "9ua3cwKUvqsv"
      },
      "outputs": [],
      "source": [
        "def sqa_prompt():\n",
        "  prompt_temp = PromptTemplate(template= prompt, input_variables = ['context', 'question'])\n",
        "  return prompt_temp"
      ]
    },
    {
      "cell_type": "code",
      "execution_count": null,
      "metadata": {
        "id": "CTW7GVVIwDyR"
      },
      "outputs": [],
      "source": [
        "def ret_answer(llm_model_name, prompt_name, v_db):\n",
        "  ques_ans = RetrievalQA.from_chain_type(\n",
        "      llm = llm_model_name,\n",
        "      chain_type = \"stuff\",\n",
        "      chain_type_kwargs = {\"prompt\": prompt_name},\n",
        "      retriever = v_db.as_retriever(search_kwargs = {'k':2})\n",
        "  )\n",
        "  return ques_ans\n"
      ]
    },
    {
      "cell_type": "code",
      "execution_count": null,
      "metadata": {
        "id": "ayhiI1cuxhYB"
      },
      "outputs": [],
      "source": [
        "def setup_mode():\n",
        "  embb = HuggingFaceEmbeddings(model_name = \"sentence-transformers/all-MiniLM-L6-v2\",\n",
        "                                  model_kwargs = {\"device\": \"cpu\"})\n",
        "  vdb = FAISS.load_local(\"/content/db/faiss\", embb, allow_dangerous_deserialization= True)\n",
        "\n",
        "  pmt = sqa_prompt()\n",
        "\n",
        "  get_answer = ret_answer(llm_model, pmt, vdb)\n",
        "  return get_answer"
      ]
    },
    {
      "cell_type": "code",
      "execution_count": null,
      "metadata": {
        "id": "pr0Tw9HtyPwe"
      },
      "outputs": [],
      "source": [
        "# Final Load Run Of LLM model"
      ]
    },
    {
      "cell_type": "code",
      "execution_count": null,
      "metadata": {
        "id": "y8VkqkE5yVhz"
      },
      "outputs": [],
      "source": [
        "llm_qa_model = setup_mode()"
      ]
    },
    {
      "cell_type": "code",
      "execution_count": null,
      "metadata": {
        "id": "GxAKPokoyfVC"
      },
      "outputs": [],
      "source": [
        "text = \"what is the account holder name\""
      ]
    },
    {
      "cell_type": "code",
      "execution_count": null,
      "metadata": {
        "id": "VpJ-VPQuEym0"
      },
      "outputs": [],
      "source": [
        "text = \"what is Account Number:\""
      ]
    },
    {
      "cell_type": "code",
      "execution_count": null,
      "metadata": {
        "id": "fSgRYN83pmcq"
      },
      "outputs": [],
      "source": [
        "text = \"what is Approach:\""
      ]
    },
    {
      "cell_type": "code",
      "execution_count": null,
      "metadata": {
        "id": "geZqnTpTpu9b"
      },
      "outputs": [],
      "source": [
        "text = \"What is Data Collection\""
      ]
    },
    {
      "cell_type": "code",
      "execution_count": null,
      "metadata": {
        "id": "Gtn1LbLFpu53"
      },
      "outputs": [],
      "source": [
        "text = 'What is Data Preprocessing:'"
      ]
    },
    {
      "cell_type": "code",
      "execution_count": null,
      "metadata": {
        "id": "mYL9RbvApuxP"
      },
      "outputs": [],
      "source": []
    },
    {
      "cell_type": "code",
      "source": [],
      "metadata": {
        "id": "yq63gxMaQ9UU"
      },
      "execution_count": null,
      "outputs": []
    },
    {
      "cell_type": "code",
      "execution_count": null,
      "metadata": {
        "id": "k9CRM3ljyq01"
      },
      "outputs": [],
      "source": [
        "llm_qa_model({'query': text})"
      ]
    },
    {
      "cell_type": "code",
      "source": [
        "def get_answer(question):\n",
        "  return llm_qa_model({'query': question})"
      ],
      "metadata": {
        "id": "vO2XOu6EdMQt"
      },
      "execution_count": null,
      "outputs": []
    },
    {
      "cell_type": "code",
      "source": [
        "get_answer(text)"
      ],
      "metadata": {
        "colab": {
          "base_uri": "https://localhost:8080/"
        },
        "id": "yrUGvPP6dMIJ",
        "outputId": "c28bec14-d894-42ab-952a-48f190e3e162"
      },
      "execution_count": null,
      "outputs": [
        {
          "output_type": "execute_result",
          "data": {
            "text/plain": [
              "{'query': 'what is the account holder name', 'result': 'Output: John Doe'}"
            ]
          },
          "metadata": {},
          "execution_count": 63
        }
      ]
    },
    {
      "cell_type": "code",
      "source": [],
      "metadata": {
        "colab": {
          "base_uri": "https://localhost:8080/",
          "height": 35
        },
        "id": "Z6fqxd_VFnEN",
        "outputId": "ef211395-9e94-4af1-b6c8-c09e57fb1a70"
      },
      "execution_count": null,
      "outputs": [
        {
          "output_type": "execute_result",
          "data": {
            "text/plain": [
              "'Answer: John Doe'"
            ],
            "application/vnd.google.colaboratory.intrinsic+json": {
              "type": "string"
            }
          },
          "metadata": {},
          "execution_count": 51
        }
      ]
    },
    {
      "cell_type": "code",
      "source": [],
      "metadata": {
        "id": "SkPnz85rFmzN"
      },
      "execution_count": null,
      "outputs": []
    },
    {
      "cell_type": "code",
      "execution_count": null,
      "metadata": {
        "id": "fUXVMU7xTyts"
      },
      "outputs": [],
      "source": []
    },
    {
      "cell_type": "code",
      "source": [],
      "metadata": {
        "id": "xnTG6_z25BMa"
      },
      "execution_count": null,
      "outputs": []
    },
    {
      "cell_type": "code",
      "source": [],
      "metadata": {
        "id": "VOo7Tnc15BJp"
      },
      "execution_count": null,
      "outputs": []
    },
    {
      "cell_type": "code",
      "source": [],
      "metadata": {
        "id": "HI2XEWq35BHI"
      },
      "execution_count": null,
      "outputs": []
    },
    {
      "cell_type": "code",
      "source": [],
      "metadata": {
        "id": "lZ6A0D1y5BD1"
      },
      "execution_count": null,
      "outputs": []
    },
    {
      "cell_type": "code",
      "source": [],
      "metadata": {
        "id": "CNSVXjuT5BBE"
      },
      "execution_count": null,
      "outputs": []
    },
    {
      "cell_type": "code",
      "source": [],
      "metadata": {
        "id": "bm5boiLz5A4_"
      },
      "execution_count": null,
      "outputs": []
    },
    {
      "cell_type": "code",
      "source": [
        "!pip install streamlit\n",
        "!pip install pyngrok\n",
        "!pip install streamlit_option_menu\n"
      ],
      "metadata": {
        "colab": {
          "base_uri": "https://localhost:8080/"
        },
        "id": "eZ3O2aRK0U3m",
        "outputId": "805bc6eb-4fb9-437f-d260-94ed58a92abd",
        "collapsed": true
      },
      "execution_count": null,
      "outputs": [
        {
          "output_type": "stream",
          "name": "stdout",
          "text": [
            "Collecting streamlit\n",
            "  Downloading streamlit-1.40.2-py2.py3-none-any.whl.metadata (8.4 kB)\n",
            "Requirement already satisfied: altair<6,>=4.0 in /usr/local/lib/python3.10/dist-packages (from streamlit) (4.2.2)\n",
            "Requirement already satisfied: blinker<2,>=1.0.0 in /usr/local/lib/python3.10/dist-packages (from streamlit) (1.9.0)\n",
            "Requirement already satisfied: cachetools<6,>=4.0 in /usr/local/lib/python3.10/dist-packages (from streamlit) (5.5.0)\n",
            "Requirement already satisfied: click<9,>=7.0 in /usr/local/lib/python3.10/dist-packages (from streamlit) (8.1.7)\n",
            "Requirement already satisfied: numpy<3,>=1.23 in /usr/local/lib/python3.10/dist-packages (from streamlit) (1.26.4)\n",
            "Requirement already satisfied: packaging<25,>=20 in /usr/local/lib/python3.10/dist-packages (from streamlit) (24.2)\n",
            "Requirement already satisfied: pandas<3,>=1.4.0 in /usr/local/lib/python3.10/dist-packages (from streamlit) (2.2.2)\n",
            "Requirement already satisfied: pillow<12,>=7.1.0 in /usr/local/lib/python3.10/dist-packages (from streamlit) (11.0.0)\n",
            "Requirement already satisfied: protobuf<6,>=3.20 in /usr/local/lib/python3.10/dist-packages (from streamlit) (4.25.5)\n",
            "Requirement already satisfied: pyarrow>=7.0 in /usr/local/lib/python3.10/dist-packages (from streamlit) (17.0.0)\n",
            "Requirement already satisfied: requests<3,>=2.27 in /usr/local/lib/python3.10/dist-packages (from streamlit) (2.32.3)\n",
            "Requirement already satisfied: rich<14,>=10.14.0 in /usr/local/lib/python3.10/dist-packages (from streamlit) (13.9.4)\n",
            "Requirement already satisfied: tenacity<10,>=8.1.0 in /usr/local/lib/python3.10/dist-packages (from streamlit) (9.0.0)\n",
            "Requirement already satisfied: toml<2,>=0.10.1 in /usr/local/lib/python3.10/dist-packages (from streamlit) (0.10.2)\n",
            "Requirement already satisfied: typing-extensions<5,>=4.3.0 in /usr/local/lib/python3.10/dist-packages (from streamlit) (4.12.2)\n",
            "Collecting watchdog<7,>=2.1.5 (from streamlit)\n",
            "  Downloading watchdog-6.0.0-py3-none-manylinux2014_x86_64.whl.metadata (44 kB)\n",
            "\u001b[2K     \u001b[90m━━━━━━━━━━━━━━━━━━━━━━━━━━━━━━━━━━━━━━━━\u001b[0m \u001b[32m44.3/44.3 kB\u001b[0m \u001b[31m3.3 MB/s\u001b[0m eta \u001b[36m0:00:00\u001b[0m\n",
            "\u001b[?25hRequirement already satisfied: gitpython!=3.1.19,<4,>=3.0.7 in /usr/local/lib/python3.10/dist-packages (from streamlit) (3.1.43)\n",
            "Collecting pydeck<1,>=0.8.0b4 (from streamlit)\n",
            "  Downloading pydeck-0.9.1-py2.py3-none-any.whl.metadata (4.1 kB)\n",
            "Requirement already satisfied: tornado<7,>=6.0.3 in /usr/local/lib/python3.10/dist-packages (from streamlit) (6.3.3)\n",
            "Requirement already satisfied: entrypoints in /usr/local/lib/python3.10/dist-packages (from altair<6,>=4.0->streamlit) (0.4)\n",
            "Requirement already satisfied: jinja2 in /usr/local/lib/python3.10/dist-packages (from altair<6,>=4.0->streamlit) (3.1.4)\n",
            "Requirement already satisfied: jsonschema>=3.0 in /usr/local/lib/python3.10/dist-packages (from altair<6,>=4.0->streamlit) (4.23.0)\n",
            "Requirement already satisfied: toolz in /usr/local/lib/python3.10/dist-packages (from altair<6,>=4.0->streamlit) (0.12.1)\n",
            "Requirement already satisfied: gitdb<5,>=4.0.1 in /usr/local/lib/python3.10/dist-packages (from gitpython!=3.1.19,<4,>=3.0.7->streamlit) (4.0.11)\n",
            "Requirement already satisfied: python-dateutil>=2.8.2 in /usr/local/lib/python3.10/dist-packages (from pandas<3,>=1.4.0->streamlit) (2.8.2)\n",
            "Requirement already satisfied: pytz>=2020.1 in /usr/local/lib/python3.10/dist-packages (from pandas<3,>=1.4.0->streamlit) (2024.2)\n",
            "Requirement already satisfied: tzdata>=2022.7 in /usr/local/lib/python3.10/dist-packages (from pandas<3,>=1.4.0->streamlit) (2024.2)\n",
            "Requirement already satisfied: charset-normalizer<4,>=2 in /usr/local/lib/python3.10/dist-packages (from requests<3,>=2.27->streamlit) (3.4.0)\n",
            "Requirement already satisfied: idna<4,>=2.5 in /usr/local/lib/python3.10/dist-packages (from requests<3,>=2.27->streamlit) (3.10)\n",
            "Requirement already satisfied: urllib3<3,>=1.21.1 in /usr/local/lib/python3.10/dist-packages (from requests<3,>=2.27->streamlit) (2.2.3)\n",
            "Requirement already satisfied: certifi>=2017.4.17 in /usr/local/lib/python3.10/dist-packages (from requests<3,>=2.27->streamlit) (2024.8.30)\n",
            "Requirement already satisfied: markdown-it-py>=2.2.0 in /usr/local/lib/python3.10/dist-packages (from rich<14,>=10.14.0->streamlit) (3.0.0)\n",
            "Requirement already satisfied: pygments<3.0.0,>=2.13.0 in /usr/local/lib/python3.10/dist-packages (from rich<14,>=10.14.0->streamlit) (2.18.0)\n",
            "Requirement already satisfied: smmap<6,>=3.0.1 in /usr/local/lib/python3.10/dist-packages (from gitdb<5,>=4.0.1->gitpython!=3.1.19,<4,>=3.0.7->streamlit) (5.0.1)\n",
            "Requirement already satisfied: MarkupSafe>=2.0 in /usr/local/lib/python3.10/dist-packages (from jinja2->altair<6,>=4.0->streamlit) (3.0.2)\n",
            "Requirement already satisfied: attrs>=22.2.0 in /usr/local/lib/python3.10/dist-packages (from jsonschema>=3.0->altair<6,>=4.0->streamlit) (24.2.0)\n",
            "Requirement already satisfied: jsonschema-specifications>=2023.03.6 in /usr/local/lib/python3.10/dist-packages (from jsonschema>=3.0->altair<6,>=4.0->streamlit) (2024.10.1)\n",
            "Requirement already satisfied: referencing>=0.28.4 in /usr/local/lib/python3.10/dist-packages (from jsonschema>=3.0->altair<6,>=4.0->streamlit) (0.35.1)\n",
            "Requirement already satisfied: rpds-py>=0.7.1 in /usr/local/lib/python3.10/dist-packages (from jsonschema>=3.0->altair<6,>=4.0->streamlit) (0.22.3)\n",
            "Requirement already satisfied: mdurl~=0.1 in /usr/local/lib/python3.10/dist-packages (from markdown-it-py>=2.2.0->rich<14,>=10.14.0->streamlit) (0.1.2)\n",
            "Requirement already satisfied: six>=1.5 in /usr/local/lib/python3.10/dist-packages (from python-dateutil>=2.8.2->pandas<3,>=1.4.0->streamlit) (1.16.0)\n",
            "Downloading streamlit-1.40.2-py2.py3-none-any.whl (8.6 MB)\n",
            "\u001b[2K   \u001b[90m━━━━━━━━━━━━━━━━━━━━━━━━━━━━━━━━━━━━━━━━\u001b[0m \u001b[32m8.6/8.6 MB\u001b[0m \u001b[31m92.4 MB/s\u001b[0m eta \u001b[36m0:00:00\u001b[0m\n",
            "\u001b[?25hDownloading pydeck-0.9.1-py2.py3-none-any.whl (6.9 MB)\n",
            "\u001b[2K   \u001b[90m━━━━━━━━━━━━━━━━━━━━━━━━━━━━━━━━━━━━━━━━\u001b[0m \u001b[32m6.9/6.9 MB\u001b[0m \u001b[31m77.4 MB/s\u001b[0m eta \u001b[36m0:00:00\u001b[0m\n",
            "\u001b[?25hDownloading watchdog-6.0.0-py3-none-manylinux2014_x86_64.whl (79 kB)\n",
            "\u001b[2K   \u001b[90m━━━━━━━━━━━━━━━━━━━━━━━━━━━━━━━━━━━━━━━━\u001b[0m \u001b[32m79.1/79.1 kB\u001b[0m \u001b[31m6.0 MB/s\u001b[0m eta \u001b[36m0:00:00\u001b[0m\n",
            "\u001b[?25hInstalling collected packages: watchdog, pydeck, streamlit\n",
            "Successfully installed pydeck-0.9.1 streamlit-1.40.2 watchdog-6.0.0\n",
            "Collecting pyngrok\n",
            "  Downloading pyngrok-7.2.1-py3-none-any.whl.metadata (8.3 kB)\n",
            "Requirement already satisfied: PyYAML>=5.1 in /usr/local/lib/python3.10/dist-packages (from pyngrok) (6.0.2)\n",
            "Downloading pyngrok-7.2.1-py3-none-any.whl (22 kB)\n",
            "Installing collected packages: pyngrok\n",
            "Successfully installed pyngrok-7.2.1\n",
            "Collecting streamlit_option_menu\n",
            "  Downloading streamlit_option_menu-0.4.0-py3-none-any.whl.metadata (2.5 kB)\n",
            "Requirement already satisfied: streamlit>=1.36 in /usr/local/lib/python3.10/dist-packages (from streamlit_option_menu) (1.40.2)\n",
            "Requirement already satisfied: altair<6,>=4.0 in /usr/local/lib/python3.10/dist-packages (from streamlit>=1.36->streamlit_option_menu) (4.2.2)\n",
            "Requirement already satisfied: blinker<2,>=1.0.0 in /usr/local/lib/python3.10/dist-packages (from streamlit>=1.36->streamlit_option_menu) (1.9.0)\n",
            "Requirement already satisfied: cachetools<6,>=4.0 in /usr/local/lib/python3.10/dist-packages (from streamlit>=1.36->streamlit_option_menu) (5.5.0)\n",
            "Requirement already satisfied: click<9,>=7.0 in /usr/local/lib/python3.10/dist-packages (from streamlit>=1.36->streamlit_option_menu) (8.1.7)\n",
            "Requirement already satisfied: numpy<3,>=1.23 in /usr/local/lib/python3.10/dist-packages (from streamlit>=1.36->streamlit_option_menu) (1.26.4)\n",
            "Requirement already satisfied: packaging<25,>=20 in /usr/local/lib/python3.10/dist-packages (from streamlit>=1.36->streamlit_option_menu) (24.2)\n",
            "Requirement already satisfied: pandas<3,>=1.4.0 in /usr/local/lib/python3.10/dist-packages (from streamlit>=1.36->streamlit_option_menu) (2.2.2)\n",
            "Requirement already satisfied: pillow<12,>=7.1.0 in /usr/local/lib/python3.10/dist-packages (from streamlit>=1.36->streamlit_option_menu) (11.0.0)\n",
            "Requirement already satisfied: protobuf<6,>=3.20 in /usr/local/lib/python3.10/dist-packages (from streamlit>=1.36->streamlit_option_menu) (4.25.5)\n",
            "Requirement already satisfied: pyarrow>=7.0 in /usr/local/lib/python3.10/dist-packages (from streamlit>=1.36->streamlit_option_menu) (17.0.0)\n",
            "Requirement already satisfied: requests<3,>=2.27 in /usr/local/lib/python3.10/dist-packages (from streamlit>=1.36->streamlit_option_menu) (2.32.3)\n",
            "Requirement already satisfied: rich<14,>=10.14.0 in /usr/local/lib/python3.10/dist-packages (from streamlit>=1.36->streamlit_option_menu) (13.9.4)\n",
            "Requirement already satisfied: tenacity<10,>=8.1.0 in /usr/local/lib/python3.10/dist-packages (from streamlit>=1.36->streamlit_option_menu) (9.0.0)\n",
            "Requirement already satisfied: toml<2,>=0.10.1 in /usr/local/lib/python3.10/dist-packages (from streamlit>=1.36->streamlit_option_menu) (0.10.2)\n",
            "Requirement already satisfied: typing-extensions<5,>=4.3.0 in /usr/local/lib/python3.10/dist-packages (from streamlit>=1.36->streamlit_option_menu) (4.12.2)\n",
            "Requirement already satisfied: watchdog<7,>=2.1.5 in /usr/local/lib/python3.10/dist-packages (from streamlit>=1.36->streamlit_option_menu) (6.0.0)\n",
            "Requirement already satisfied: gitpython!=3.1.19,<4,>=3.0.7 in /usr/local/lib/python3.10/dist-packages (from streamlit>=1.36->streamlit_option_menu) (3.1.43)\n",
            "Requirement already satisfied: pydeck<1,>=0.8.0b4 in /usr/local/lib/python3.10/dist-packages (from streamlit>=1.36->streamlit_option_menu) (0.9.1)\n",
            "Requirement already satisfied: tornado<7,>=6.0.3 in /usr/local/lib/python3.10/dist-packages (from streamlit>=1.36->streamlit_option_menu) (6.3.3)\n",
            "Requirement already satisfied: entrypoints in /usr/local/lib/python3.10/dist-packages (from altair<6,>=4.0->streamlit>=1.36->streamlit_option_menu) (0.4)\n",
            "Requirement already satisfied: jinja2 in /usr/local/lib/python3.10/dist-packages (from altair<6,>=4.0->streamlit>=1.36->streamlit_option_menu) (3.1.4)\n",
            "Requirement already satisfied: jsonschema>=3.0 in /usr/local/lib/python3.10/dist-packages (from altair<6,>=4.0->streamlit>=1.36->streamlit_option_menu) (4.23.0)\n",
            "Requirement already satisfied: toolz in /usr/local/lib/python3.10/dist-packages (from altair<6,>=4.0->streamlit>=1.36->streamlit_option_menu) (0.12.1)\n",
            "Requirement already satisfied: gitdb<5,>=4.0.1 in /usr/local/lib/python3.10/dist-packages (from gitpython!=3.1.19,<4,>=3.0.7->streamlit>=1.36->streamlit_option_menu) (4.0.11)\n",
            "Requirement already satisfied: python-dateutil>=2.8.2 in /usr/local/lib/python3.10/dist-packages (from pandas<3,>=1.4.0->streamlit>=1.36->streamlit_option_menu) (2.8.2)\n",
            "Requirement already satisfied: pytz>=2020.1 in /usr/local/lib/python3.10/dist-packages (from pandas<3,>=1.4.0->streamlit>=1.36->streamlit_option_menu) (2024.2)\n",
            "Requirement already satisfied: tzdata>=2022.7 in /usr/local/lib/python3.10/dist-packages (from pandas<3,>=1.4.0->streamlit>=1.36->streamlit_option_menu) (2024.2)\n",
            "Requirement already satisfied: charset-normalizer<4,>=2 in /usr/local/lib/python3.10/dist-packages (from requests<3,>=2.27->streamlit>=1.36->streamlit_option_menu) (3.4.0)\n",
            "Requirement already satisfied: idna<4,>=2.5 in /usr/local/lib/python3.10/dist-packages (from requests<3,>=2.27->streamlit>=1.36->streamlit_option_menu) (3.10)\n",
            "Requirement already satisfied: urllib3<3,>=1.21.1 in /usr/local/lib/python3.10/dist-packages (from requests<3,>=2.27->streamlit>=1.36->streamlit_option_menu) (2.2.3)\n",
            "Requirement already satisfied: certifi>=2017.4.17 in /usr/local/lib/python3.10/dist-packages (from requests<3,>=2.27->streamlit>=1.36->streamlit_option_menu) (2024.8.30)\n",
            "Requirement already satisfied: markdown-it-py>=2.2.0 in /usr/local/lib/python3.10/dist-packages (from rich<14,>=10.14.0->streamlit>=1.36->streamlit_option_menu) (3.0.0)\n",
            "Requirement already satisfied: pygments<3.0.0,>=2.13.0 in /usr/local/lib/python3.10/dist-packages (from rich<14,>=10.14.0->streamlit>=1.36->streamlit_option_menu) (2.18.0)\n",
            "Requirement already satisfied: smmap<6,>=3.0.1 in /usr/local/lib/python3.10/dist-packages (from gitdb<5,>=4.0.1->gitpython!=3.1.19,<4,>=3.0.7->streamlit>=1.36->streamlit_option_menu) (5.0.1)\n",
            "Requirement already satisfied: MarkupSafe>=2.0 in /usr/local/lib/python3.10/dist-packages (from jinja2->altair<6,>=4.0->streamlit>=1.36->streamlit_option_menu) (3.0.2)\n",
            "Requirement already satisfied: attrs>=22.2.0 in /usr/local/lib/python3.10/dist-packages (from jsonschema>=3.0->altair<6,>=4.0->streamlit>=1.36->streamlit_option_menu) (24.2.0)\n",
            "Requirement already satisfied: jsonschema-specifications>=2023.03.6 in /usr/local/lib/python3.10/dist-packages (from jsonschema>=3.0->altair<6,>=4.0->streamlit>=1.36->streamlit_option_menu) (2024.10.1)\n",
            "Requirement already satisfied: referencing>=0.28.4 in /usr/local/lib/python3.10/dist-packages (from jsonschema>=3.0->altair<6,>=4.0->streamlit>=1.36->streamlit_option_menu) (0.35.1)\n",
            "Requirement already satisfied: rpds-py>=0.7.1 in /usr/local/lib/python3.10/dist-packages (from jsonschema>=3.0->altair<6,>=4.0->streamlit>=1.36->streamlit_option_menu) (0.22.3)\n",
            "Requirement already satisfied: mdurl~=0.1 in /usr/local/lib/python3.10/dist-packages (from markdown-it-py>=2.2.0->rich<14,>=10.14.0->streamlit>=1.36->streamlit_option_menu) (0.1.2)\n",
            "Requirement already satisfied: six>=1.5 in /usr/local/lib/python3.10/dist-packages (from python-dateutil>=2.8.2->pandas<3,>=1.4.0->streamlit>=1.36->streamlit_option_menu) (1.16.0)\n",
            "Downloading streamlit_option_menu-0.4.0-py3-none-any.whl (829 kB)\n",
            "\u001b[2K   \u001b[90m━━━━━━━━━━━━━━━━━━━━━━━━━━━━━━━━━━━━━━━━\u001b[0m \u001b[32m829.3/829.3 kB\u001b[0m \u001b[31m37.2 MB/s\u001b[0m eta \u001b[36m0:00:00\u001b[0m\n",
            "\u001b[?25hInstalling collected packages: streamlit_option_menu\n",
            "Successfully installed streamlit_option_menu-0.4.0\n"
          ]
        }
      ]
    },
    {
      "cell_type": "code",
      "source": [
        "from pyngrok import ngrok\n",
        "import os\n",
        "import streamlit as st\n",
        "import pandas as pd\n",
        "import pickle\n",
        "import numpy as np"
      ],
      "metadata": {
        "id": "Uip2qkTH0U0K"
      },
      "execution_count": null,
      "outputs": []
    },
    {
      "cell_type": "code",
      "source": [
        "from pyngrok import ngrok\n",
        "!ngrok config add-authtoken 2pvDLkOlgCRJDIeuQlNSrb9PlR1_MAtDJP9fNL7s9rB8DzKT"
      ],
      "metadata": {
        "colab": {
          "base_uri": "https://localhost:8080/"
        },
        "id": "QorRgQXl0Uw9",
        "outputId": "f387e159-27b0-4e73-e4f3-f500ad831832"
      },
      "execution_count": null,
      "outputs": [
        {
          "output_type": "stream",
          "name": "stdout",
          "text": [
            "Authtoken saved to configuration file: /root/.config/ngrok/ngrok.yml\n"
          ]
        }
      ]
    },
    {
      "cell_type": "code",
      "source": [
        "\n",
        "###BUILD STREAMLIT APP CODE\n",
        "%%writefile app.py\n",
        "import streamlit as st\n",
        "from streamlit_option_menu import option_menu\n",
        "import pandas as pd\n",
        "import pickle\n",
        "import numpy as np\n",
        "\n",
        "\n",
        "from langchain.document_loaders import PyPDFLoader, DirectoryLoader\n",
        "\n",
        "from langchain.text_splitter import RecursiveCharacterTextSplitter\n",
        "from langchain.embeddings import HuggingFaceEmbeddings\n",
        "\n",
        "from langchain.vectorstores import FAISS\n",
        "\n",
        "import box\n",
        "from langchain.llms import CTransformers\n",
        "\n",
        "model_file = \"/content/drive/MyDrive/Project File/llama-2-7b-chat.ggmlv3.q8_0.bin\"\n",
        "\n",
        "dir_files = DirectoryLoader(\"/content/\", glob= \"*.pdf\", loader_cls= PyPDFLoader)\n",
        "\n",
        "docs = dir_files.load()\n",
        "\n",
        "splited_text = RecursiveCharacterTextSplitter(chunk_size = 550, chunk_overlap = 60)\n",
        "\n",
        "documents_splitted = splited_text.split_documents(docs)\n",
        "\n",
        "embedding = HuggingFaceEmbeddings(model_name = \"sentence-transformers/all-MiniLM-L6-v2\",\n",
        "                                  model_kwargs = {\"device\": \"cpu\"})\n",
        "\n",
        "vect = FAISS.from_documents(documents_splitted, embedding)\n",
        "vect.save_local(\"db/faiss\")\n",
        "\n",
        "llm_model = CTransformers(\n",
        "    model = model_file,\n",
        "    model_type = \"llama\",\n",
        "    config = {\"max_new_tokens\":790, \"temperature\": 0.7}\n",
        ")\n",
        "\n",
        "prompt = \"\"\"\n",
        "\n",
        "use the following information and answer the question based on that /\n",
        "provide only useful informations /\n",
        "if you do not know, do not try to make wrong answers /\n",
        "if you do not know, just respond as 'I do not know' /\n",
        "show only the answer alone /\n",
        "\n",
        "Example: what is the name\n",
        "output: Alex\n",
        "\n",
        "Context: {context}\n",
        "Questions: {question}\n",
        "\n",
        "\n",
        "\"\"\"\n",
        "\n",
        "from langchain import PromptTemplate\n",
        "from langchain.chains import RetrievalQA\n",
        "\n",
        "def sqa_prompt():\n",
        "  prompt_temp = PromptTemplate(template= prompt, input_variables = ['context', 'question'])\n",
        "  return prompt_temp\n",
        "\n",
        "\n",
        "def ret_answer(llm_model_name, prompt_name, v_db):\n",
        "  ques_ans = RetrievalQA.from_chain_type(\n",
        "      llm = llm_model_name,\n",
        "      chain_type = \"stuff\",\n",
        "      chain_type_kwargs = {\"prompt\": prompt_name},\n",
        "      retriever = v_db.as_retriever(search_kwargs = {'k':2})\n",
        "  )\n",
        "  return ques_ans\n",
        "\n",
        "def setup_mode():\n",
        "  embb = HuggingFaceEmbeddings(model_name = \"sentence-transformers/all-MiniLM-L6-v2\",\n",
        "                                  model_kwargs = {\"device\": \"cpu\"})\n",
        "  vdb = FAISS.load_local(\"/content/db/faiss\", embb, allow_dangerous_deserialization= True)\n",
        "\n",
        "  pmt = sqa_prompt()\n",
        "\n",
        "  get_answer = ret_answer(llm_model, pmt, vdb)\n",
        "  return get_answer\n",
        "\n",
        "\n",
        "llm_qa_model = setup_mode()\n",
        "\n",
        "\n",
        "\n",
        "st.title('Chatbot')\n",
        "\n",
        "def get_result(question):\n",
        "  return llm_qa_model({'query': question})\n",
        "\n",
        "\n",
        "que=st.chat_input('Enter your question')\n",
        "\n",
        "if que:\n",
        "\n",
        "  #st.chat_message(get_result(que))\n",
        "  st.chat_message('ai').write(get_result(que)['result'])"
      ],
      "metadata": {
        "colab": {
          "base_uri": "https://localhost:8080/"
        },
        "id": "ZBASO2UC0Usc",
        "outputId": "d8bb7732-317f-4e21-8e6a-b94d5c1cc84a"
      },
      "execution_count": null,
      "outputs": [
        {
          "output_type": "stream",
          "name": "stdout",
          "text": [
            "Overwriting app.py\n"
          ]
        }
      ]
    },
    {
      "cell_type": "code",
      "source": [
        "# Step 3.1: Run Streamlit in the background\n",
        "os.system(\"streamlit run app.py &\")\n",
        "\n",
        "for tunnel in ngrok.get_tunnels():\n",
        "    ngrok.disconnect(tunnel.public_url)  # Use ngrok.disconnect() to close the tunnel\n",
        "\n",
        "# Step 3.2: Start ngrok tunnel to expose Streamlit app\n",
        "public_url = ngrok.connect(addr=\"8501\")\n",
        "print(f\"Streamlit app is accessible at: {public_url}\")"
      ],
      "metadata": {
        "colab": {
          "base_uri": "https://localhost:8080/"
        },
        "id": "DZF66XwG0tH0",
        "outputId": "e090d3e5-5154-41c7-c23b-b78afc30f230"
      },
      "execution_count": null,
      "outputs": [
        {
          "output_type": "stream",
          "name": "stdout",
          "text": [
            "Streamlit app is accessible at: NgrokTunnel: \"https://d754-35-245-6-67.ngrok-free.app\" -> \"http://localhost:8501\"\n"
          ]
        }
      ]
    },
    {
      "cell_type": "code",
      "source": [
        "####"
      ],
      "metadata": {
        "id": "_GzuULFc18ZF"
      },
      "execution_count": null,
      "outputs": []
    },
    {
      "cell_type": "code",
      "source": [],
      "metadata": {
        "id": "E_NtXs8IK-er"
      },
      "execution_count": null,
      "outputs": []
    }
  ],
  "metadata": {
    "colab": {
      "provenance": []
    },
    "kernelspec": {
      "display_name": "Python 3",
      "name": "python3"
    },
    "language_info": {
      "name": "python"
    },
    "widgets": {
      "application/vnd.jupyter.widget-state+json": {
        "64f6b1756e2441899f616180c8d4ed30": {
          "model_module": "@jupyter-widgets/controls",
          "model_name": "HBoxModel",
          "model_module_version": "1.5.0",
          "state": {
            "_dom_classes": [],
            "_model_module": "@jupyter-widgets/controls",
            "_model_module_version": "1.5.0",
            "_model_name": "HBoxModel",
            "_view_count": null,
            "_view_module": "@jupyter-widgets/controls",
            "_view_module_version": "1.5.0",
            "_view_name": "HBoxView",
            "box_style": "",
            "children": [
              "IPY_MODEL_407eb38cc4e942768ad50a5ea7ca90ee",
              "IPY_MODEL_970ce4c1e4c849aaafba1d0fb7a056c5",
              "IPY_MODEL_c7727012260f4fed90d34ee99e72c82b"
            ],
            "layout": "IPY_MODEL_c9fd37a288004446b95a2a9957316666"
          }
        },
        "407eb38cc4e942768ad50a5ea7ca90ee": {
          "model_module": "@jupyter-widgets/controls",
          "model_name": "HTMLModel",
          "model_module_version": "1.5.0",
          "state": {
            "_dom_classes": [],
            "_model_module": "@jupyter-widgets/controls",
            "_model_module_version": "1.5.0",
            "_model_name": "HTMLModel",
            "_view_count": null,
            "_view_module": "@jupyter-widgets/controls",
            "_view_module_version": "1.5.0",
            "_view_name": "HTMLView",
            "description": "",
            "description_tooltip": null,
            "layout": "IPY_MODEL_0b40d826a8264b5a8d6687a12ab0f80b",
            "placeholder": "​",
            "style": "IPY_MODEL_9c31cca26fc84918a2eaf1baf42eddb3",
            "value": "modules.json: 100%"
          }
        },
        "970ce4c1e4c849aaafba1d0fb7a056c5": {
          "model_module": "@jupyter-widgets/controls",
          "model_name": "FloatProgressModel",
          "model_module_version": "1.5.0",
          "state": {
            "_dom_classes": [],
            "_model_module": "@jupyter-widgets/controls",
            "_model_module_version": "1.5.0",
            "_model_name": "FloatProgressModel",
            "_view_count": null,
            "_view_module": "@jupyter-widgets/controls",
            "_view_module_version": "1.5.0",
            "_view_name": "ProgressView",
            "bar_style": "success",
            "description": "",
            "description_tooltip": null,
            "layout": "IPY_MODEL_d72600d27b654477b239a2cb45893c41",
            "max": 349,
            "min": 0,
            "orientation": "horizontal",
            "style": "IPY_MODEL_21a2459e0eaf4ebaaf0cee97590694c4",
            "value": 349
          }
        },
        "c7727012260f4fed90d34ee99e72c82b": {
          "model_module": "@jupyter-widgets/controls",
          "model_name": "HTMLModel",
          "model_module_version": "1.5.0",
          "state": {
            "_dom_classes": [],
            "_model_module": "@jupyter-widgets/controls",
            "_model_module_version": "1.5.0",
            "_model_name": "HTMLModel",
            "_view_count": null,
            "_view_module": "@jupyter-widgets/controls",
            "_view_module_version": "1.5.0",
            "_view_name": "HTMLView",
            "description": "",
            "description_tooltip": null,
            "layout": "IPY_MODEL_7b18c266a508461cabb5186326b58436",
            "placeholder": "​",
            "style": "IPY_MODEL_6912704a45fa48af9e42e1f9aa9c5138",
            "value": " 349/349 [00:00&lt;00:00, 13.0kB/s]"
          }
        },
        "c9fd37a288004446b95a2a9957316666": {
          "model_module": "@jupyter-widgets/base",
          "model_name": "LayoutModel",
          "model_module_version": "1.2.0",
          "state": {
            "_model_module": "@jupyter-widgets/base",
            "_model_module_version": "1.2.0",
            "_model_name": "LayoutModel",
            "_view_count": null,
            "_view_module": "@jupyter-widgets/base",
            "_view_module_version": "1.2.0",
            "_view_name": "LayoutView",
            "align_content": null,
            "align_items": null,
            "align_self": null,
            "border": null,
            "bottom": null,
            "display": null,
            "flex": null,
            "flex_flow": null,
            "grid_area": null,
            "grid_auto_columns": null,
            "grid_auto_flow": null,
            "grid_auto_rows": null,
            "grid_column": null,
            "grid_gap": null,
            "grid_row": null,
            "grid_template_areas": null,
            "grid_template_columns": null,
            "grid_template_rows": null,
            "height": null,
            "justify_content": null,
            "justify_items": null,
            "left": null,
            "margin": null,
            "max_height": null,
            "max_width": null,
            "min_height": null,
            "min_width": null,
            "object_fit": null,
            "object_position": null,
            "order": null,
            "overflow": null,
            "overflow_x": null,
            "overflow_y": null,
            "padding": null,
            "right": null,
            "top": null,
            "visibility": null,
            "width": null
          }
        },
        "0b40d826a8264b5a8d6687a12ab0f80b": {
          "model_module": "@jupyter-widgets/base",
          "model_name": "LayoutModel",
          "model_module_version": "1.2.0",
          "state": {
            "_model_module": "@jupyter-widgets/base",
            "_model_module_version": "1.2.0",
            "_model_name": "LayoutModel",
            "_view_count": null,
            "_view_module": "@jupyter-widgets/base",
            "_view_module_version": "1.2.0",
            "_view_name": "LayoutView",
            "align_content": null,
            "align_items": null,
            "align_self": null,
            "border": null,
            "bottom": null,
            "display": null,
            "flex": null,
            "flex_flow": null,
            "grid_area": null,
            "grid_auto_columns": null,
            "grid_auto_flow": null,
            "grid_auto_rows": null,
            "grid_column": null,
            "grid_gap": null,
            "grid_row": null,
            "grid_template_areas": null,
            "grid_template_columns": null,
            "grid_template_rows": null,
            "height": null,
            "justify_content": null,
            "justify_items": null,
            "left": null,
            "margin": null,
            "max_height": null,
            "max_width": null,
            "min_height": null,
            "min_width": null,
            "object_fit": null,
            "object_position": null,
            "order": null,
            "overflow": null,
            "overflow_x": null,
            "overflow_y": null,
            "padding": null,
            "right": null,
            "top": null,
            "visibility": null,
            "width": null
          }
        },
        "9c31cca26fc84918a2eaf1baf42eddb3": {
          "model_module": "@jupyter-widgets/controls",
          "model_name": "DescriptionStyleModel",
          "model_module_version": "1.5.0",
          "state": {
            "_model_module": "@jupyter-widgets/controls",
            "_model_module_version": "1.5.0",
            "_model_name": "DescriptionStyleModel",
            "_view_count": null,
            "_view_module": "@jupyter-widgets/base",
            "_view_module_version": "1.2.0",
            "_view_name": "StyleView",
            "description_width": ""
          }
        },
        "d72600d27b654477b239a2cb45893c41": {
          "model_module": "@jupyter-widgets/base",
          "model_name": "LayoutModel",
          "model_module_version": "1.2.0",
          "state": {
            "_model_module": "@jupyter-widgets/base",
            "_model_module_version": "1.2.0",
            "_model_name": "LayoutModel",
            "_view_count": null,
            "_view_module": "@jupyter-widgets/base",
            "_view_module_version": "1.2.0",
            "_view_name": "LayoutView",
            "align_content": null,
            "align_items": null,
            "align_self": null,
            "border": null,
            "bottom": null,
            "display": null,
            "flex": null,
            "flex_flow": null,
            "grid_area": null,
            "grid_auto_columns": null,
            "grid_auto_flow": null,
            "grid_auto_rows": null,
            "grid_column": null,
            "grid_gap": null,
            "grid_row": null,
            "grid_template_areas": null,
            "grid_template_columns": null,
            "grid_template_rows": null,
            "height": null,
            "justify_content": null,
            "justify_items": null,
            "left": null,
            "margin": null,
            "max_height": null,
            "max_width": null,
            "min_height": null,
            "min_width": null,
            "object_fit": null,
            "object_position": null,
            "order": null,
            "overflow": null,
            "overflow_x": null,
            "overflow_y": null,
            "padding": null,
            "right": null,
            "top": null,
            "visibility": null,
            "width": null
          }
        },
        "21a2459e0eaf4ebaaf0cee97590694c4": {
          "model_module": "@jupyter-widgets/controls",
          "model_name": "ProgressStyleModel",
          "model_module_version": "1.5.0",
          "state": {
            "_model_module": "@jupyter-widgets/controls",
            "_model_module_version": "1.5.0",
            "_model_name": "ProgressStyleModel",
            "_view_count": null,
            "_view_module": "@jupyter-widgets/base",
            "_view_module_version": "1.2.0",
            "_view_name": "StyleView",
            "bar_color": null,
            "description_width": ""
          }
        },
        "7b18c266a508461cabb5186326b58436": {
          "model_module": "@jupyter-widgets/base",
          "model_name": "LayoutModel",
          "model_module_version": "1.2.0",
          "state": {
            "_model_module": "@jupyter-widgets/base",
            "_model_module_version": "1.2.0",
            "_model_name": "LayoutModel",
            "_view_count": null,
            "_view_module": "@jupyter-widgets/base",
            "_view_module_version": "1.2.0",
            "_view_name": "LayoutView",
            "align_content": null,
            "align_items": null,
            "align_self": null,
            "border": null,
            "bottom": null,
            "display": null,
            "flex": null,
            "flex_flow": null,
            "grid_area": null,
            "grid_auto_columns": null,
            "grid_auto_flow": null,
            "grid_auto_rows": null,
            "grid_column": null,
            "grid_gap": null,
            "grid_row": null,
            "grid_template_areas": null,
            "grid_template_columns": null,
            "grid_template_rows": null,
            "height": null,
            "justify_content": null,
            "justify_items": null,
            "left": null,
            "margin": null,
            "max_height": null,
            "max_width": null,
            "min_height": null,
            "min_width": null,
            "object_fit": null,
            "object_position": null,
            "order": null,
            "overflow": null,
            "overflow_x": null,
            "overflow_y": null,
            "padding": null,
            "right": null,
            "top": null,
            "visibility": null,
            "width": null
          }
        },
        "6912704a45fa48af9e42e1f9aa9c5138": {
          "model_module": "@jupyter-widgets/controls",
          "model_name": "DescriptionStyleModel",
          "model_module_version": "1.5.0",
          "state": {
            "_model_module": "@jupyter-widgets/controls",
            "_model_module_version": "1.5.0",
            "_model_name": "DescriptionStyleModel",
            "_view_count": null,
            "_view_module": "@jupyter-widgets/base",
            "_view_module_version": "1.2.0",
            "_view_name": "StyleView",
            "description_width": ""
          }
        },
        "9dca4bf6af6049f49f9699f67620fd21": {
          "model_module": "@jupyter-widgets/controls",
          "model_name": "HBoxModel",
          "model_module_version": "1.5.0",
          "state": {
            "_dom_classes": [],
            "_model_module": "@jupyter-widgets/controls",
            "_model_module_version": "1.5.0",
            "_model_name": "HBoxModel",
            "_view_count": null,
            "_view_module": "@jupyter-widgets/controls",
            "_view_module_version": "1.5.0",
            "_view_name": "HBoxView",
            "box_style": "",
            "children": [
              "IPY_MODEL_7b98ecb574814fcf9b7522ba833b3a6c",
              "IPY_MODEL_044c0dbbacfe4eae96ad0f51e6d8b22f",
              "IPY_MODEL_cffa6345dc904b0f80ba3a2a22528841"
            ],
            "layout": "IPY_MODEL_8a6e74045cb94863b04c9aaf96c189d8"
          }
        },
        "7b98ecb574814fcf9b7522ba833b3a6c": {
          "model_module": "@jupyter-widgets/controls",
          "model_name": "HTMLModel",
          "model_module_version": "1.5.0",
          "state": {
            "_dom_classes": [],
            "_model_module": "@jupyter-widgets/controls",
            "_model_module_version": "1.5.0",
            "_model_name": "HTMLModel",
            "_view_count": null,
            "_view_module": "@jupyter-widgets/controls",
            "_view_module_version": "1.5.0",
            "_view_name": "HTMLView",
            "description": "",
            "description_tooltip": null,
            "layout": "IPY_MODEL_11e27c2110a44b389d528c38dbd96e79",
            "placeholder": "​",
            "style": "IPY_MODEL_b736a38ebfc74a4a9f140f910c3913d5",
            "value": "config_sentence_transformers.json: 100%"
          }
        },
        "044c0dbbacfe4eae96ad0f51e6d8b22f": {
          "model_module": "@jupyter-widgets/controls",
          "model_name": "FloatProgressModel",
          "model_module_version": "1.5.0",
          "state": {
            "_dom_classes": [],
            "_model_module": "@jupyter-widgets/controls",
            "_model_module_version": "1.5.0",
            "_model_name": "FloatProgressModel",
            "_view_count": null,
            "_view_module": "@jupyter-widgets/controls",
            "_view_module_version": "1.5.0",
            "_view_name": "ProgressView",
            "bar_style": "success",
            "description": "",
            "description_tooltip": null,
            "layout": "IPY_MODEL_eb8f3cd5cbcc401a985c84cb52589290",
            "max": 116,
            "min": 0,
            "orientation": "horizontal",
            "style": "IPY_MODEL_a20c4ff472dc499390e028b9943fdc2f",
            "value": 116
          }
        },
        "cffa6345dc904b0f80ba3a2a22528841": {
          "model_module": "@jupyter-widgets/controls",
          "model_name": "HTMLModel",
          "model_module_version": "1.5.0",
          "state": {
            "_dom_classes": [],
            "_model_module": "@jupyter-widgets/controls",
            "_model_module_version": "1.5.0",
            "_model_name": "HTMLModel",
            "_view_count": null,
            "_view_module": "@jupyter-widgets/controls",
            "_view_module_version": "1.5.0",
            "_view_name": "HTMLView",
            "description": "",
            "description_tooltip": null,
            "layout": "IPY_MODEL_244c95ce65284bd7a6a5aaf63ea1bbbf",
            "placeholder": "​",
            "style": "IPY_MODEL_8a1ff1c6a84140b991f99ea7e32b6b5c",
            "value": " 116/116 [00:00&lt;00:00, 8.38kB/s]"
          }
        },
        "8a6e74045cb94863b04c9aaf96c189d8": {
          "model_module": "@jupyter-widgets/base",
          "model_name": "LayoutModel",
          "model_module_version": "1.2.0",
          "state": {
            "_model_module": "@jupyter-widgets/base",
            "_model_module_version": "1.2.0",
            "_model_name": "LayoutModel",
            "_view_count": null,
            "_view_module": "@jupyter-widgets/base",
            "_view_module_version": "1.2.0",
            "_view_name": "LayoutView",
            "align_content": null,
            "align_items": null,
            "align_self": null,
            "border": null,
            "bottom": null,
            "display": null,
            "flex": null,
            "flex_flow": null,
            "grid_area": null,
            "grid_auto_columns": null,
            "grid_auto_flow": null,
            "grid_auto_rows": null,
            "grid_column": null,
            "grid_gap": null,
            "grid_row": null,
            "grid_template_areas": null,
            "grid_template_columns": null,
            "grid_template_rows": null,
            "height": null,
            "justify_content": null,
            "justify_items": null,
            "left": null,
            "margin": null,
            "max_height": null,
            "max_width": null,
            "min_height": null,
            "min_width": null,
            "object_fit": null,
            "object_position": null,
            "order": null,
            "overflow": null,
            "overflow_x": null,
            "overflow_y": null,
            "padding": null,
            "right": null,
            "top": null,
            "visibility": null,
            "width": null
          }
        },
        "11e27c2110a44b389d528c38dbd96e79": {
          "model_module": "@jupyter-widgets/base",
          "model_name": "LayoutModel",
          "model_module_version": "1.2.0",
          "state": {
            "_model_module": "@jupyter-widgets/base",
            "_model_module_version": "1.2.0",
            "_model_name": "LayoutModel",
            "_view_count": null,
            "_view_module": "@jupyter-widgets/base",
            "_view_module_version": "1.2.0",
            "_view_name": "LayoutView",
            "align_content": null,
            "align_items": null,
            "align_self": null,
            "border": null,
            "bottom": null,
            "display": null,
            "flex": null,
            "flex_flow": null,
            "grid_area": null,
            "grid_auto_columns": null,
            "grid_auto_flow": null,
            "grid_auto_rows": null,
            "grid_column": null,
            "grid_gap": null,
            "grid_row": null,
            "grid_template_areas": null,
            "grid_template_columns": null,
            "grid_template_rows": null,
            "height": null,
            "justify_content": null,
            "justify_items": null,
            "left": null,
            "margin": null,
            "max_height": null,
            "max_width": null,
            "min_height": null,
            "min_width": null,
            "object_fit": null,
            "object_position": null,
            "order": null,
            "overflow": null,
            "overflow_x": null,
            "overflow_y": null,
            "padding": null,
            "right": null,
            "top": null,
            "visibility": null,
            "width": null
          }
        },
        "b736a38ebfc74a4a9f140f910c3913d5": {
          "model_module": "@jupyter-widgets/controls",
          "model_name": "DescriptionStyleModel",
          "model_module_version": "1.5.0",
          "state": {
            "_model_module": "@jupyter-widgets/controls",
            "_model_module_version": "1.5.0",
            "_model_name": "DescriptionStyleModel",
            "_view_count": null,
            "_view_module": "@jupyter-widgets/base",
            "_view_module_version": "1.2.0",
            "_view_name": "StyleView",
            "description_width": ""
          }
        },
        "eb8f3cd5cbcc401a985c84cb52589290": {
          "model_module": "@jupyter-widgets/base",
          "model_name": "LayoutModel",
          "model_module_version": "1.2.0",
          "state": {
            "_model_module": "@jupyter-widgets/base",
            "_model_module_version": "1.2.0",
            "_model_name": "LayoutModel",
            "_view_count": null,
            "_view_module": "@jupyter-widgets/base",
            "_view_module_version": "1.2.0",
            "_view_name": "LayoutView",
            "align_content": null,
            "align_items": null,
            "align_self": null,
            "border": null,
            "bottom": null,
            "display": null,
            "flex": null,
            "flex_flow": null,
            "grid_area": null,
            "grid_auto_columns": null,
            "grid_auto_flow": null,
            "grid_auto_rows": null,
            "grid_column": null,
            "grid_gap": null,
            "grid_row": null,
            "grid_template_areas": null,
            "grid_template_columns": null,
            "grid_template_rows": null,
            "height": null,
            "justify_content": null,
            "justify_items": null,
            "left": null,
            "margin": null,
            "max_height": null,
            "max_width": null,
            "min_height": null,
            "min_width": null,
            "object_fit": null,
            "object_position": null,
            "order": null,
            "overflow": null,
            "overflow_x": null,
            "overflow_y": null,
            "padding": null,
            "right": null,
            "top": null,
            "visibility": null,
            "width": null
          }
        },
        "a20c4ff472dc499390e028b9943fdc2f": {
          "model_module": "@jupyter-widgets/controls",
          "model_name": "ProgressStyleModel",
          "model_module_version": "1.5.0",
          "state": {
            "_model_module": "@jupyter-widgets/controls",
            "_model_module_version": "1.5.0",
            "_model_name": "ProgressStyleModel",
            "_view_count": null,
            "_view_module": "@jupyter-widgets/base",
            "_view_module_version": "1.2.0",
            "_view_name": "StyleView",
            "bar_color": null,
            "description_width": ""
          }
        },
        "244c95ce65284bd7a6a5aaf63ea1bbbf": {
          "model_module": "@jupyter-widgets/base",
          "model_name": "LayoutModel",
          "model_module_version": "1.2.0",
          "state": {
            "_model_module": "@jupyter-widgets/base",
            "_model_module_version": "1.2.0",
            "_model_name": "LayoutModel",
            "_view_count": null,
            "_view_module": "@jupyter-widgets/base",
            "_view_module_version": "1.2.0",
            "_view_name": "LayoutView",
            "align_content": null,
            "align_items": null,
            "align_self": null,
            "border": null,
            "bottom": null,
            "display": null,
            "flex": null,
            "flex_flow": null,
            "grid_area": null,
            "grid_auto_columns": null,
            "grid_auto_flow": null,
            "grid_auto_rows": null,
            "grid_column": null,
            "grid_gap": null,
            "grid_row": null,
            "grid_template_areas": null,
            "grid_template_columns": null,
            "grid_template_rows": null,
            "height": null,
            "justify_content": null,
            "justify_items": null,
            "left": null,
            "margin": null,
            "max_height": null,
            "max_width": null,
            "min_height": null,
            "min_width": null,
            "object_fit": null,
            "object_position": null,
            "order": null,
            "overflow": null,
            "overflow_x": null,
            "overflow_y": null,
            "padding": null,
            "right": null,
            "top": null,
            "visibility": null,
            "width": null
          }
        },
        "8a1ff1c6a84140b991f99ea7e32b6b5c": {
          "model_module": "@jupyter-widgets/controls",
          "model_name": "DescriptionStyleModel",
          "model_module_version": "1.5.0",
          "state": {
            "_model_module": "@jupyter-widgets/controls",
            "_model_module_version": "1.5.0",
            "_model_name": "DescriptionStyleModel",
            "_view_count": null,
            "_view_module": "@jupyter-widgets/base",
            "_view_module_version": "1.2.0",
            "_view_name": "StyleView",
            "description_width": ""
          }
        },
        "b5a3a25a7020422d96ef4a60bb16a0b1": {
          "model_module": "@jupyter-widgets/controls",
          "model_name": "HBoxModel",
          "model_module_version": "1.5.0",
          "state": {
            "_dom_classes": [],
            "_model_module": "@jupyter-widgets/controls",
            "_model_module_version": "1.5.0",
            "_model_name": "HBoxModel",
            "_view_count": null,
            "_view_module": "@jupyter-widgets/controls",
            "_view_module_version": "1.5.0",
            "_view_name": "HBoxView",
            "box_style": "",
            "children": [
              "IPY_MODEL_38df382c5c93468183ee54877b71e213",
              "IPY_MODEL_b6eefee4dd5c410a9a760185b31470e6",
              "IPY_MODEL_6a72e24418d840b68876f0ebeb1b997e"
            ],
            "layout": "IPY_MODEL_4c3f0e1c21ec434cbc757f2025c247d0"
          }
        },
        "38df382c5c93468183ee54877b71e213": {
          "model_module": "@jupyter-widgets/controls",
          "model_name": "HTMLModel",
          "model_module_version": "1.5.0",
          "state": {
            "_dom_classes": [],
            "_model_module": "@jupyter-widgets/controls",
            "_model_module_version": "1.5.0",
            "_model_name": "HTMLModel",
            "_view_count": null,
            "_view_module": "@jupyter-widgets/controls",
            "_view_module_version": "1.5.0",
            "_view_name": "HTMLView",
            "description": "",
            "description_tooltip": null,
            "layout": "IPY_MODEL_a1942fa908ae4d10b2ac7387bed560b8",
            "placeholder": "​",
            "style": "IPY_MODEL_531dcbb3e4754a4f947d5a03262edeb9",
            "value": "README.md: 100%"
          }
        },
        "b6eefee4dd5c410a9a760185b31470e6": {
          "model_module": "@jupyter-widgets/controls",
          "model_name": "FloatProgressModel",
          "model_module_version": "1.5.0",
          "state": {
            "_dom_classes": [],
            "_model_module": "@jupyter-widgets/controls",
            "_model_module_version": "1.5.0",
            "_model_name": "FloatProgressModel",
            "_view_count": null,
            "_view_module": "@jupyter-widgets/controls",
            "_view_module_version": "1.5.0",
            "_view_name": "ProgressView",
            "bar_style": "success",
            "description": "",
            "description_tooltip": null,
            "layout": "IPY_MODEL_79f965cc6503476897ca6b3138e74fae",
            "max": 10659,
            "min": 0,
            "orientation": "horizontal",
            "style": "IPY_MODEL_cbc8aa19dace4f0f83914653e0bd8e58",
            "value": 10659
          }
        },
        "6a72e24418d840b68876f0ebeb1b997e": {
          "model_module": "@jupyter-widgets/controls",
          "model_name": "HTMLModel",
          "model_module_version": "1.5.0",
          "state": {
            "_dom_classes": [],
            "_model_module": "@jupyter-widgets/controls",
            "_model_module_version": "1.5.0",
            "_model_name": "HTMLModel",
            "_view_count": null,
            "_view_module": "@jupyter-widgets/controls",
            "_view_module_version": "1.5.0",
            "_view_name": "HTMLView",
            "description": "",
            "description_tooltip": null,
            "layout": "IPY_MODEL_a9110b928f2e42e3a64c4f20b9c587e1",
            "placeholder": "​",
            "style": "IPY_MODEL_13c4bbf4c30040319718996f4191cddd",
            "value": " 10.7k/10.7k [00:00&lt;00:00, 539kB/s]"
          }
        },
        "4c3f0e1c21ec434cbc757f2025c247d0": {
          "model_module": "@jupyter-widgets/base",
          "model_name": "LayoutModel",
          "model_module_version": "1.2.0",
          "state": {
            "_model_module": "@jupyter-widgets/base",
            "_model_module_version": "1.2.0",
            "_model_name": "LayoutModel",
            "_view_count": null,
            "_view_module": "@jupyter-widgets/base",
            "_view_module_version": "1.2.0",
            "_view_name": "LayoutView",
            "align_content": null,
            "align_items": null,
            "align_self": null,
            "border": null,
            "bottom": null,
            "display": null,
            "flex": null,
            "flex_flow": null,
            "grid_area": null,
            "grid_auto_columns": null,
            "grid_auto_flow": null,
            "grid_auto_rows": null,
            "grid_column": null,
            "grid_gap": null,
            "grid_row": null,
            "grid_template_areas": null,
            "grid_template_columns": null,
            "grid_template_rows": null,
            "height": null,
            "justify_content": null,
            "justify_items": null,
            "left": null,
            "margin": null,
            "max_height": null,
            "max_width": null,
            "min_height": null,
            "min_width": null,
            "object_fit": null,
            "object_position": null,
            "order": null,
            "overflow": null,
            "overflow_x": null,
            "overflow_y": null,
            "padding": null,
            "right": null,
            "top": null,
            "visibility": null,
            "width": null
          }
        },
        "a1942fa908ae4d10b2ac7387bed560b8": {
          "model_module": "@jupyter-widgets/base",
          "model_name": "LayoutModel",
          "model_module_version": "1.2.0",
          "state": {
            "_model_module": "@jupyter-widgets/base",
            "_model_module_version": "1.2.0",
            "_model_name": "LayoutModel",
            "_view_count": null,
            "_view_module": "@jupyter-widgets/base",
            "_view_module_version": "1.2.0",
            "_view_name": "LayoutView",
            "align_content": null,
            "align_items": null,
            "align_self": null,
            "border": null,
            "bottom": null,
            "display": null,
            "flex": null,
            "flex_flow": null,
            "grid_area": null,
            "grid_auto_columns": null,
            "grid_auto_flow": null,
            "grid_auto_rows": null,
            "grid_column": null,
            "grid_gap": null,
            "grid_row": null,
            "grid_template_areas": null,
            "grid_template_columns": null,
            "grid_template_rows": null,
            "height": null,
            "justify_content": null,
            "justify_items": null,
            "left": null,
            "margin": null,
            "max_height": null,
            "max_width": null,
            "min_height": null,
            "min_width": null,
            "object_fit": null,
            "object_position": null,
            "order": null,
            "overflow": null,
            "overflow_x": null,
            "overflow_y": null,
            "padding": null,
            "right": null,
            "top": null,
            "visibility": null,
            "width": null
          }
        },
        "531dcbb3e4754a4f947d5a03262edeb9": {
          "model_module": "@jupyter-widgets/controls",
          "model_name": "DescriptionStyleModel",
          "model_module_version": "1.5.0",
          "state": {
            "_model_module": "@jupyter-widgets/controls",
            "_model_module_version": "1.5.0",
            "_model_name": "DescriptionStyleModel",
            "_view_count": null,
            "_view_module": "@jupyter-widgets/base",
            "_view_module_version": "1.2.0",
            "_view_name": "StyleView",
            "description_width": ""
          }
        },
        "79f965cc6503476897ca6b3138e74fae": {
          "model_module": "@jupyter-widgets/base",
          "model_name": "LayoutModel",
          "model_module_version": "1.2.0",
          "state": {
            "_model_module": "@jupyter-widgets/base",
            "_model_module_version": "1.2.0",
            "_model_name": "LayoutModel",
            "_view_count": null,
            "_view_module": "@jupyter-widgets/base",
            "_view_module_version": "1.2.0",
            "_view_name": "LayoutView",
            "align_content": null,
            "align_items": null,
            "align_self": null,
            "border": null,
            "bottom": null,
            "display": null,
            "flex": null,
            "flex_flow": null,
            "grid_area": null,
            "grid_auto_columns": null,
            "grid_auto_flow": null,
            "grid_auto_rows": null,
            "grid_column": null,
            "grid_gap": null,
            "grid_row": null,
            "grid_template_areas": null,
            "grid_template_columns": null,
            "grid_template_rows": null,
            "height": null,
            "justify_content": null,
            "justify_items": null,
            "left": null,
            "margin": null,
            "max_height": null,
            "max_width": null,
            "min_height": null,
            "min_width": null,
            "object_fit": null,
            "object_position": null,
            "order": null,
            "overflow": null,
            "overflow_x": null,
            "overflow_y": null,
            "padding": null,
            "right": null,
            "top": null,
            "visibility": null,
            "width": null
          }
        },
        "cbc8aa19dace4f0f83914653e0bd8e58": {
          "model_module": "@jupyter-widgets/controls",
          "model_name": "ProgressStyleModel",
          "model_module_version": "1.5.0",
          "state": {
            "_model_module": "@jupyter-widgets/controls",
            "_model_module_version": "1.5.0",
            "_model_name": "ProgressStyleModel",
            "_view_count": null,
            "_view_module": "@jupyter-widgets/base",
            "_view_module_version": "1.2.0",
            "_view_name": "StyleView",
            "bar_color": null,
            "description_width": ""
          }
        },
        "a9110b928f2e42e3a64c4f20b9c587e1": {
          "model_module": "@jupyter-widgets/base",
          "model_name": "LayoutModel",
          "model_module_version": "1.2.0",
          "state": {
            "_model_module": "@jupyter-widgets/base",
            "_model_module_version": "1.2.0",
            "_model_name": "LayoutModel",
            "_view_count": null,
            "_view_module": "@jupyter-widgets/base",
            "_view_module_version": "1.2.0",
            "_view_name": "LayoutView",
            "align_content": null,
            "align_items": null,
            "align_self": null,
            "border": null,
            "bottom": null,
            "display": null,
            "flex": null,
            "flex_flow": null,
            "grid_area": null,
            "grid_auto_columns": null,
            "grid_auto_flow": null,
            "grid_auto_rows": null,
            "grid_column": null,
            "grid_gap": null,
            "grid_row": null,
            "grid_template_areas": null,
            "grid_template_columns": null,
            "grid_template_rows": null,
            "height": null,
            "justify_content": null,
            "justify_items": null,
            "left": null,
            "margin": null,
            "max_height": null,
            "max_width": null,
            "min_height": null,
            "min_width": null,
            "object_fit": null,
            "object_position": null,
            "order": null,
            "overflow": null,
            "overflow_x": null,
            "overflow_y": null,
            "padding": null,
            "right": null,
            "top": null,
            "visibility": null,
            "width": null
          }
        },
        "13c4bbf4c30040319718996f4191cddd": {
          "model_module": "@jupyter-widgets/controls",
          "model_name": "DescriptionStyleModel",
          "model_module_version": "1.5.0",
          "state": {
            "_model_module": "@jupyter-widgets/controls",
            "_model_module_version": "1.5.0",
            "_model_name": "DescriptionStyleModel",
            "_view_count": null,
            "_view_module": "@jupyter-widgets/base",
            "_view_module_version": "1.2.0",
            "_view_name": "StyleView",
            "description_width": ""
          }
        },
        "055d562736db4507820a824d5add57a1": {
          "model_module": "@jupyter-widgets/controls",
          "model_name": "HBoxModel",
          "model_module_version": "1.5.0",
          "state": {
            "_dom_classes": [],
            "_model_module": "@jupyter-widgets/controls",
            "_model_module_version": "1.5.0",
            "_model_name": "HBoxModel",
            "_view_count": null,
            "_view_module": "@jupyter-widgets/controls",
            "_view_module_version": "1.5.0",
            "_view_name": "HBoxView",
            "box_style": "",
            "children": [
              "IPY_MODEL_24a7fa4111ef48eb88e27a7717c65ebe",
              "IPY_MODEL_d390f64d6e0e4021bc22317f8a91c5b9",
              "IPY_MODEL_42cfc7943c274c758e09d78dd2adc8de"
            ],
            "layout": "IPY_MODEL_0c376bbd6222401d88d62fbf62c89612"
          }
        },
        "24a7fa4111ef48eb88e27a7717c65ebe": {
          "model_module": "@jupyter-widgets/controls",
          "model_name": "HTMLModel",
          "model_module_version": "1.5.0",
          "state": {
            "_dom_classes": [],
            "_model_module": "@jupyter-widgets/controls",
            "_model_module_version": "1.5.0",
            "_model_name": "HTMLModel",
            "_view_count": null,
            "_view_module": "@jupyter-widgets/controls",
            "_view_module_version": "1.5.0",
            "_view_name": "HTMLView",
            "description": "",
            "description_tooltip": null,
            "layout": "IPY_MODEL_f5dfd959dd34426e9c574130036fc965",
            "placeholder": "​",
            "style": "IPY_MODEL_8749963fd7b84cc0ad1eeae98520dcc8",
            "value": "sentence_bert_config.json: 100%"
          }
        },
        "d390f64d6e0e4021bc22317f8a91c5b9": {
          "model_module": "@jupyter-widgets/controls",
          "model_name": "FloatProgressModel",
          "model_module_version": "1.5.0",
          "state": {
            "_dom_classes": [],
            "_model_module": "@jupyter-widgets/controls",
            "_model_module_version": "1.5.0",
            "_model_name": "FloatProgressModel",
            "_view_count": null,
            "_view_module": "@jupyter-widgets/controls",
            "_view_module_version": "1.5.0",
            "_view_name": "ProgressView",
            "bar_style": "success",
            "description": "",
            "description_tooltip": null,
            "layout": "IPY_MODEL_f3d5de18b7fc457cb52f869e9d1dfecf",
            "max": 53,
            "min": 0,
            "orientation": "horizontal",
            "style": "IPY_MODEL_0451a386ba3d4061b9921c7a3455726e",
            "value": 53
          }
        },
        "42cfc7943c274c758e09d78dd2adc8de": {
          "model_module": "@jupyter-widgets/controls",
          "model_name": "HTMLModel",
          "model_module_version": "1.5.0",
          "state": {
            "_dom_classes": [],
            "_model_module": "@jupyter-widgets/controls",
            "_model_module_version": "1.5.0",
            "_model_name": "HTMLModel",
            "_view_count": null,
            "_view_module": "@jupyter-widgets/controls",
            "_view_module_version": "1.5.0",
            "_view_name": "HTMLView",
            "description": "",
            "description_tooltip": null,
            "layout": "IPY_MODEL_c545490024a641ca851e837dbfe1a332",
            "placeholder": "​",
            "style": "IPY_MODEL_926492f23ea94d4f8154be5215a8f54c",
            "value": " 53.0/53.0 [00:00&lt;00:00, 3.54kB/s]"
          }
        },
        "0c376bbd6222401d88d62fbf62c89612": {
          "model_module": "@jupyter-widgets/base",
          "model_name": "LayoutModel",
          "model_module_version": "1.2.0",
          "state": {
            "_model_module": "@jupyter-widgets/base",
            "_model_module_version": "1.2.0",
            "_model_name": "LayoutModel",
            "_view_count": null,
            "_view_module": "@jupyter-widgets/base",
            "_view_module_version": "1.2.0",
            "_view_name": "LayoutView",
            "align_content": null,
            "align_items": null,
            "align_self": null,
            "border": null,
            "bottom": null,
            "display": null,
            "flex": null,
            "flex_flow": null,
            "grid_area": null,
            "grid_auto_columns": null,
            "grid_auto_flow": null,
            "grid_auto_rows": null,
            "grid_column": null,
            "grid_gap": null,
            "grid_row": null,
            "grid_template_areas": null,
            "grid_template_columns": null,
            "grid_template_rows": null,
            "height": null,
            "justify_content": null,
            "justify_items": null,
            "left": null,
            "margin": null,
            "max_height": null,
            "max_width": null,
            "min_height": null,
            "min_width": null,
            "object_fit": null,
            "object_position": null,
            "order": null,
            "overflow": null,
            "overflow_x": null,
            "overflow_y": null,
            "padding": null,
            "right": null,
            "top": null,
            "visibility": null,
            "width": null
          }
        },
        "f5dfd959dd34426e9c574130036fc965": {
          "model_module": "@jupyter-widgets/base",
          "model_name": "LayoutModel",
          "model_module_version": "1.2.0",
          "state": {
            "_model_module": "@jupyter-widgets/base",
            "_model_module_version": "1.2.0",
            "_model_name": "LayoutModel",
            "_view_count": null,
            "_view_module": "@jupyter-widgets/base",
            "_view_module_version": "1.2.0",
            "_view_name": "LayoutView",
            "align_content": null,
            "align_items": null,
            "align_self": null,
            "border": null,
            "bottom": null,
            "display": null,
            "flex": null,
            "flex_flow": null,
            "grid_area": null,
            "grid_auto_columns": null,
            "grid_auto_flow": null,
            "grid_auto_rows": null,
            "grid_column": null,
            "grid_gap": null,
            "grid_row": null,
            "grid_template_areas": null,
            "grid_template_columns": null,
            "grid_template_rows": null,
            "height": null,
            "justify_content": null,
            "justify_items": null,
            "left": null,
            "margin": null,
            "max_height": null,
            "max_width": null,
            "min_height": null,
            "min_width": null,
            "object_fit": null,
            "object_position": null,
            "order": null,
            "overflow": null,
            "overflow_x": null,
            "overflow_y": null,
            "padding": null,
            "right": null,
            "top": null,
            "visibility": null,
            "width": null
          }
        },
        "8749963fd7b84cc0ad1eeae98520dcc8": {
          "model_module": "@jupyter-widgets/controls",
          "model_name": "DescriptionStyleModel",
          "model_module_version": "1.5.0",
          "state": {
            "_model_module": "@jupyter-widgets/controls",
            "_model_module_version": "1.5.0",
            "_model_name": "DescriptionStyleModel",
            "_view_count": null,
            "_view_module": "@jupyter-widgets/base",
            "_view_module_version": "1.2.0",
            "_view_name": "StyleView",
            "description_width": ""
          }
        },
        "f3d5de18b7fc457cb52f869e9d1dfecf": {
          "model_module": "@jupyter-widgets/base",
          "model_name": "LayoutModel",
          "model_module_version": "1.2.0",
          "state": {
            "_model_module": "@jupyter-widgets/base",
            "_model_module_version": "1.2.0",
            "_model_name": "LayoutModel",
            "_view_count": null,
            "_view_module": "@jupyter-widgets/base",
            "_view_module_version": "1.2.0",
            "_view_name": "LayoutView",
            "align_content": null,
            "align_items": null,
            "align_self": null,
            "border": null,
            "bottom": null,
            "display": null,
            "flex": null,
            "flex_flow": null,
            "grid_area": null,
            "grid_auto_columns": null,
            "grid_auto_flow": null,
            "grid_auto_rows": null,
            "grid_column": null,
            "grid_gap": null,
            "grid_row": null,
            "grid_template_areas": null,
            "grid_template_columns": null,
            "grid_template_rows": null,
            "height": null,
            "justify_content": null,
            "justify_items": null,
            "left": null,
            "margin": null,
            "max_height": null,
            "max_width": null,
            "min_height": null,
            "min_width": null,
            "object_fit": null,
            "object_position": null,
            "order": null,
            "overflow": null,
            "overflow_x": null,
            "overflow_y": null,
            "padding": null,
            "right": null,
            "top": null,
            "visibility": null,
            "width": null
          }
        },
        "0451a386ba3d4061b9921c7a3455726e": {
          "model_module": "@jupyter-widgets/controls",
          "model_name": "ProgressStyleModel",
          "model_module_version": "1.5.0",
          "state": {
            "_model_module": "@jupyter-widgets/controls",
            "_model_module_version": "1.5.0",
            "_model_name": "ProgressStyleModel",
            "_view_count": null,
            "_view_module": "@jupyter-widgets/base",
            "_view_module_version": "1.2.0",
            "_view_name": "StyleView",
            "bar_color": null,
            "description_width": ""
          }
        },
        "c545490024a641ca851e837dbfe1a332": {
          "model_module": "@jupyter-widgets/base",
          "model_name": "LayoutModel",
          "model_module_version": "1.2.0",
          "state": {
            "_model_module": "@jupyter-widgets/base",
            "_model_module_version": "1.2.0",
            "_model_name": "LayoutModel",
            "_view_count": null,
            "_view_module": "@jupyter-widgets/base",
            "_view_module_version": "1.2.0",
            "_view_name": "LayoutView",
            "align_content": null,
            "align_items": null,
            "align_self": null,
            "border": null,
            "bottom": null,
            "display": null,
            "flex": null,
            "flex_flow": null,
            "grid_area": null,
            "grid_auto_columns": null,
            "grid_auto_flow": null,
            "grid_auto_rows": null,
            "grid_column": null,
            "grid_gap": null,
            "grid_row": null,
            "grid_template_areas": null,
            "grid_template_columns": null,
            "grid_template_rows": null,
            "height": null,
            "justify_content": null,
            "justify_items": null,
            "left": null,
            "margin": null,
            "max_height": null,
            "max_width": null,
            "min_height": null,
            "min_width": null,
            "object_fit": null,
            "object_position": null,
            "order": null,
            "overflow": null,
            "overflow_x": null,
            "overflow_y": null,
            "padding": null,
            "right": null,
            "top": null,
            "visibility": null,
            "width": null
          }
        },
        "926492f23ea94d4f8154be5215a8f54c": {
          "model_module": "@jupyter-widgets/controls",
          "model_name": "DescriptionStyleModel",
          "model_module_version": "1.5.0",
          "state": {
            "_model_module": "@jupyter-widgets/controls",
            "_model_module_version": "1.5.0",
            "_model_name": "DescriptionStyleModel",
            "_view_count": null,
            "_view_module": "@jupyter-widgets/base",
            "_view_module_version": "1.2.0",
            "_view_name": "StyleView",
            "description_width": ""
          }
        },
        "adf17c79855049e28d638b0a2d9e441d": {
          "model_module": "@jupyter-widgets/controls",
          "model_name": "HBoxModel",
          "model_module_version": "1.5.0",
          "state": {
            "_dom_classes": [],
            "_model_module": "@jupyter-widgets/controls",
            "_model_module_version": "1.5.0",
            "_model_name": "HBoxModel",
            "_view_count": null,
            "_view_module": "@jupyter-widgets/controls",
            "_view_module_version": "1.5.0",
            "_view_name": "HBoxView",
            "box_style": "",
            "children": [
              "IPY_MODEL_a244dbbe04f641b2b72ba6286e31b97c",
              "IPY_MODEL_b10135682da54facab72ed81d96ecd21",
              "IPY_MODEL_dff8401730cb46afa67c1a70dc6b9656"
            ],
            "layout": "IPY_MODEL_7443d6e7562f4699a21d77f0d16a0b4e"
          }
        },
        "a244dbbe04f641b2b72ba6286e31b97c": {
          "model_module": "@jupyter-widgets/controls",
          "model_name": "HTMLModel",
          "model_module_version": "1.5.0",
          "state": {
            "_dom_classes": [],
            "_model_module": "@jupyter-widgets/controls",
            "_model_module_version": "1.5.0",
            "_model_name": "HTMLModel",
            "_view_count": null,
            "_view_module": "@jupyter-widgets/controls",
            "_view_module_version": "1.5.0",
            "_view_name": "HTMLView",
            "description": "",
            "description_tooltip": null,
            "layout": "IPY_MODEL_4099c0712a9b4668b2f431ff25591b17",
            "placeholder": "​",
            "style": "IPY_MODEL_5811b73d50684002be4a221db7cdad6e",
            "value": "config.json: 100%"
          }
        },
        "b10135682da54facab72ed81d96ecd21": {
          "model_module": "@jupyter-widgets/controls",
          "model_name": "FloatProgressModel",
          "model_module_version": "1.5.0",
          "state": {
            "_dom_classes": [],
            "_model_module": "@jupyter-widgets/controls",
            "_model_module_version": "1.5.0",
            "_model_name": "FloatProgressModel",
            "_view_count": null,
            "_view_module": "@jupyter-widgets/controls",
            "_view_module_version": "1.5.0",
            "_view_name": "ProgressView",
            "bar_style": "success",
            "description": "",
            "description_tooltip": null,
            "layout": "IPY_MODEL_6a203cbb11f64c72b0721439b8a35dbb",
            "max": 612,
            "min": 0,
            "orientation": "horizontal",
            "style": "IPY_MODEL_9d4fa1be1ca3430eb00d8fa75d928f41",
            "value": 612
          }
        },
        "dff8401730cb46afa67c1a70dc6b9656": {
          "model_module": "@jupyter-widgets/controls",
          "model_name": "HTMLModel",
          "model_module_version": "1.5.0",
          "state": {
            "_dom_classes": [],
            "_model_module": "@jupyter-widgets/controls",
            "_model_module_version": "1.5.0",
            "_model_name": "HTMLModel",
            "_view_count": null,
            "_view_module": "@jupyter-widgets/controls",
            "_view_module_version": "1.5.0",
            "_view_name": "HTMLView",
            "description": "",
            "description_tooltip": null,
            "layout": "IPY_MODEL_0ba2343728d64e0888fe81c47b6892d8",
            "placeholder": "​",
            "style": "IPY_MODEL_f8eb139e013f474aba18802f6b8b29b8",
            "value": " 612/612 [00:00&lt;00:00, 27.5kB/s]"
          }
        },
        "7443d6e7562f4699a21d77f0d16a0b4e": {
          "model_module": "@jupyter-widgets/base",
          "model_name": "LayoutModel",
          "model_module_version": "1.2.0",
          "state": {
            "_model_module": "@jupyter-widgets/base",
            "_model_module_version": "1.2.0",
            "_model_name": "LayoutModel",
            "_view_count": null,
            "_view_module": "@jupyter-widgets/base",
            "_view_module_version": "1.2.0",
            "_view_name": "LayoutView",
            "align_content": null,
            "align_items": null,
            "align_self": null,
            "border": null,
            "bottom": null,
            "display": null,
            "flex": null,
            "flex_flow": null,
            "grid_area": null,
            "grid_auto_columns": null,
            "grid_auto_flow": null,
            "grid_auto_rows": null,
            "grid_column": null,
            "grid_gap": null,
            "grid_row": null,
            "grid_template_areas": null,
            "grid_template_columns": null,
            "grid_template_rows": null,
            "height": null,
            "justify_content": null,
            "justify_items": null,
            "left": null,
            "margin": null,
            "max_height": null,
            "max_width": null,
            "min_height": null,
            "min_width": null,
            "object_fit": null,
            "object_position": null,
            "order": null,
            "overflow": null,
            "overflow_x": null,
            "overflow_y": null,
            "padding": null,
            "right": null,
            "top": null,
            "visibility": null,
            "width": null
          }
        },
        "4099c0712a9b4668b2f431ff25591b17": {
          "model_module": "@jupyter-widgets/base",
          "model_name": "LayoutModel",
          "model_module_version": "1.2.0",
          "state": {
            "_model_module": "@jupyter-widgets/base",
            "_model_module_version": "1.2.0",
            "_model_name": "LayoutModel",
            "_view_count": null,
            "_view_module": "@jupyter-widgets/base",
            "_view_module_version": "1.2.0",
            "_view_name": "LayoutView",
            "align_content": null,
            "align_items": null,
            "align_self": null,
            "border": null,
            "bottom": null,
            "display": null,
            "flex": null,
            "flex_flow": null,
            "grid_area": null,
            "grid_auto_columns": null,
            "grid_auto_flow": null,
            "grid_auto_rows": null,
            "grid_column": null,
            "grid_gap": null,
            "grid_row": null,
            "grid_template_areas": null,
            "grid_template_columns": null,
            "grid_template_rows": null,
            "height": null,
            "justify_content": null,
            "justify_items": null,
            "left": null,
            "margin": null,
            "max_height": null,
            "max_width": null,
            "min_height": null,
            "min_width": null,
            "object_fit": null,
            "object_position": null,
            "order": null,
            "overflow": null,
            "overflow_x": null,
            "overflow_y": null,
            "padding": null,
            "right": null,
            "top": null,
            "visibility": null,
            "width": null
          }
        },
        "5811b73d50684002be4a221db7cdad6e": {
          "model_module": "@jupyter-widgets/controls",
          "model_name": "DescriptionStyleModel",
          "model_module_version": "1.5.0",
          "state": {
            "_model_module": "@jupyter-widgets/controls",
            "_model_module_version": "1.5.0",
            "_model_name": "DescriptionStyleModel",
            "_view_count": null,
            "_view_module": "@jupyter-widgets/base",
            "_view_module_version": "1.2.0",
            "_view_name": "StyleView",
            "description_width": ""
          }
        },
        "6a203cbb11f64c72b0721439b8a35dbb": {
          "model_module": "@jupyter-widgets/base",
          "model_name": "LayoutModel",
          "model_module_version": "1.2.0",
          "state": {
            "_model_module": "@jupyter-widgets/base",
            "_model_module_version": "1.2.0",
            "_model_name": "LayoutModel",
            "_view_count": null,
            "_view_module": "@jupyter-widgets/base",
            "_view_module_version": "1.2.0",
            "_view_name": "LayoutView",
            "align_content": null,
            "align_items": null,
            "align_self": null,
            "border": null,
            "bottom": null,
            "display": null,
            "flex": null,
            "flex_flow": null,
            "grid_area": null,
            "grid_auto_columns": null,
            "grid_auto_flow": null,
            "grid_auto_rows": null,
            "grid_column": null,
            "grid_gap": null,
            "grid_row": null,
            "grid_template_areas": null,
            "grid_template_columns": null,
            "grid_template_rows": null,
            "height": null,
            "justify_content": null,
            "justify_items": null,
            "left": null,
            "margin": null,
            "max_height": null,
            "max_width": null,
            "min_height": null,
            "min_width": null,
            "object_fit": null,
            "object_position": null,
            "order": null,
            "overflow": null,
            "overflow_x": null,
            "overflow_y": null,
            "padding": null,
            "right": null,
            "top": null,
            "visibility": null,
            "width": null
          }
        },
        "9d4fa1be1ca3430eb00d8fa75d928f41": {
          "model_module": "@jupyter-widgets/controls",
          "model_name": "ProgressStyleModel",
          "model_module_version": "1.5.0",
          "state": {
            "_model_module": "@jupyter-widgets/controls",
            "_model_module_version": "1.5.0",
            "_model_name": "ProgressStyleModel",
            "_view_count": null,
            "_view_module": "@jupyter-widgets/base",
            "_view_module_version": "1.2.0",
            "_view_name": "StyleView",
            "bar_color": null,
            "description_width": ""
          }
        },
        "0ba2343728d64e0888fe81c47b6892d8": {
          "model_module": "@jupyter-widgets/base",
          "model_name": "LayoutModel",
          "model_module_version": "1.2.0",
          "state": {
            "_model_module": "@jupyter-widgets/base",
            "_model_module_version": "1.2.0",
            "_model_name": "LayoutModel",
            "_view_count": null,
            "_view_module": "@jupyter-widgets/base",
            "_view_module_version": "1.2.0",
            "_view_name": "LayoutView",
            "align_content": null,
            "align_items": null,
            "align_self": null,
            "border": null,
            "bottom": null,
            "display": null,
            "flex": null,
            "flex_flow": null,
            "grid_area": null,
            "grid_auto_columns": null,
            "grid_auto_flow": null,
            "grid_auto_rows": null,
            "grid_column": null,
            "grid_gap": null,
            "grid_row": null,
            "grid_template_areas": null,
            "grid_template_columns": null,
            "grid_template_rows": null,
            "height": null,
            "justify_content": null,
            "justify_items": null,
            "left": null,
            "margin": null,
            "max_height": null,
            "max_width": null,
            "min_height": null,
            "min_width": null,
            "object_fit": null,
            "object_position": null,
            "order": null,
            "overflow": null,
            "overflow_x": null,
            "overflow_y": null,
            "padding": null,
            "right": null,
            "top": null,
            "visibility": null,
            "width": null
          }
        },
        "f8eb139e013f474aba18802f6b8b29b8": {
          "model_module": "@jupyter-widgets/controls",
          "model_name": "DescriptionStyleModel",
          "model_module_version": "1.5.0",
          "state": {
            "_model_module": "@jupyter-widgets/controls",
            "_model_module_version": "1.5.0",
            "_model_name": "DescriptionStyleModel",
            "_view_count": null,
            "_view_module": "@jupyter-widgets/base",
            "_view_module_version": "1.2.0",
            "_view_name": "StyleView",
            "description_width": ""
          }
        },
        "eaa4b48fbe6b41af8cc0aef1b1b1ef0b": {
          "model_module": "@jupyter-widgets/controls",
          "model_name": "HBoxModel",
          "model_module_version": "1.5.0",
          "state": {
            "_dom_classes": [],
            "_model_module": "@jupyter-widgets/controls",
            "_model_module_version": "1.5.0",
            "_model_name": "HBoxModel",
            "_view_count": null,
            "_view_module": "@jupyter-widgets/controls",
            "_view_module_version": "1.5.0",
            "_view_name": "HBoxView",
            "box_style": "",
            "children": [
              "IPY_MODEL_70ebe6e6f5f7429ebf95709a8f983d8f",
              "IPY_MODEL_b6b7596828084d8593fd3004b17b289c",
              "IPY_MODEL_3686e0cb2b114b9790032ce26becc73f"
            ],
            "layout": "IPY_MODEL_8803d51dfa8447888eafdea3881bbc90"
          }
        },
        "70ebe6e6f5f7429ebf95709a8f983d8f": {
          "model_module": "@jupyter-widgets/controls",
          "model_name": "HTMLModel",
          "model_module_version": "1.5.0",
          "state": {
            "_dom_classes": [],
            "_model_module": "@jupyter-widgets/controls",
            "_model_module_version": "1.5.0",
            "_model_name": "HTMLModel",
            "_view_count": null,
            "_view_module": "@jupyter-widgets/controls",
            "_view_module_version": "1.5.0",
            "_view_name": "HTMLView",
            "description": "",
            "description_tooltip": null,
            "layout": "IPY_MODEL_5a4f427333414c36ae80b8f1b5ea77cd",
            "placeholder": "​",
            "style": "IPY_MODEL_61de4f34fb334442b1a1c8eaee60f851",
            "value": "model.safetensors: 100%"
          }
        },
        "b6b7596828084d8593fd3004b17b289c": {
          "model_module": "@jupyter-widgets/controls",
          "model_name": "FloatProgressModel",
          "model_module_version": "1.5.0",
          "state": {
            "_dom_classes": [],
            "_model_module": "@jupyter-widgets/controls",
            "_model_module_version": "1.5.0",
            "_model_name": "FloatProgressModel",
            "_view_count": null,
            "_view_module": "@jupyter-widgets/controls",
            "_view_module_version": "1.5.0",
            "_view_name": "ProgressView",
            "bar_style": "success",
            "description": "",
            "description_tooltip": null,
            "layout": "IPY_MODEL_de0b6e9e3b96451c902480fabba7085e",
            "max": 90868376,
            "min": 0,
            "orientation": "horizontal",
            "style": "IPY_MODEL_f63cf20527c345c68143f302b0ef6a8d",
            "value": 90868376
          }
        },
        "3686e0cb2b114b9790032ce26becc73f": {
          "model_module": "@jupyter-widgets/controls",
          "model_name": "HTMLModel",
          "model_module_version": "1.5.0",
          "state": {
            "_dom_classes": [],
            "_model_module": "@jupyter-widgets/controls",
            "_model_module_version": "1.5.0",
            "_model_name": "HTMLModel",
            "_view_count": null,
            "_view_module": "@jupyter-widgets/controls",
            "_view_module_version": "1.5.0",
            "_view_name": "HTMLView",
            "description": "",
            "description_tooltip": null,
            "layout": "IPY_MODEL_ebf9bf95eef746c5af191c0b630c8ac6",
            "placeholder": "​",
            "style": "IPY_MODEL_52923b929efe4bc0b26b705650b8ac35",
            "value": " 90.9M/90.9M [00:00&lt;00:00, 226MB/s]"
          }
        },
        "8803d51dfa8447888eafdea3881bbc90": {
          "model_module": "@jupyter-widgets/base",
          "model_name": "LayoutModel",
          "model_module_version": "1.2.0",
          "state": {
            "_model_module": "@jupyter-widgets/base",
            "_model_module_version": "1.2.0",
            "_model_name": "LayoutModel",
            "_view_count": null,
            "_view_module": "@jupyter-widgets/base",
            "_view_module_version": "1.2.0",
            "_view_name": "LayoutView",
            "align_content": null,
            "align_items": null,
            "align_self": null,
            "border": null,
            "bottom": null,
            "display": null,
            "flex": null,
            "flex_flow": null,
            "grid_area": null,
            "grid_auto_columns": null,
            "grid_auto_flow": null,
            "grid_auto_rows": null,
            "grid_column": null,
            "grid_gap": null,
            "grid_row": null,
            "grid_template_areas": null,
            "grid_template_columns": null,
            "grid_template_rows": null,
            "height": null,
            "justify_content": null,
            "justify_items": null,
            "left": null,
            "margin": null,
            "max_height": null,
            "max_width": null,
            "min_height": null,
            "min_width": null,
            "object_fit": null,
            "object_position": null,
            "order": null,
            "overflow": null,
            "overflow_x": null,
            "overflow_y": null,
            "padding": null,
            "right": null,
            "top": null,
            "visibility": null,
            "width": null
          }
        },
        "5a4f427333414c36ae80b8f1b5ea77cd": {
          "model_module": "@jupyter-widgets/base",
          "model_name": "LayoutModel",
          "model_module_version": "1.2.0",
          "state": {
            "_model_module": "@jupyter-widgets/base",
            "_model_module_version": "1.2.0",
            "_model_name": "LayoutModel",
            "_view_count": null,
            "_view_module": "@jupyter-widgets/base",
            "_view_module_version": "1.2.0",
            "_view_name": "LayoutView",
            "align_content": null,
            "align_items": null,
            "align_self": null,
            "border": null,
            "bottom": null,
            "display": null,
            "flex": null,
            "flex_flow": null,
            "grid_area": null,
            "grid_auto_columns": null,
            "grid_auto_flow": null,
            "grid_auto_rows": null,
            "grid_column": null,
            "grid_gap": null,
            "grid_row": null,
            "grid_template_areas": null,
            "grid_template_columns": null,
            "grid_template_rows": null,
            "height": null,
            "justify_content": null,
            "justify_items": null,
            "left": null,
            "margin": null,
            "max_height": null,
            "max_width": null,
            "min_height": null,
            "min_width": null,
            "object_fit": null,
            "object_position": null,
            "order": null,
            "overflow": null,
            "overflow_x": null,
            "overflow_y": null,
            "padding": null,
            "right": null,
            "top": null,
            "visibility": null,
            "width": null
          }
        },
        "61de4f34fb334442b1a1c8eaee60f851": {
          "model_module": "@jupyter-widgets/controls",
          "model_name": "DescriptionStyleModel",
          "model_module_version": "1.5.0",
          "state": {
            "_model_module": "@jupyter-widgets/controls",
            "_model_module_version": "1.5.0",
            "_model_name": "DescriptionStyleModel",
            "_view_count": null,
            "_view_module": "@jupyter-widgets/base",
            "_view_module_version": "1.2.0",
            "_view_name": "StyleView",
            "description_width": ""
          }
        },
        "de0b6e9e3b96451c902480fabba7085e": {
          "model_module": "@jupyter-widgets/base",
          "model_name": "LayoutModel",
          "model_module_version": "1.2.0",
          "state": {
            "_model_module": "@jupyter-widgets/base",
            "_model_module_version": "1.2.0",
            "_model_name": "LayoutModel",
            "_view_count": null,
            "_view_module": "@jupyter-widgets/base",
            "_view_module_version": "1.2.0",
            "_view_name": "LayoutView",
            "align_content": null,
            "align_items": null,
            "align_self": null,
            "border": null,
            "bottom": null,
            "display": null,
            "flex": null,
            "flex_flow": null,
            "grid_area": null,
            "grid_auto_columns": null,
            "grid_auto_flow": null,
            "grid_auto_rows": null,
            "grid_column": null,
            "grid_gap": null,
            "grid_row": null,
            "grid_template_areas": null,
            "grid_template_columns": null,
            "grid_template_rows": null,
            "height": null,
            "justify_content": null,
            "justify_items": null,
            "left": null,
            "margin": null,
            "max_height": null,
            "max_width": null,
            "min_height": null,
            "min_width": null,
            "object_fit": null,
            "object_position": null,
            "order": null,
            "overflow": null,
            "overflow_x": null,
            "overflow_y": null,
            "padding": null,
            "right": null,
            "top": null,
            "visibility": null,
            "width": null
          }
        },
        "f63cf20527c345c68143f302b0ef6a8d": {
          "model_module": "@jupyter-widgets/controls",
          "model_name": "ProgressStyleModel",
          "model_module_version": "1.5.0",
          "state": {
            "_model_module": "@jupyter-widgets/controls",
            "_model_module_version": "1.5.0",
            "_model_name": "ProgressStyleModel",
            "_view_count": null,
            "_view_module": "@jupyter-widgets/base",
            "_view_module_version": "1.2.0",
            "_view_name": "StyleView",
            "bar_color": null,
            "description_width": ""
          }
        },
        "ebf9bf95eef746c5af191c0b630c8ac6": {
          "model_module": "@jupyter-widgets/base",
          "model_name": "LayoutModel",
          "model_module_version": "1.2.0",
          "state": {
            "_model_module": "@jupyter-widgets/base",
            "_model_module_version": "1.2.0",
            "_model_name": "LayoutModel",
            "_view_count": null,
            "_view_module": "@jupyter-widgets/base",
            "_view_module_version": "1.2.0",
            "_view_name": "LayoutView",
            "align_content": null,
            "align_items": null,
            "align_self": null,
            "border": null,
            "bottom": null,
            "display": null,
            "flex": null,
            "flex_flow": null,
            "grid_area": null,
            "grid_auto_columns": null,
            "grid_auto_flow": null,
            "grid_auto_rows": null,
            "grid_column": null,
            "grid_gap": null,
            "grid_row": null,
            "grid_template_areas": null,
            "grid_template_columns": null,
            "grid_template_rows": null,
            "height": null,
            "justify_content": null,
            "justify_items": null,
            "left": null,
            "margin": null,
            "max_height": null,
            "max_width": null,
            "min_height": null,
            "min_width": null,
            "object_fit": null,
            "object_position": null,
            "order": null,
            "overflow": null,
            "overflow_x": null,
            "overflow_y": null,
            "padding": null,
            "right": null,
            "top": null,
            "visibility": null,
            "width": null
          }
        },
        "52923b929efe4bc0b26b705650b8ac35": {
          "model_module": "@jupyter-widgets/controls",
          "model_name": "DescriptionStyleModel",
          "model_module_version": "1.5.0",
          "state": {
            "_model_module": "@jupyter-widgets/controls",
            "_model_module_version": "1.5.0",
            "_model_name": "DescriptionStyleModel",
            "_view_count": null,
            "_view_module": "@jupyter-widgets/base",
            "_view_module_version": "1.2.0",
            "_view_name": "StyleView",
            "description_width": ""
          }
        },
        "aaeb72dabf9842f88b6807fa5f37256e": {
          "model_module": "@jupyter-widgets/controls",
          "model_name": "HBoxModel",
          "model_module_version": "1.5.0",
          "state": {
            "_dom_classes": [],
            "_model_module": "@jupyter-widgets/controls",
            "_model_module_version": "1.5.0",
            "_model_name": "HBoxModel",
            "_view_count": null,
            "_view_module": "@jupyter-widgets/controls",
            "_view_module_version": "1.5.0",
            "_view_name": "HBoxView",
            "box_style": "",
            "children": [
              "IPY_MODEL_1da767fd34214e34a73864e3fdb7ee7d",
              "IPY_MODEL_817f8ddf74024bc18de67aa4cad1a8b0",
              "IPY_MODEL_83bebf21046a48ae8ed8d5c1f919c056"
            ],
            "layout": "IPY_MODEL_06ab52047dce47ea9ce17362827114c7"
          }
        },
        "1da767fd34214e34a73864e3fdb7ee7d": {
          "model_module": "@jupyter-widgets/controls",
          "model_name": "HTMLModel",
          "model_module_version": "1.5.0",
          "state": {
            "_dom_classes": [],
            "_model_module": "@jupyter-widgets/controls",
            "_model_module_version": "1.5.0",
            "_model_name": "HTMLModel",
            "_view_count": null,
            "_view_module": "@jupyter-widgets/controls",
            "_view_module_version": "1.5.0",
            "_view_name": "HTMLView",
            "description": "",
            "description_tooltip": null,
            "layout": "IPY_MODEL_a42afbe3d6b54528a63c7c2d4fb6c3b9",
            "placeholder": "​",
            "style": "IPY_MODEL_88c43838b6904afaae0ab1fe99a40ca7",
            "value": "tokenizer_config.json: 100%"
          }
        },
        "817f8ddf74024bc18de67aa4cad1a8b0": {
          "model_module": "@jupyter-widgets/controls",
          "model_name": "FloatProgressModel",
          "model_module_version": "1.5.0",
          "state": {
            "_dom_classes": [],
            "_model_module": "@jupyter-widgets/controls",
            "_model_module_version": "1.5.0",
            "_model_name": "FloatProgressModel",
            "_view_count": null,
            "_view_module": "@jupyter-widgets/controls",
            "_view_module_version": "1.5.0",
            "_view_name": "ProgressView",
            "bar_style": "success",
            "description": "",
            "description_tooltip": null,
            "layout": "IPY_MODEL_d84c053d76f5472e9f059ef49d3519b5",
            "max": 350,
            "min": 0,
            "orientation": "horizontal",
            "style": "IPY_MODEL_ee144a3cabe74364bdf758c396c379ca",
            "value": 350
          }
        },
        "83bebf21046a48ae8ed8d5c1f919c056": {
          "model_module": "@jupyter-widgets/controls",
          "model_name": "HTMLModel",
          "model_module_version": "1.5.0",
          "state": {
            "_dom_classes": [],
            "_model_module": "@jupyter-widgets/controls",
            "_model_module_version": "1.5.0",
            "_model_name": "HTMLModel",
            "_view_count": null,
            "_view_module": "@jupyter-widgets/controls",
            "_view_module_version": "1.5.0",
            "_view_name": "HTMLView",
            "description": "",
            "description_tooltip": null,
            "layout": "IPY_MODEL_c91b3ed6cc1e4cdf818411d20373b940",
            "placeholder": "​",
            "style": "IPY_MODEL_eb843d8a1224401484eefe0c4d2cbefb",
            "value": " 350/350 [00:00&lt;00:00, 21.9kB/s]"
          }
        },
        "06ab52047dce47ea9ce17362827114c7": {
          "model_module": "@jupyter-widgets/base",
          "model_name": "LayoutModel",
          "model_module_version": "1.2.0",
          "state": {
            "_model_module": "@jupyter-widgets/base",
            "_model_module_version": "1.2.0",
            "_model_name": "LayoutModel",
            "_view_count": null,
            "_view_module": "@jupyter-widgets/base",
            "_view_module_version": "1.2.0",
            "_view_name": "LayoutView",
            "align_content": null,
            "align_items": null,
            "align_self": null,
            "border": null,
            "bottom": null,
            "display": null,
            "flex": null,
            "flex_flow": null,
            "grid_area": null,
            "grid_auto_columns": null,
            "grid_auto_flow": null,
            "grid_auto_rows": null,
            "grid_column": null,
            "grid_gap": null,
            "grid_row": null,
            "grid_template_areas": null,
            "grid_template_columns": null,
            "grid_template_rows": null,
            "height": null,
            "justify_content": null,
            "justify_items": null,
            "left": null,
            "margin": null,
            "max_height": null,
            "max_width": null,
            "min_height": null,
            "min_width": null,
            "object_fit": null,
            "object_position": null,
            "order": null,
            "overflow": null,
            "overflow_x": null,
            "overflow_y": null,
            "padding": null,
            "right": null,
            "top": null,
            "visibility": null,
            "width": null
          }
        },
        "a42afbe3d6b54528a63c7c2d4fb6c3b9": {
          "model_module": "@jupyter-widgets/base",
          "model_name": "LayoutModel",
          "model_module_version": "1.2.0",
          "state": {
            "_model_module": "@jupyter-widgets/base",
            "_model_module_version": "1.2.0",
            "_model_name": "LayoutModel",
            "_view_count": null,
            "_view_module": "@jupyter-widgets/base",
            "_view_module_version": "1.2.0",
            "_view_name": "LayoutView",
            "align_content": null,
            "align_items": null,
            "align_self": null,
            "border": null,
            "bottom": null,
            "display": null,
            "flex": null,
            "flex_flow": null,
            "grid_area": null,
            "grid_auto_columns": null,
            "grid_auto_flow": null,
            "grid_auto_rows": null,
            "grid_column": null,
            "grid_gap": null,
            "grid_row": null,
            "grid_template_areas": null,
            "grid_template_columns": null,
            "grid_template_rows": null,
            "height": null,
            "justify_content": null,
            "justify_items": null,
            "left": null,
            "margin": null,
            "max_height": null,
            "max_width": null,
            "min_height": null,
            "min_width": null,
            "object_fit": null,
            "object_position": null,
            "order": null,
            "overflow": null,
            "overflow_x": null,
            "overflow_y": null,
            "padding": null,
            "right": null,
            "top": null,
            "visibility": null,
            "width": null
          }
        },
        "88c43838b6904afaae0ab1fe99a40ca7": {
          "model_module": "@jupyter-widgets/controls",
          "model_name": "DescriptionStyleModel",
          "model_module_version": "1.5.0",
          "state": {
            "_model_module": "@jupyter-widgets/controls",
            "_model_module_version": "1.5.0",
            "_model_name": "DescriptionStyleModel",
            "_view_count": null,
            "_view_module": "@jupyter-widgets/base",
            "_view_module_version": "1.2.0",
            "_view_name": "StyleView",
            "description_width": ""
          }
        },
        "d84c053d76f5472e9f059ef49d3519b5": {
          "model_module": "@jupyter-widgets/base",
          "model_name": "LayoutModel",
          "model_module_version": "1.2.0",
          "state": {
            "_model_module": "@jupyter-widgets/base",
            "_model_module_version": "1.2.0",
            "_model_name": "LayoutModel",
            "_view_count": null,
            "_view_module": "@jupyter-widgets/base",
            "_view_module_version": "1.2.0",
            "_view_name": "LayoutView",
            "align_content": null,
            "align_items": null,
            "align_self": null,
            "border": null,
            "bottom": null,
            "display": null,
            "flex": null,
            "flex_flow": null,
            "grid_area": null,
            "grid_auto_columns": null,
            "grid_auto_flow": null,
            "grid_auto_rows": null,
            "grid_column": null,
            "grid_gap": null,
            "grid_row": null,
            "grid_template_areas": null,
            "grid_template_columns": null,
            "grid_template_rows": null,
            "height": null,
            "justify_content": null,
            "justify_items": null,
            "left": null,
            "margin": null,
            "max_height": null,
            "max_width": null,
            "min_height": null,
            "min_width": null,
            "object_fit": null,
            "object_position": null,
            "order": null,
            "overflow": null,
            "overflow_x": null,
            "overflow_y": null,
            "padding": null,
            "right": null,
            "top": null,
            "visibility": null,
            "width": null
          }
        },
        "ee144a3cabe74364bdf758c396c379ca": {
          "model_module": "@jupyter-widgets/controls",
          "model_name": "ProgressStyleModel",
          "model_module_version": "1.5.0",
          "state": {
            "_model_module": "@jupyter-widgets/controls",
            "_model_module_version": "1.5.0",
            "_model_name": "ProgressStyleModel",
            "_view_count": null,
            "_view_module": "@jupyter-widgets/base",
            "_view_module_version": "1.2.0",
            "_view_name": "StyleView",
            "bar_color": null,
            "description_width": ""
          }
        },
        "c91b3ed6cc1e4cdf818411d20373b940": {
          "model_module": "@jupyter-widgets/base",
          "model_name": "LayoutModel",
          "model_module_version": "1.2.0",
          "state": {
            "_model_module": "@jupyter-widgets/base",
            "_model_module_version": "1.2.0",
            "_model_name": "LayoutModel",
            "_view_count": null,
            "_view_module": "@jupyter-widgets/base",
            "_view_module_version": "1.2.0",
            "_view_name": "LayoutView",
            "align_content": null,
            "align_items": null,
            "align_self": null,
            "border": null,
            "bottom": null,
            "display": null,
            "flex": null,
            "flex_flow": null,
            "grid_area": null,
            "grid_auto_columns": null,
            "grid_auto_flow": null,
            "grid_auto_rows": null,
            "grid_column": null,
            "grid_gap": null,
            "grid_row": null,
            "grid_template_areas": null,
            "grid_template_columns": null,
            "grid_template_rows": null,
            "height": null,
            "justify_content": null,
            "justify_items": null,
            "left": null,
            "margin": null,
            "max_height": null,
            "max_width": null,
            "min_height": null,
            "min_width": null,
            "object_fit": null,
            "object_position": null,
            "order": null,
            "overflow": null,
            "overflow_x": null,
            "overflow_y": null,
            "padding": null,
            "right": null,
            "top": null,
            "visibility": null,
            "width": null
          }
        },
        "eb843d8a1224401484eefe0c4d2cbefb": {
          "model_module": "@jupyter-widgets/controls",
          "model_name": "DescriptionStyleModel",
          "model_module_version": "1.5.0",
          "state": {
            "_model_module": "@jupyter-widgets/controls",
            "_model_module_version": "1.5.0",
            "_model_name": "DescriptionStyleModel",
            "_view_count": null,
            "_view_module": "@jupyter-widgets/base",
            "_view_module_version": "1.2.0",
            "_view_name": "StyleView",
            "description_width": ""
          }
        },
        "692de5c8d64f4f39937e0786673ca21e": {
          "model_module": "@jupyter-widgets/controls",
          "model_name": "HBoxModel",
          "model_module_version": "1.5.0",
          "state": {
            "_dom_classes": [],
            "_model_module": "@jupyter-widgets/controls",
            "_model_module_version": "1.5.0",
            "_model_name": "HBoxModel",
            "_view_count": null,
            "_view_module": "@jupyter-widgets/controls",
            "_view_module_version": "1.5.0",
            "_view_name": "HBoxView",
            "box_style": "",
            "children": [
              "IPY_MODEL_c45b6181e5074275a1d3be99153d181a",
              "IPY_MODEL_f76a95abca0b472cb86aa7bde2b4560e",
              "IPY_MODEL_15d4d08d05bd4f409885c60c21254dad"
            ],
            "layout": "IPY_MODEL_3c71ad32e6e1479bbff014c6ac89033c"
          }
        },
        "c45b6181e5074275a1d3be99153d181a": {
          "model_module": "@jupyter-widgets/controls",
          "model_name": "HTMLModel",
          "model_module_version": "1.5.0",
          "state": {
            "_dom_classes": [],
            "_model_module": "@jupyter-widgets/controls",
            "_model_module_version": "1.5.0",
            "_model_name": "HTMLModel",
            "_view_count": null,
            "_view_module": "@jupyter-widgets/controls",
            "_view_module_version": "1.5.0",
            "_view_name": "HTMLView",
            "description": "",
            "description_tooltip": null,
            "layout": "IPY_MODEL_aad6cbdd1f724e8bb32ab759cc6758b0",
            "placeholder": "​",
            "style": "IPY_MODEL_59f681d59796466abb4a98c1bf046382",
            "value": "vocab.txt: 100%"
          }
        },
        "f76a95abca0b472cb86aa7bde2b4560e": {
          "model_module": "@jupyter-widgets/controls",
          "model_name": "FloatProgressModel",
          "model_module_version": "1.5.0",
          "state": {
            "_dom_classes": [],
            "_model_module": "@jupyter-widgets/controls",
            "_model_module_version": "1.5.0",
            "_model_name": "FloatProgressModel",
            "_view_count": null,
            "_view_module": "@jupyter-widgets/controls",
            "_view_module_version": "1.5.0",
            "_view_name": "ProgressView",
            "bar_style": "success",
            "description": "",
            "description_tooltip": null,
            "layout": "IPY_MODEL_a1e50e8055e543828752ace2a14eab96",
            "max": 231508,
            "min": 0,
            "orientation": "horizontal",
            "style": "IPY_MODEL_3970fd058e5442dbb167f5719886fbf6",
            "value": 231508
          }
        },
        "15d4d08d05bd4f409885c60c21254dad": {
          "model_module": "@jupyter-widgets/controls",
          "model_name": "HTMLModel",
          "model_module_version": "1.5.0",
          "state": {
            "_dom_classes": [],
            "_model_module": "@jupyter-widgets/controls",
            "_model_module_version": "1.5.0",
            "_model_name": "HTMLModel",
            "_view_count": null,
            "_view_module": "@jupyter-widgets/controls",
            "_view_module_version": "1.5.0",
            "_view_name": "HTMLView",
            "description": "",
            "description_tooltip": null,
            "layout": "IPY_MODEL_3fb4a72d76ad4f9795ed097db6230da6",
            "placeholder": "​",
            "style": "IPY_MODEL_92594241fce14604aaf9f690d4c3cf4f",
            "value": " 232k/232k [00:00&lt;00:00, 9.68MB/s]"
          }
        },
        "3c71ad32e6e1479bbff014c6ac89033c": {
          "model_module": "@jupyter-widgets/base",
          "model_name": "LayoutModel",
          "model_module_version": "1.2.0",
          "state": {
            "_model_module": "@jupyter-widgets/base",
            "_model_module_version": "1.2.0",
            "_model_name": "LayoutModel",
            "_view_count": null,
            "_view_module": "@jupyter-widgets/base",
            "_view_module_version": "1.2.0",
            "_view_name": "LayoutView",
            "align_content": null,
            "align_items": null,
            "align_self": null,
            "border": null,
            "bottom": null,
            "display": null,
            "flex": null,
            "flex_flow": null,
            "grid_area": null,
            "grid_auto_columns": null,
            "grid_auto_flow": null,
            "grid_auto_rows": null,
            "grid_column": null,
            "grid_gap": null,
            "grid_row": null,
            "grid_template_areas": null,
            "grid_template_columns": null,
            "grid_template_rows": null,
            "height": null,
            "justify_content": null,
            "justify_items": null,
            "left": null,
            "margin": null,
            "max_height": null,
            "max_width": null,
            "min_height": null,
            "min_width": null,
            "object_fit": null,
            "object_position": null,
            "order": null,
            "overflow": null,
            "overflow_x": null,
            "overflow_y": null,
            "padding": null,
            "right": null,
            "top": null,
            "visibility": null,
            "width": null
          }
        },
        "aad6cbdd1f724e8bb32ab759cc6758b0": {
          "model_module": "@jupyter-widgets/base",
          "model_name": "LayoutModel",
          "model_module_version": "1.2.0",
          "state": {
            "_model_module": "@jupyter-widgets/base",
            "_model_module_version": "1.2.0",
            "_model_name": "LayoutModel",
            "_view_count": null,
            "_view_module": "@jupyter-widgets/base",
            "_view_module_version": "1.2.0",
            "_view_name": "LayoutView",
            "align_content": null,
            "align_items": null,
            "align_self": null,
            "border": null,
            "bottom": null,
            "display": null,
            "flex": null,
            "flex_flow": null,
            "grid_area": null,
            "grid_auto_columns": null,
            "grid_auto_flow": null,
            "grid_auto_rows": null,
            "grid_column": null,
            "grid_gap": null,
            "grid_row": null,
            "grid_template_areas": null,
            "grid_template_columns": null,
            "grid_template_rows": null,
            "height": null,
            "justify_content": null,
            "justify_items": null,
            "left": null,
            "margin": null,
            "max_height": null,
            "max_width": null,
            "min_height": null,
            "min_width": null,
            "object_fit": null,
            "object_position": null,
            "order": null,
            "overflow": null,
            "overflow_x": null,
            "overflow_y": null,
            "padding": null,
            "right": null,
            "top": null,
            "visibility": null,
            "width": null
          }
        },
        "59f681d59796466abb4a98c1bf046382": {
          "model_module": "@jupyter-widgets/controls",
          "model_name": "DescriptionStyleModel",
          "model_module_version": "1.5.0",
          "state": {
            "_model_module": "@jupyter-widgets/controls",
            "_model_module_version": "1.5.0",
            "_model_name": "DescriptionStyleModel",
            "_view_count": null,
            "_view_module": "@jupyter-widgets/base",
            "_view_module_version": "1.2.0",
            "_view_name": "StyleView",
            "description_width": ""
          }
        },
        "a1e50e8055e543828752ace2a14eab96": {
          "model_module": "@jupyter-widgets/base",
          "model_name": "LayoutModel",
          "model_module_version": "1.2.0",
          "state": {
            "_model_module": "@jupyter-widgets/base",
            "_model_module_version": "1.2.0",
            "_model_name": "LayoutModel",
            "_view_count": null,
            "_view_module": "@jupyter-widgets/base",
            "_view_module_version": "1.2.0",
            "_view_name": "LayoutView",
            "align_content": null,
            "align_items": null,
            "align_self": null,
            "border": null,
            "bottom": null,
            "display": null,
            "flex": null,
            "flex_flow": null,
            "grid_area": null,
            "grid_auto_columns": null,
            "grid_auto_flow": null,
            "grid_auto_rows": null,
            "grid_column": null,
            "grid_gap": null,
            "grid_row": null,
            "grid_template_areas": null,
            "grid_template_columns": null,
            "grid_template_rows": null,
            "height": null,
            "justify_content": null,
            "justify_items": null,
            "left": null,
            "margin": null,
            "max_height": null,
            "max_width": null,
            "min_height": null,
            "min_width": null,
            "object_fit": null,
            "object_position": null,
            "order": null,
            "overflow": null,
            "overflow_x": null,
            "overflow_y": null,
            "padding": null,
            "right": null,
            "top": null,
            "visibility": null,
            "width": null
          }
        },
        "3970fd058e5442dbb167f5719886fbf6": {
          "model_module": "@jupyter-widgets/controls",
          "model_name": "ProgressStyleModel",
          "model_module_version": "1.5.0",
          "state": {
            "_model_module": "@jupyter-widgets/controls",
            "_model_module_version": "1.5.0",
            "_model_name": "ProgressStyleModel",
            "_view_count": null,
            "_view_module": "@jupyter-widgets/base",
            "_view_module_version": "1.2.0",
            "_view_name": "StyleView",
            "bar_color": null,
            "description_width": ""
          }
        },
        "3fb4a72d76ad4f9795ed097db6230da6": {
          "model_module": "@jupyter-widgets/base",
          "model_name": "LayoutModel",
          "model_module_version": "1.2.0",
          "state": {
            "_model_module": "@jupyter-widgets/base",
            "_model_module_version": "1.2.0",
            "_model_name": "LayoutModel",
            "_view_count": null,
            "_view_module": "@jupyter-widgets/base",
            "_view_module_version": "1.2.0",
            "_view_name": "LayoutView",
            "align_content": null,
            "align_items": null,
            "align_self": null,
            "border": null,
            "bottom": null,
            "display": null,
            "flex": null,
            "flex_flow": null,
            "grid_area": null,
            "grid_auto_columns": null,
            "grid_auto_flow": null,
            "grid_auto_rows": null,
            "grid_column": null,
            "grid_gap": null,
            "grid_row": null,
            "grid_template_areas": null,
            "grid_template_columns": null,
            "grid_template_rows": null,
            "height": null,
            "justify_content": null,
            "justify_items": null,
            "left": null,
            "margin": null,
            "max_height": null,
            "max_width": null,
            "min_height": null,
            "min_width": null,
            "object_fit": null,
            "object_position": null,
            "order": null,
            "overflow": null,
            "overflow_x": null,
            "overflow_y": null,
            "padding": null,
            "right": null,
            "top": null,
            "visibility": null,
            "width": null
          }
        },
        "92594241fce14604aaf9f690d4c3cf4f": {
          "model_module": "@jupyter-widgets/controls",
          "model_name": "DescriptionStyleModel",
          "model_module_version": "1.5.0",
          "state": {
            "_model_module": "@jupyter-widgets/controls",
            "_model_module_version": "1.5.0",
            "_model_name": "DescriptionStyleModel",
            "_view_count": null,
            "_view_module": "@jupyter-widgets/base",
            "_view_module_version": "1.2.0",
            "_view_name": "StyleView",
            "description_width": ""
          }
        },
        "2af9807b08904ff4a38b52ef8924dd0e": {
          "model_module": "@jupyter-widgets/controls",
          "model_name": "HBoxModel",
          "model_module_version": "1.5.0",
          "state": {
            "_dom_classes": [],
            "_model_module": "@jupyter-widgets/controls",
            "_model_module_version": "1.5.0",
            "_model_name": "HBoxModel",
            "_view_count": null,
            "_view_module": "@jupyter-widgets/controls",
            "_view_module_version": "1.5.0",
            "_view_name": "HBoxView",
            "box_style": "",
            "children": [
              "IPY_MODEL_136a02ebbe2c44f2ad931e1f623e960c",
              "IPY_MODEL_8ed766b2ea0e4940ba64af8807999031",
              "IPY_MODEL_e2840857e8f446eca1f8c52f1a0d3689"
            ],
            "layout": "IPY_MODEL_f68a3578bc834af7a4041cd7cb899b69"
          }
        },
        "136a02ebbe2c44f2ad931e1f623e960c": {
          "model_module": "@jupyter-widgets/controls",
          "model_name": "HTMLModel",
          "model_module_version": "1.5.0",
          "state": {
            "_dom_classes": [],
            "_model_module": "@jupyter-widgets/controls",
            "_model_module_version": "1.5.0",
            "_model_name": "HTMLModel",
            "_view_count": null,
            "_view_module": "@jupyter-widgets/controls",
            "_view_module_version": "1.5.0",
            "_view_name": "HTMLView",
            "description": "",
            "description_tooltip": null,
            "layout": "IPY_MODEL_61dde1d472eb402da8a73c726b971115",
            "placeholder": "​",
            "style": "IPY_MODEL_fa94ce8d1346452b88a8300909ba5a41",
            "value": "tokenizer.json: 100%"
          }
        },
        "8ed766b2ea0e4940ba64af8807999031": {
          "model_module": "@jupyter-widgets/controls",
          "model_name": "FloatProgressModel",
          "model_module_version": "1.5.0",
          "state": {
            "_dom_classes": [],
            "_model_module": "@jupyter-widgets/controls",
            "_model_module_version": "1.5.0",
            "_model_name": "FloatProgressModel",
            "_view_count": null,
            "_view_module": "@jupyter-widgets/controls",
            "_view_module_version": "1.5.0",
            "_view_name": "ProgressView",
            "bar_style": "success",
            "description": "",
            "description_tooltip": null,
            "layout": "IPY_MODEL_586b3eb14ae94556a0687bc32ea42e3d",
            "max": 466247,
            "min": 0,
            "orientation": "horizontal",
            "style": "IPY_MODEL_9072fda02e5b4d908be71f489645a1b2",
            "value": 466247
          }
        },
        "e2840857e8f446eca1f8c52f1a0d3689": {
          "model_module": "@jupyter-widgets/controls",
          "model_name": "HTMLModel",
          "model_module_version": "1.5.0",
          "state": {
            "_dom_classes": [],
            "_model_module": "@jupyter-widgets/controls",
            "_model_module_version": "1.5.0",
            "_model_name": "HTMLModel",
            "_view_count": null,
            "_view_module": "@jupyter-widgets/controls",
            "_view_module_version": "1.5.0",
            "_view_name": "HTMLView",
            "description": "",
            "description_tooltip": null,
            "layout": "IPY_MODEL_bdb6e834388e44c98c5a8ebdcb5bff57",
            "placeholder": "​",
            "style": "IPY_MODEL_86c75be27ee9480394716947ef63e42e",
            "value": " 466k/466k [00:00&lt;00:00, 21.5MB/s]"
          }
        },
        "f68a3578bc834af7a4041cd7cb899b69": {
          "model_module": "@jupyter-widgets/base",
          "model_name": "LayoutModel",
          "model_module_version": "1.2.0",
          "state": {
            "_model_module": "@jupyter-widgets/base",
            "_model_module_version": "1.2.0",
            "_model_name": "LayoutModel",
            "_view_count": null,
            "_view_module": "@jupyter-widgets/base",
            "_view_module_version": "1.2.0",
            "_view_name": "LayoutView",
            "align_content": null,
            "align_items": null,
            "align_self": null,
            "border": null,
            "bottom": null,
            "display": null,
            "flex": null,
            "flex_flow": null,
            "grid_area": null,
            "grid_auto_columns": null,
            "grid_auto_flow": null,
            "grid_auto_rows": null,
            "grid_column": null,
            "grid_gap": null,
            "grid_row": null,
            "grid_template_areas": null,
            "grid_template_columns": null,
            "grid_template_rows": null,
            "height": null,
            "justify_content": null,
            "justify_items": null,
            "left": null,
            "margin": null,
            "max_height": null,
            "max_width": null,
            "min_height": null,
            "min_width": null,
            "object_fit": null,
            "object_position": null,
            "order": null,
            "overflow": null,
            "overflow_x": null,
            "overflow_y": null,
            "padding": null,
            "right": null,
            "top": null,
            "visibility": null,
            "width": null
          }
        },
        "61dde1d472eb402da8a73c726b971115": {
          "model_module": "@jupyter-widgets/base",
          "model_name": "LayoutModel",
          "model_module_version": "1.2.0",
          "state": {
            "_model_module": "@jupyter-widgets/base",
            "_model_module_version": "1.2.0",
            "_model_name": "LayoutModel",
            "_view_count": null,
            "_view_module": "@jupyter-widgets/base",
            "_view_module_version": "1.2.0",
            "_view_name": "LayoutView",
            "align_content": null,
            "align_items": null,
            "align_self": null,
            "border": null,
            "bottom": null,
            "display": null,
            "flex": null,
            "flex_flow": null,
            "grid_area": null,
            "grid_auto_columns": null,
            "grid_auto_flow": null,
            "grid_auto_rows": null,
            "grid_column": null,
            "grid_gap": null,
            "grid_row": null,
            "grid_template_areas": null,
            "grid_template_columns": null,
            "grid_template_rows": null,
            "height": null,
            "justify_content": null,
            "justify_items": null,
            "left": null,
            "margin": null,
            "max_height": null,
            "max_width": null,
            "min_height": null,
            "min_width": null,
            "object_fit": null,
            "object_position": null,
            "order": null,
            "overflow": null,
            "overflow_x": null,
            "overflow_y": null,
            "padding": null,
            "right": null,
            "top": null,
            "visibility": null,
            "width": null
          }
        },
        "fa94ce8d1346452b88a8300909ba5a41": {
          "model_module": "@jupyter-widgets/controls",
          "model_name": "DescriptionStyleModel",
          "model_module_version": "1.5.0",
          "state": {
            "_model_module": "@jupyter-widgets/controls",
            "_model_module_version": "1.5.0",
            "_model_name": "DescriptionStyleModel",
            "_view_count": null,
            "_view_module": "@jupyter-widgets/base",
            "_view_module_version": "1.2.0",
            "_view_name": "StyleView",
            "description_width": ""
          }
        },
        "586b3eb14ae94556a0687bc32ea42e3d": {
          "model_module": "@jupyter-widgets/base",
          "model_name": "LayoutModel",
          "model_module_version": "1.2.0",
          "state": {
            "_model_module": "@jupyter-widgets/base",
            "_model_module_version": "1.2.0",
            "_model_name": "LayoutModel",
            "_view_count": null,
            "_view_module": "@jupyter-widgets/base",
            "_view_module_version": "1.2.0",
            "_view_name": "LayoutView",
            "align_content": null,
            "align_items": null,
            "align_self": null,
            "border": null,
            "bottom": null,
            "display": null,
            "flex": null,
            "flex_flow": null,
            "grid_area": null,
            "grid_auto_columns": null,
            "grid_auto_flow": null,
            "grid_auto_rows": null,
            "grid_column": null,
            "grid_gap": null,
            "grid_row": null,
            "grid_template_areas": null,
            "grid_template_columns": null,
            "grid_template_rows": null,
            "height": null,
            "justify_content": null,
            "justify_items": null,
            "left": null,
            "margin": null,
            "max_height": null,
            "max_width": null,
            "min_height": null,
            "min_width": null,
            "object_fit": null,
            "object_position": null,
            "order": null,
            "overflow": null,
            "overflow_x": null,
            "overflow_y": null,
            "padding": null,
            "right": null,
            "top": null,
            "visibility": null,
            "width": null
          }
        },
        "9072fda02e5b4d908be71f489645a1b2": {
          "model_module": "@jupyter-widgets/controls",
          "model_name": "ProgressStyleModel",
          "model_module_version": "1.5.0",
          "state": {
            "_model_module": "@jupyter-widgets/controls",
            "_model_module_version": "1.5.0",
            "_model_name": "ProgressStyleModel",
            "_view_count": null,
            "_view_module": "@jupyter-widgets/base",
            "_view_module_version": "1.2.0",
            "_view_name": "StyleView",
            "bar_color": null,
            "description_width": ""
          }
        },
        "bdb6e834388e44c98c5a8ebdcb5bff57": {
          "model_module": "@jupyter-widgets/base",
          "model_name": "LayoutModel",
          "model_module_version": "1.2.0",
          "state": {
            "_model_module": "@jupyter-widgets/base",
            "_model_module_version": "1.2.0",
            "_model_name": "LayoutModel",
            "_view_count": null,
            "_view_module": "@jupyter-widgets/base",
            "_view_module_version": "1.2.0",
            "_view_name": "LayoutView",
            "align_content": null,
            "align_items": null,
            "align_self": null,
            "border": null,
            "bottom": null,
            "display": null,
            "flex": null,
            "flex_flow": null,
            "grid_area": null,
            "grid_auto_columns": null,
            "grid_auto_flow": null,
            "grid_auto_rows": null,
            "grid_column": null,
            "grid_gap": null,
            "grid_row": null,
            "grid_template_areas": null,
            "grid_template_columns": null,
            "grid_template_rows": null,
            "height": null,
            "justify_content": null,
            "justify_items": null,
            "left": null,
            "margin": null,
            "max_height": null,
            "max_width": null,
            "min_height": null,
            "min_width": null,
            "object_fit": null,
            "object_position": null,
            "order": null,
            "overflow": null,
            "overflow_x": null,
            "overflow_y": null,
            "padding": null,
            "right": null,
            "top": null,
            "visibility": null,
            "width": null
          }
        },
        "86c75be27ee9480394716947ef63e42e": {
          "model_module": "@jupyter-widgets/controls",
          "model_name": "DescriptionStyleModel",
          "model_module_version": "1.5.0",
          "state": {
            "_model_module": "@jupyter-widgets/controls",
            "_model_module_version": "1.5.0",
            "_model_name": "DescriptionStyleModel",
            "_view_count": null,
            "_view_module": "@jupyter-widgets/base",
            "_view_module_version": "1.2.0",
            "_view_name": "StyleView",
            "description_width": ""
          }
        },
        "fc4f8f638351478b8cc715a07a6b305d": {
          "model_module": "@jupyter-widgets/controls",
          "model_name": "HBoxModel",
          "model_module_version": "1.5.0",
          "state": {
            "_dom_classes": [],
            "_model_module": "@jupyter-widgets/controls",
            "_model_module_version": "1.5.0",
            "_model_name": "HBoxModel",
            "_view_count": null,
            "_view_module": "@jupyter-widgets/controls",
            "_view_module_version": "1.5.0",
            "_view_name": "HBoxView",
            "box_style": "",
            "children": [
              "IPY_MODEL_dcd14d83f1da410681c055c9e19f6c2a",
              "IPY_MODEL_b31f2d82afd84f3499840932d04fe044",
              "IPY_MODEL_d67c53cc1c504a7b8df5cbcfbddaa049"
            ],
            "layout": "IPY_MODEL_806074a6da4f45358ce8d3adcd878659"
          }
        },
        "dcd14d83f1da410681c055c9e19f6c2a": {
          "model_module": "@jupyter-widgets/controls",
          "model_name": "HTMLModel",
          "model_module_version": "1.5.0",
          "state": {
            "_dom_classes": [],
            "_model_module": "@jupyter-widgets/controls",
            "_model_module_version": "1.5.0",
            "_model_name": "HTMLModel",
            "_view_count": null,
            "_view_module": "@jupyter-widgets/controls",
            "_view_module_version": "1.5.0",
            "_view_name": "HTMLView",
            "description": "",
            "description_tooltip": null,
            "layout": "IPY_MODEL_5d6db66e3afe4474ba31d52df23feb6d",
            "placeholder": "​",
            "style": "IPY_MODEL_51eb2ae8143b4f8d8bf908d967742296",
            "value": "special_tokens_map.json: 100%"
          }
        },
        "b31f2d82afd84f3499840932d04fe044": {
          "model_module": "@jupyter-widgets/controls",
          "model_name": "FloatProgressModel",
          "model_module_version": "1.5.0",
          "state": {
            "_dom_classes": [],
            "_model_module": "@jupyter-widgets/controls",
            "_model_module_version": "1.5.0",
            "_model_name": "FloatProgressModel",
            "_view_count": null,
            "_view_module": "@jupyter-widgets/controls",
            "_view_module_version": "1.5.0",
            "_view_name": "ProgressView",
            "bar_style": "success",
            "description": "",
            "description_tooltip": null,
            "layout": "IPY_MODEL_48d14d8b8f7c42baa4b528af14281068",
            "max": 112,
            "min": 0,
            "orientation": "horizontal",
            "style": "IPY_MODEL_848a5d70edaf4da29717f3f5c6b6b2b9",
            "value": 112
          }
        },
        "d67c53cc1c504a7b8df5cbcfbddaa049": {
          "model_module": "@jupyter-widgets/controls",
          "model_name": "HTMLModel",
          "model_module_version": "1.5.0",
          "state": {
            "_dom_classes": [],
            "_model_module": "@jupyter-widgets/controls",
            "_model_module_version": "1.5.0",
            "_model_name": "HTMLModel",
            "_view_count": null,
            "_view_module": "@jupyter-widgets/controls",
            "_view_module_version": "1.5.0",
            "_view_name": "HTMLView",
            "description": "",
            "description_tooltip": null,
            "layout": "IPY_MODEL_ab6ed86f437a4ccba091787cb41d0736",
            "placeholder": "​",
            "style": "IPY_MODEL_136ab76bd6044304ae76c8505ccd4a7c",
            "value": " 112/112 [00:00&lt;00:00, 6.95kB/s]"
          }
        },
        "806074a6da4f45358ce8d3adcd878659": {
          "model_module": "@jupyter-widgets/base",
          "model_name": "LayoutModel",
          "model_module_version": "1.2.0",
          "state": {
            "_model_module": "@jupyter-widgets/base",
            "_model_module_version": "1.2.0",
            "_model_name": "LayoutModel",
            "_view_count": null,
            "_view_module": "@jupyter-widgets/base",
            "_view_module_version": "1.2.0",
            "_view_name": "LayoutView",
            "align_content": null,
            "align_items": null,
            "align_self": null,
            "border": null,
            "bottom": null,
            "display": null,
            "flex": null,
            "flex_flow": null,
            "grid_area": null,
            "grid_auto_columns": null,
            "grid_auto_flow": null,
            "grid_auto_rows": null,
            "grid_column": null,
            "grid_gap": null,
            "grid_row": null,
            "grid_template_areas": null,
            "grid_template_columns": null,
            "grid_template_rows": null,
            "height": null,
            "justify_content": null,
            "justify_items": null,
            "left": null,
            "margin": null,
            "max_height": null,
            "max_width": null,
            "min_height": null,
            "min_width": null,
            "object_fit": null,
            "object_position": null,
            "order": null,
            "overflow": null,
            "overflow_x": null,
            "overflow_y": null,
            "padding": null,
            "right": null,
            "top": null,
            "visibility": null,
            "width": null
          }
        },
        "5d6db66e3afe4474ba31d52df23feb6d": {
          "model_module": "@jupyter-widgets/base",
          "model_name": "LayoutModel",
          "model_module_version": "1.2.0",
          "state": {
            "_model_module": "@jupyter-widgets/base",
            "_model_module_version": "1.2.0",
            "_model_name": "LayoutModel",
            "_view_count": null,
            "_view_module": "@jupyter-widgets/base",
            "_view_module_version": "1.2.0",
            "_view_name": "LayoutView",
            "align_content": null,
            "align_items": null,
            "align_self": null,
            "border": null,
            "bottom": null,
            "display": null,
            "flex": null,
            "flex_flow": null,
            "grid_area": null,
            "grid_auto_columns": null,
            "grid_auto_flow": null,
            "grid_auto_rows": null,
            "grid_column": null,
            "grid_gap": null,
            "grid_row": null,
            "grid_template_areas": null,
            "grid_template_columns": null,
            "grid_template_rows": null,
            "height": null,
            "justify_content": null,
            "justify_items": null,
            "left": null,
            "margin": null,
            "max_height": null,
            "max_width": null,
            "min_height": null,
            "min_width": null,
            "object_fit": null,
            "object_position": null,
            "order": null,
            "overflow": null,
            "overflow_x": null,
            "overflow_y": null,
            "padding": null,
            "right": null,
            "top": null,
            "visibility": null,
            "width": null
          }
        },
        "51eb2ae8143b4f8d8bf908d967742296": {
          "model_module": "@jupyter-widgets/controls",
          "model_name": "DescriptionStyleModel",
          "model_module_version": "1.5.0",
          "state": {
            "_model_module": "@jupyter-widgets/controls",
            "_model_module_version": "1.5.0",
            "_model_name": "DescriptionStyleModel",
            "_view_count": null,
            "_view_module": "@jupyter-widgets/base",
            "_view_module_version": "1.2.0",
            "_view_name": "StyleView",
            "description_width": ""
          }
        },
        "48d14d8b8f7c42baa4b528af14281068": {
          "model_module": "@jupyter-widgets/base",
          "model_name": "LayoutModel",
          "model_module_version": "1.2.0",
          "state": {
            "_model_module": "@jupyter-widgets/base",
            "_model_module_version": "1.2.0",
            "_model_name": "LayoutModel",
            "_view_count": null,
            "_view_module": "@jupyter-widgets/base",
            "_view_module_version": "1.2.0",
            "_view_name": "LayoutView",
            "align_content": null,
            "align_items": null,
            "align_self": null,
            "border": null,
            "bottom": null,
            "display": null,
            "flex": null,
            "flex_flow": null,
            "grid_area": null,
            "grid_auto_columns": null,
            "grid_auto_flow": null,
            "grid_auto_rows": null,
            "grid_column": null,
            "grid_gap": null,
            "grid_row": null,
            "grid_template_areas": null,
            "grid_template_columns": null,
            "grid_template_rows": null,
            "height": null,
            "justify_content": null,
            "justify_items": null,
            "left": null,
            "margin": null,
            "max_height": null,
            "max_width": null,
            "min_height": null,
            "min_width": null,
            "object_fit": null,
            "object_position": null,
            "order": null,
            "overflow": null,
            "overflow_x": null,
            "overflow_y": null,
            "padding": null,
            "right": null,
            "top": null,
            "visibility": null,
            "width": null
          }
        },
        "848a5d70edaf4da29717f3f5c6b6b2b9": {
          "model_module": "@jupyter-widgets/controls",
          "model_name": "ProgressStyleModel",
          "model_module_version": "1.5.0",
          "state": {
            "_model_module": "@jupyter-widgets/controls",
            "_model_module_version": "1.5.0",
            "_model_name": "ProgressStyleModel",
            "_view_count": null,
            "_view_module": "@jupyter-widgets/base",
            "_view_module_version": "1.2.0",
            "_view_name": "StyleView",
            "bar_color": null,
            "description_width": ""
          }
        },
        "ab6ed86f437a4ccba091787cb41d0736": {
          "model_module": "@jupyter-widgets/base",
          "model_name": "LayoutModel",
          "model_module_version": "1.2.0",
          "state": {
            "_model_module": "@jupyter-widgets/base",
            "_model_module_version": "1.2.0",
            "_model_name": "LayoutModel",
            "_view_count": null,
            "_view_module": "@jupyter-widgets/base",
            "_view_module_version": "1.2.0",
            "_view_name": "LayoutView",
            "align_content": null,
            "align_items": null,
            "align_self": null,
            "border": null,
            "bottom": null,
            "display": null,
            "flex": null,
            "flex_flow": null,
            "grid_area": null,
            "grid_auto_columns": null,
            "grid_auto_flow": null,
            "grid_auto_rows": null,
            "grid_column": null,
            "grid_gap": null,
            "grid_row": null,
            "grid_template_areas": null,
            "grid_template_columns": null,
            "grid_template_rows": null,
            "height": null,
            "justify_content": null,
            "justify_items": null,
            "left": null,
            "margin": null,
            "max_height": null,
            "max_width": null,
            "min_height": null,
            "min_width": null,
            "object_fit": null,
            "object_position": null,
            "order": null,
            "overflow": null,
            "overflow_x": null,
            "overflow_y": null,
            "padding": null,
            "right": null,
            "top": null,
            "visibility": null,
            "width": null
          }
        },
        "136ab76bd6044304ae76c8505ccd4a7c": {
          "model_module": "@jupyter-widgets/controls",
          "model_name": "DescriptionStyleModel",
          "model_module_version": "1.5.0",
          "state": {
            "_model_module": "@jupyter-widgets/controls",
            "_model_module_version": "1.5.0",
            "_model_name": "DescriptionStyleModel",
            "_view_count": null,
            "_view_module": "@jupyter-widgets/base",
            "_view_module_version": "1.2.0",
            "_view_name": "StyleView",
            "description_width": ""
          }
        },
        "bac9eefbf4a14ea8bf9f84d2fea33c95": {
          "model_module": "@jupyter-widgets/controls",
          "model_name": "HBoxModel",
          "model_module_version": "1.5.0",
          "state": {
            "_dom_classes": [],
            "_model_module": "@jupyter-widgets/controls",
            "_model_module_version": "1.5.0",
            "_model_name": "HBoxModel",
            "_view_count": null,
            "_view_module": "@jupyter-widgets/controls",
            "_view_module_version": "1.5.0",
            "_view_name": "HBoxView",
            "box_style": "",
            "children": [
              "IPY_MODEL_5e8dcda1f0ab4114ae08303fd36ca721",
              "IPY_MODEL_1b1d0d00fdf74626ab766ff9d5112702",
              "IPY_MODEL_85980acfc4594e9a985280483194eda7"
            ],
            "layout": "IPY_MODEL_074536505f3745e58f13941a0306c763"
          }
        },
        "5e8dcda1f0ab4114ae08303fd36ca721": {
          "model_module": "@jupyter-widgets/controls",
          "model_name": "HTMLModel",
          "model_module_version": "1.5.0",
          "state": {
            "_dom_classes": [],
            "_model_module": "@jupyter-widgets/controls",
            "_model_module_version": "1.5.0",
            "_model_name": "HTMLModel",
            "_view_count": null,
            "_view_module": "@jupyter-widgets/controls",
            "_view_module_version": "1.5.0",
            "_view_name": "HTMLView",
            "description": "",
            "description_tooltip": null,
            "layout": "IPY_MODEL_dfa1c65e04fd4e808e6d177cf15d3622",
            "placeholder": "​",
            "style": "IPY_MODEL_d8e811c07e644d8c9a710ff241bfb0ed",
            "value": "1_Pooling/config.json: 100%"
          }
        },
        "1b1d0d00fdf74626ab766ff9d5112702": {
          "model_module": "@jupyter-widgets/controls",
          "model_name": "FloatProgressModel",
          "model_module_version": "1.5.0",
          "state": {
            "_dom_classes": [],
            "_model_module": "@jupyter-widgets/controls",
            "_model_module_version": "1.5.0",
            "_model_name": "FloatProgressModel",
            "_view_count": null,
            "_view_module": "@jupyter-widgets/controls",
            "_view_module_version": "1.5.0",
            "_view_name": "ProgressView",
            "bar_style": "success",
            "description": "",
            "description_tooltip": null,
            "layout": "IPY_MODEL_26b203721ead4b9695d65f2505f18b9d",
            "max": 190,
            "min": 0,
            "orientation": "horizontal",
            "style": "IPY_MODEL_d4723599e35b4dfbabff2ec945235790",
            "value": 190
          }
        },
        "85980acfc4594e9a985280483194eda7": {
          "model_module": "@jupyter-widgets/controls",
          "model_name": "HTMLModel",
          "model_module_version": "1.5.0",
          "state": {
            "_dom_classes": [],
            "_model_module": "@jupyter-widgets/controls",
            "_model_module_version": "1.5.0",
            "_model_name": "HTMLModel",
            "_view_count": null,
            "_view_module": "@jupyter-widgets/controls",
            "_view_module_version": "1.5.0",
            "_view_name": "HTMLView",
            "description": "",
            "description_tooltip": null,
            "layout": "IPY_MODEL_5ec28c396327408486fe39d90310a1cf",
            "placeholder": "​",
            "style": "IPY_MODEL_8a19f945f41a42978dac06dc254a8b41",
            "value": " 190/190 [00:00&lt;00:00, 6.07kB/s]"
          }
        },
        "074536505f3745e58f13941a0306c763": {
          "model_module": "@jupyter-widgets/base",
          "model_name": "LayoutModel",
          "model_module_version": "1.2.0",
          "state": {
            "_model_module": "@jupyter-widgets/base",
            "_model_module_version": "1.2.0",
            "_model_name": "LayoutModel",
            "_view_count": null,
            "_view_module": "@jupyter-widgets/base",
            "_view_module_version": "1.2.0",
            "_view_name": "LayoutView",
            "align_content": null,
            "align_items": null,
            "align_self": null,
            "border": null,
            "bottom": null,
            "display": null,
            "flex": null,
            "flex_flow": null,
            "grid_area": null,
            "grid_auto_columns": null,
            "grid_auto_flow": null,
            "grid_auto_rows": null,
            "grid_column": null,
            "grid_gap": null,
            "grid_row": null,
            "grid_template_areas": null,
            "grid_template_columns": null,
            "grid_template_rows": null,
            "height": null,
            "justify_content": null,
            "justify_items": null,
            "left": null,
            "margin": null,
            "max_height": null,
            "max_width": null,
            "min_height": null,
            "min_width": null,
            "object_fit": null,
            "object_position": null,
            "order": null,
            "overflow": null,
            "overflow_x": null,
            "overflow_y": null,
            "padding": null,
            "right": null,
            "top": null,
            "visibility": null,
            "width": null
          }
        },
        "dfa1c65e04fd4e808e6d177cf15d3622": {
          "model_module": "@jupyter-widgets/base",
          "model_name": "LayoutModel",
          "model_module_version": "1.2.0",
          "state": {
            "_model_module": "@jupyter-widgets/base",
            "_model_module_version": "1.2.0",
            "_model_name": "LayoutModel",
            "_view_count": null,
            "_view_module": "@jupyter-widgets/base",
            "_view_module_version": "1.2.0",
            "_view_name": "LayoutView",
            "align_content": null,
            "align_items": null,
            "align_self": null,
            "border": null,
            "bottom": null,
            "display": null,
            "flex": null,
            "flex_flow": null,
            "grid_area": null,
            "grid_auto_columns": null,
            "grid_auto_flow": null,
            "grid_auto_rows": null,
            "grid_column": null,
            "grid_gap": null,
            "grid_row": null,
            "grid_template_areas": null,
            "grid_template_columns": null,
            "grid_template_rows": null,
            "height": null,
            "justify_content": null,
            "justify_items": null,
            "left": null,
            "margin": null,
            "max_height": null,
            "max_width": null,
            "min_height": null,
            "min_width": null,
            "object_fit": null,
            "object_position": null,
            "order": null,
            "overflow": null,
            "overflow_x": null,
            "overflow_y": null,
            "padding": null,
            "right": null,
            "top": null,
            "visibility": null,
            "width": null
          }
        },
        "d8e811c07e644d8c9a710ff241bfb0ed": {
          "model_module": "@jupyter-widgets/controls",
          "model_name": "DescriptionStyleModel",
          "model_module_version": "1.5.0",
          "state": {
            "_model_module": "@jupyter-widgets/controls",
            "_model_module_version": "1.5.0",
            "_model_name": "DescriptionStyleModel",
            "_view_count": null,
            "_view_module": "@jupyter-widgets/base",
            "_view_module_version": "1.2.0",
            "_view_name": "StyleView",
            "description_width": ""
          }
        },
        "26b203721ead4b9695d65f2505f18b9d": {
          "model_module": "@jupyter-widgets/base",
          "model_name": "LayoutModel",
          "model_module_version": "1.2.0",
          "state": {
            "_model_module": "@jupyter-widgets/base",
            "_model_module_version": "1.2.0",
            "_model_name": "LayoutModel",
            "_view_count": null,
            "_view_module": "@jupyter-widgets/base",
            "_view_module_version": "1.2.0",
            "_view_name": "LayoutView",
            "align_content": null,
            "align_items": null,
            "align_self": null,
            "border": null,
            "bottom": null,
            "display": null,
            "flex": null,
            "flex_flow": null,
            "grid_area": null,
            "grid_auto_columns": null,
            "grid_auto_flow": null,
            "grid_auto_rows": null,
            "grid_column": null,
            "grid_gap": null,
            "grid_row": null,
            "grid_template_areas": null,
            "grid_template_columns": null,
            "grid_template_rows": null,
            "height": null,
            "justify_content": null,
            "justify_items": null,
            "left": null,
            "margin": null,
            "max_height": null,
            "max_width": null,
            "min_height": null,
            "min_width": null,
            "object_fit": null,
            "object_position": null,
            "order": null,
            "overflow": null,
            "overflow_x": null,
            "overflow_y": null,
            "padding": null,
            "right": null,
            "top": null,
            "visibility": null,
            "width": null
          }
        },
        "d4723599e35b4dfbabff2ec945235790": {
          "model_module": "@jupyter-widgets/controls",
          "model_name": "ProgressStyleModel",
          "model_module_version": "1.5.0",
          "state": {
            "_model_module": "@jupyter-widgets/controls",
            "_model_module_version": "1.5.0",
            "_model_name": "ProgressStyleModel",
            "_view_count": null,
            "_view_module": "@jupyter-widgets/base",
            "_view_module_version": "1.2.0",
            "_view_name": "StyleView",
            "bar_color": null,
            "description_width": ""
          }
        },
        "5ec28c396327408486fe39d90310a1cf": {
          "model_module": "@jupyter-widgets/base",
          "model_name": "LayoutModel",
          "model_module_version": "1.2.0",
          "state": {
            "_model_module": "@jupyter-widgets/base",
            "_model_module_version": "1.2.0",
            "_model_name": "LayoutModel",
            "_view_count": null,
            "_view_module": "@jupyter-widgets/base",
            "_view_module_version": "1.2.0",
            "_view_name": "LayoutView",
            "align_content": null,
            "align_items": null,
            "align_self": null,
            "border": null,
            "bottom": null,
            "display": null,
            "flex": null,
            "flex_flow": null,
            "grid_area": null,
            "grid_auto_columns": null,
            "grid_auto_flow": null,
            "grid_auto_rows": null,
            "grid_column": null,
            "grid_gap": null,
            "grid_row": null,
            "grid_template_areas": null,
            "grid_template_columns": null,
            "grid_template_rows": null,
            "height": null,
            "justify_content": null,
            "justify_items": null,
            "left": null,
            "margin": null,
            "max_height": null,
            "max_width": null,
            "min_height": null,
            "min_width": null,
            "object_fit": null,
            "object_position": null,
            "order": null,
            "overflow": null,
            "overflow_x": null,
            "overflow_y": null,
            "padding": null,
            "right": null,
            "top": null,
            "visibility": null,
            "width": null
          }
        },
        "8a19f945f41a42978dac06dc254a8b41": {
          "model_module": "@jupyter-widgets/controls",
          "model_name": "DescriptionStyleModel",
          "model_module_version": "1.5.0",
          "state": {
            "_model_module": "@jupyter-widgets/controls",
            "_model_module_version": "1.5.0",
            "_model_name": "DescriptionStyleModel",
            "_view_count": null,
            "_view_module": "@jupyter-widgets/base",
            "_view_module_version": "1.2.0",
            "_view_name": "StyleView",
            "description_width": ""
          }
        }
      }
    }
  },
  "nbformat": 4,
  "nbformat_minor": 0
}